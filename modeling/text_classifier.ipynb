{
  "nbformat": 4,
  "nbformat_minor": 0,
  "metadata": {
    "colab": {
      "provenance": [],
      "gpuType": "T4",
      "collapsed_sections": [
        "N1TevLONI091",
        "awklBlQ9kfJp"
      ]
    },
    "kernelspec": {
      "name": "python3",
      "display_name": "Python 3"
    },
    "language_info": {
      "name": "python"
    },
    "accelerator": "GPU"
  },
  "cells": [
    {
      "cell_type": "code",
      "execution_count": 1,
      "metadata": {
        "id": "ncLY0gBmuDjF"
      },
      "outputs": [],
      "source": [
        "import pandas as pd\n",
        "import tensorflow\n",
        "import tensorflow.keras as keras\n",
        "import numpy as np\n",
        "import matplotlib.pyplot as plt\n",
        "\n",
        "from sklearn.preprocessing import MinMaxScaler\n",
        "from sklearn.model_selection import train_test_split\n",
        "\n",
        "from imblearn.over_sampling import SMOTE, RandomOverSampler\n",
        "\n",
        "from keras.callbacks import ModelCheckpoint\n",
        "\n",
        "import ast\n",
        "import nltk\n",
        "\n",
        "from keras.preprocessing.text import Tokenizer\n",
        "from keras.preprocessing.sequence import pad_sequences\n",
        "\n",
        "from tqdm import tqdm\n",
        "tqdm.pandas()\n",
        "\n",
        "import pickle"
      ]
    },
    {
      "cell_type": "code",
      "source": [
        "#시드 고정\n",
        "import random\n",
        "random.seed(42)\n",
        "np.random.seed(42)\n",
        "tensorflow.random.set_seed(42)"
      ],
      "metadata": {
        "id": "tUONFXqBJCTQ"
      },
      "execution_count": 2,
      "outputs": []
    },
    {
      "cell_type": "code",
      "source": [
        "from google.colab import drive\n",
        "drive.mount('/content/drive')"
      ],
      "metadata": {
        "colab": {
          "base_uri": "https://localhost:8080/"
        },
        "id": "1j00AwlTgpQM",
        "outputId": "45be89e6-b75a-41da-e594-969441b5f645"
      },
      "execution_count": 3,
      "outputs": [
        {
          "output_type": "stream",
          "name": "stdout",
          "text": [
            "Mounted at /content/drive\n"
          ]
        }
      ]
    },
    {
      "cell_type": "code",
      "source": [
        "path= '/content/drive/MyDrive/election/'"
      ],
      "metadata": {
        "id": "gz3qyApAiIl6"
      },
      "execution_count": 4,
      "outputs": []
    },
    {
      "cell_type": "markdown",
      "source": [
        "## 데이터셋 만들기"
      ],
      "metadata": {
        "id": "JphnYBkrJCmo"
      }
    },
    {
      "cell_type": "code",
      "source": [
        "social_df = pd.read_csv(path+'merged_Data_final_v3.csv',index_col=0)\n",
        "social_df = social_df.reset_index()"
      ],
      "metadata": {
        "id": "uUaMzjsSnBfv"
      },
      "execution_count": 5,
      "outputs": []
    },
    {
      "cell_type": "code",
      "source": [
        "social_df"
      ],
      "metadata": {
        "colab": {
          "base_uri": "https://localhost:8080/",
          "height": 0
        },
        "id": "tcLuDJgEiCv7",
        "outputId": "0b88bff1-c5c1-43d9-bcf9-16030937177e"
      },
      "execution_count": 6,
      "outputs": [
        {
          "output_type": "execute_result",
          "data": {
            "text/plain": [
              "     Year  Approval_Rating         CPI       GDP  Employment status  \\\n",
              "0    1913        50.000000    9.883333    733625                4.4   \n",
              "1    1914        50.000000   10.016667    677455                8.0   \n",
              "2    1915        50.000000   10.108333    695924                9.7   \n",
              "3    1916        50.000000   10.883333    792425                4.8   \n",
              "4    1917        50.000000   12.825000    772825                4.8   \n",
              "..    ...              ...         ...       ...                ...   \n",
              "107  2020        41.100000  258.811167  20234100                8.1   \n",
              "108  2021        41.100000  270.969750  21407700                5.3   \n",
              "109  2022        41.354119  292.654917  21822000                3.6   \n",
              "110  2023        40.184738  304.701583  22376900                3.7   \n",
              "111  2024        38.565251  312.144500  22936322                4.0   \n",
              "\n",
              "     Current_Party  Party_Republican  \n",
              "0                0                 0  \n",
              "1                0                 0  \n",
              "2                0                 0  \n",
              "3                0                 0  \n",
              "4                0                 1  \n",
              "..             ...               ...  \n",
              "107              1                 0  \n",
              "108              0                 0  \n",
              "109              0                 0  \n",
              "110              0                 0  \n",
              "111              0                 0  \n",
              "\n",
              "[112 rows x 7 columns]"
            ],
            "text/html": [
              "\n",
              "  <div id=\"df-6b91ec59-d03b-4102-84ed-dd9a94a85fa0\" class=\"colab-df-container\">\n",
              "    <div>\n",
              "<style scoped>\n",
              "    .dataframe tbody tr th:only-of-type {\n",
              "        vertical-align: middle;\n",
              "    }\n",
              "\n",
              "    .dataframe tbody tr th {\n",
              "        vertical-align: top;\n",
              "    }\n",
              "\n",
              "    .dataframe thead th {\n",
              "        text-align: right;\n",
              "    }\n",
              "</style>\n",
              "<table border=\"1\" class=\"dataframe\">\n",
              "  <thead>\n",
              "    <tr style=\"text-align: right;\">\n",
              "      <th></th>\n",
              "      <th>Year</th>\n",
              "      <th>Approval_Rating</th>\n",
              "      <th>CPI</th>\n",
              "      <th>GDP</th>\n",
              "      <th>Employment status</th>\n",
              "      <th>Current_Party</th>\n",
              "      <th>Party_Republican</th>\n",
              "    </tr>\n",
              "  </thead>\n",
              "  <tbody>\n",
              "    <tr>\n",
              "      <th>0</th>\n",
              "      <td>1913</td>\n",
              "      <td>50.000000</td>\n",
              "      <td>9.883333</td>\n",
              "      <td>733625</td>\n",
              "      <td>4.4</td>\n",
              "      <td>0</td>\n",
              "      <td>0</td>\n",
              "    </tr>\n",
              "    <tr>\n",
              "      <th>1</th>\n",
              "      <td>1914</td>\n",
              "      <td>50.000000</td>\n",
              "      <td>10.016667</td>\n",
              "      <td>677455</td>\n",
              "      <td>8.0</td>\n",
              "      <td>0</td>\n",
              "      <td>0</td>\n",
              "    </tr>\n",
              "    <tr>\n",
              "      <th>2</th>\n",
              "      <td>1915</td>\n",
              "      <td>50.000000</td>\n",
              "      <td>10.108333</td>\n",
              "      <td>695924</td>\n",
              "      <td>9.7</td>\n",
              "      <td>0</td>\n",
              "      <td>0</td>\n",
              "    </tr>\n",
              "    <tr>\n",
              "      <th>3</th>\n",
              "      <td>1916</td>\n",
              "      <td>50.000000</td>\n",
              "      <td>10.883333</td>\n",
              "      <td>792425</td>\n",
              "      <td>4.8</td>\n",
              "      <td>0</td>\n",
              "      <td>0</td>\n",
              "    </tr>\n",
              "    <tr>\n",
              "      <th>4</th>\n",
              "      <td>1917</td>\n",
              "      <td>50.000000</td>\n",
              "      <td>12.825000</td>\n",
              "      <td>772825</td>\n",
              "      <td>4.8</td>\n",
              "      <td>0</td>\n",
              "      <td>1</td>\n",
              "    </tr>\n",
              "    <tr>\n",
              "      <th>...</th>\n",
              "      <td>...</td>\n",
              "      <td>...</td>\n",
              "      <td>...</td>\n",
              "      <td>...</td>\n",
              "      <td>...</td>\n",
              "      <td>...</td>\n",
              "      <td>...</td>\n",
              "    </tr>\n",
              "    <tr>\n",
              "      <th>107</th>\n",
              "      <td>2020</td>\n",
              "      <td>41.100000</td>\n",
              "      <td>258.811167</td>\n",
              "      <td>20234100</td>\n",
              "      <td>8.1</td>\n",
              "      <td>1</td>\n",
              "      <td>0</td>\n",
              "    </tr>\n",
              "    <tr>\n",
              "      <th>108</th>\n",
              "      <td>2021</td>\n",
              "      <td>41.100000</td>\n",
              "      <td>270.969750</td>\n",
              "      <td>21407700</td>\n",
              "      <td>5.3</td>\n",
              "      <td>0</td>\n",
              "      <td>0</td>\n",
              "    </tr>\n",
              "    <tr>\n",
              "      <th>109</th>\n",
              "      <td>2022</td>\n",
              "      <td>41.354119</td>\n",
              "      <td>292.654917</td>\n",
              "      <td>21822000</td>\n",
              "      <td>3.6</td>\n",
              "      <td>0</td>\n",
              "      <td>0</td>\n",
              "    </tr>\n",
              "    <tr>\n",
              "      <th>110</th>\n",
              "      <td>2023</td>\n",
              "      <td>40.184738</td>\n",
              "      <td>304.701583</td>\n",
              "      <td>22376900</td>\n",
              "      <td>3.7</td>\n",
              "      <td>0</td>\n",
              "      <td>0</td>\n",
              "    </tr>\n",
              "    <tr>\n",
              "      <th>111</th>\n",
              "      <td>2024</td>\n",
              "      <td>38.565251</td>\n",
              "      <td>312.144500</td>\n",
              "      <td>22936322</td>\n",
              "      <td>4.0</td>\n",
              "      <td>0</td>\n",
              "      <td>0</td>\n",
              "    </tr>\n",
              "  </tbody>\n",
              "</table>\n",
              "<p>112 rows × 7 columns</p>\n",
              "</div>\n",
              "    <div class=\"colab-df-buttons\">\n",
              "\n",
              "  <div class=\"colab-df-container\">\n",
              "    <button class=\"colab-df-convert\" onclick=\"convertToInteractive('df-6b91ec59-d03b-4102-84ed-dd9a94a85fa0')\"\n",
              "            title=\"Convert this dataframe to an interactive table.\"\n",
              "            style=\"display:none;\">\n",
              "\n",
              "  <svg xmlns=\"http://www.w3.org/2000/svg\" height=\"24px\" viewBox=\"0 -960 960 960\">\n",
              "    <path d=\"M120-120v-720h720v720H120Zm60-500h600v-160H180v160Zm220 220h160v-160H400v160Zm0 220h160v-160H400v160ZM180-400h160v-160H180v160Zm440 0h160v-160H620v160ZM180-180h160v-160H180v160Zm440 0h160v-160H620v160Z\"/>\n",
              "  </svg>\n",
              "    </button>\n",
              "\n",
              "  <style>\n",
              "    .colab-df-container {\n",
              "      display:flex;\n",
              "      gap: 12px;\n",
              "    }\n",
              "\n",
              "    .colab-df-convert {\n",
              "      background-color: #E8F0FE;\n",
              "      border: none;\n",
              "      border-radius: 50%;\n",
              "      cursor: pointer;\n",
              "      display: none;\n",
              "      fill: #1967D2;\n",
              "      height: 32px;\n",
              "      padding: 0 0 0 0;\n",
              "      width: 32px;\n",
              "    }\n",
              "\n",
              "    .colab-df-convert:hover {\n",
              "      background-color: #E2EBFA;\n",
              "      box-shadow: 0px 1px 2px rgba(60, 64, 67, 0.3), 0px 1px 3px 1px rgba(60, 64, 67, 0.15);\n",
              "      fill: #174EA6;\n",
              "    }\n",
              "\n",
              "    .colab-df-buttons div {\n",
              "      margin-bottom: 4px;\n",
              "    }\n",
              "\n",
              "    [theme=dark] .colab-df-convert {\n",
              "      background-color: #3B4455;\n",
              "      fill: #D2E3FC;\n",
              "    }\n",
              "\n",
              "    [theme=dark] .colab-df-convert:hover {\n",
              "      background-color: #434B5C;\n",
              "      box-shadow: 0px 1px 3px 1px rgba(0, 0, 0, 0.15);\n",
              "      filter: drop-shadow(0px 1px 2px rgba(0, 0, 0, 0.3));\n",
              "      fill: #FFFFFF;\n",
              "    }\n",
              "  </style>\n",
              "\n",
              "    <script>\n",
              "      const buttonEl =\n",
              "        document.querySelector('#df-6b91ec59-d03b-4102-84ed-dd9a94a85fa0 button.colab-df-convert');\n",
              "      buttonEl.style.display =\n",
              "        google.colab.kernel.accessAllowed ? 'block' : 'none';\n",
              "\n",
              "      async function convertToInteractive(key) {\n",
              "        const element = document.querySelector('#df-6b91ec59-d03b-4102-84ed-dd9a94a85fa0');\n",
              "        const dataTable =\n",
              "          await google.colab.kernel.invokeFunction('convertToInteractive',\n",
              "                                                    [key], {});\n",
              "        if (!dataTable) return;\n",
              "\n",
              "        const docLinkHtml = 'Like what you see? Visit the ' +\n",
              "          '<a target=\"_blank\" href=https://colab.research.google.com/notebooks/data_table.ipynb>data table notebook</a>'\n",
              "          + ' to learn more about interactive tables.';\n",
              "        element.innerHTML = '';\n",
              "        dataTable['output_type'] = 'display_data';\n",
              "        await google.colab.output.renderOutput(dataTable, element);\n",
              "        const docLink = document.createElement('div');\n",
              "        docLink.innerHTML = docLinkHtml;\n",
              "        element.appendChild(docLink);\n",
              "      }\n",
              "    </script>\n",
              "  </div>\n",
              "\n",
              "\n",
              "<div id=\"df-083361dd-9301-4552-8ed6-2556640914f9\">\n",
              "  <button class=\"colab-df-quickchart\" onclick=\"quickchart('df-083361dd-9301-4552-8ed6-2556640914f9')\"\n",
              "            title=\"Suggest charts\"\n",
              "            style=\"display:none;\">\n",
              "\n",
              "<svg xmlns=\"http://www.w3.org/2000/svg\" height=\"24px\"viewBox=\"0 0 24 24\"\n",
              "     width=\"24px\">\n",
              "    <g>\n",
              "        <path d=\"M19 3H5c-1.1 0-2 .9-2 2v14c0 1.1.9 2 2 2h14c1.1 0 2-.9 2-2V5c0-1.1-.9-2-2-2zM9 17H7v-7h2v7zm4 0h-2V7h2v10zm4 0h-2v-4h2v4z\"/>\n",
              "    </g>\n",
              "</svg>\n",
              "  </button>\n",
              "\n",
              "<style>\n",
              "  .colab-df-quickchart {\n",
              "      --bg-color: #E8F0FE;\n",
              "      --fill-color: #1967D2;\n",
              "      --hover-bg-color: #E2EBFA;\n",
              "      --hover-fill-color: #174EA6;\n",
              "      --disabled-fill-color: #AAA;\n",
              "      --disabled-bg-color: #DDD;\n",
              "  }\n",
              "\n",
              "  [theme=dark] .colab-df-quickchart {\n",
              "      --bg-color: #3B4455;\n",
              "      --fill-color: #D2E3FC;\n",
              "      --hover-bg-color: #434B5C;\n",
              "      --hover-fill-color: #FFFFFF;\n",
              "      --disabled-bg-color: #3B4455;\n",
              "      --disabled-fill-color: #666;\n",
              "  }\n",
              "\n",
              "  .colab-df-quickchart {\n",
              "    background-color: var(--bg-color);\n",
              "    border: none;\n",
              "    border-radius: 50%;\n",
              "    cursor: pointer;\n",
              "    display: none;\n",
              "    fill: var(--fill-color);\n",
              "    height: 32px;\n",
              "    padding: 0;\n",
              "    width: 32px;\n",
              "  }\n",
              "\n",
              "  .colab-df-quickchart:hover {\n",
              "    background-color: var(--hover-bg-color);\n",
              "    box-shadow: 0 1px 2px rgba(60, 64, 67, 0.3), 0 1px 3px 1px rgba(60, 64, 67, 0.15);\n",
              "    fill: var(--button-hover-fill-color);\n",
              "  }\n",
              "\n",
              "  .colab-df-quickchart-complete:disabled,\n",
              "  .colab-df-quickchart-complete:disabled:hover {\n",
              "    background-color: var(--disabled-bg-color);\n",
              "    fill: var(--disabled-fill-color);\n",
              "    box-shadow: none;\n",
              "  }\n",
              "\n",
              "  .colab-df-spinner {\n",
              "    border: 2px solid var(--fill-color);\n",
              "    border-color: transparent;\n",
              "    border-bottom-color: var(--fill-color);\n",
              "    animation:\n",
              "      spin 1s steps(1) infinite;\n",
              "  }\n",
              "\n",
              "  @keyframes spin {\n",
              "    0% {\n",
              "      border-color: transparent;\n",
              "      border-bottom-color: var(--fill-color);\n",
              "      border-left-color: var(--fill-color);\n",
              "    }\n",
              "    20% {\n",
              "      border-color: transparent;\n",
              "      border-left-color: var(--fill-color);\n",
              "      border-top-color: var(--fill-color);\n",
              "    }\n",
              "    30% {\n",
              "      border-color: transparent;\n",
              "      border-left-color: var(--fill-color);\n",
              "      border-top-color: var(--fill-color);\n",
              "      border-right-color: var(--fill-color);\n",
              "    }\n",
              "    40% {\n",
              "      border-color: transparent;\n",
              "      border-right-color: var(--fill-color);\n",
              "      border-top-color: var(--fill-color);\n",
              "    }\n",
              "    60% {\n",
              "      border-color: transparent;\n",
              "      border-right-color: var(--fill-color);\n",
              "    }\n",
              "    80% {\n",
              "      border-color: transparent;\n",
              "      border-right-color: var(--fill-color);\n",
              "      border-bottom-color: var(--fill-color);\n",
              "    }\n",
              "    90% {\n",
              "      border-color: transparent;\n",
              "      border-bottom-color: var(--fill-color);\n",
              "    }\n",
              "  }\n",
              "</style>\n",
              "\n",
              "  <script>\n",
              "    async function quickchart(key) {\n",
              "      const quickchartButtonEl =\n",
              "        document.querySelector('#' + key + ' button');\n",
              "      quickchartButtonEl.disabled = true;  // To prevent multiple clicks.\n",
              "      quickchartButtonEl.classList.add('colab-df-spinner');\n",
              "      try {\n",
              "        const charts = await google.colab.kernel.invokeFunction(\n",
              "            'suggestCharts', [key], {});\n",
              "      } catch (error) {\n",
              "        console.error('Error during call to suggestCharts:', error);\n",
              "      }\n",
              "      quickchartButtonEl.classList.remove('colab-df-spinner');\n",
              "      quickchartButtonEl.classList.add('colab-df-quickchart-complete');\n",
              "    }\n",
              "    (() => {\n",
              "      let quickchartButtonEl =\n",
              "        document.querySelector('#df-083361dd-9301-4552-8ed6-2556640914f9 button');\n",
              "      quickchartButtonEl.style.display =\n",
              "        google.colab.kernel.accessAllowed ? 'block' : 'none';\n",
              "    })();\n",
              "  </script>\n",
              "</div>\n",
              "\n",
              "  <div id=\"id_0074b9e0-e333-4ee7-93f5-eaa7c51161cd\">\n",
              "    <style>\n",
              "      .colab-df-generate {\n",
              "        background-color: #E8F0FE;\n",
              "        border: none;\n",
              "        border-radius: 50%;\n",
              "        cursor: pointer;\n",
              "        display: none;\n",
              "        fill: #1967D2;\n",
              "        height: 32px;\n",
              "        padding: 0 0 0 0;\n",
              "        width: 32px;\n",
              "      }\n",
              "\n",
              "      .colab-df-generate:hover {\n",
              "        background-color: #E2EBFA;\n",
              "        box-shadow: 0px 1px 2px rgba(60, 64, 67, 0.3), 0px 1px 3px 1px rgba(60, 64, 67, 0.15);\n",
              "        fill: #174EA6;\n",
              "      }\n",
              "\n",
              "      [theme=dark] .colab-df-generate {\n",
              "        background-color: #3B4455;\n",
              "        fill: #D2E3FC;\n",
              "      }\n",
              "\n",
              "      [theme=dark] .colab-df-generate:hover {\n",
              "        background-color: #434B5C;\n",
              "        box-shadow: 0px 1px 3px 1px rgba(0, 0, 0, 0.15);\n",
              "        filter: drop-shadow(0px 1px 2px rgba(0, 0, 0, 0.3));\n",
              "        fill: #FFFFFF;\n",
              "      }\n",
              "    </style>\n",
              "    <button class=\"colab-df-generate\" onclick=\"generateWithVariable('social_df')\"\n",
              "            title=\"Generate code using this dataframe.\"\n",
              "            style=\"display:none;\">\n",
              "\n",
              "  <svg xmlns=\"http://www.w3.org/2000/svg\" height=\"24px\"viewBox=\"0 0 24 24\"\n",
              "       width=\"24px\">\n",
              "    <path d=\"M7,19H8.4L18.45,9,17,7.55,7,17.6ZM5,21V16.75L18.45,3.32a2,2,0,0,1,2.83,0l1.4,1.43a1.91,1.91,0,0,1,.58,1.4,1.91,1.91,0,0,1-.58,1.4L9.25,21ZM18.45,9,17,7.55Zm-12,3A5.31,5.31,0,0,0,4.9,8.1,5.31,5.31,0,0,0,1,6.5,5.31,5.31,0,0,0,4.9,4.9,5.31,5.31,0,0,0,6.5,1,5.31,5.31,0,0,0,8.1,4.9,5.31,5.31,0,0,0,12,6.5,5.46,5.46,0,0,0,6.5,12Z\"/>\n",
              "  </svg>\n",
              "    </button>\n",
              "    <script>\n",
              "      (() => {\n",
              "      const buttonEl =\n",
              "        document.querySelector('#id_0074b9e0-e333-4ee7-93f5-eaa7c51161cd button.colab-df-generate');\n",
              "      buttonEl.style.display =\n",
              "        google.colab.kernel.accessAllowed ? 'block' : 'none';\n",
              "\n",
              "      buttonEl.onclick = () => {\n",
              "        google.colab.notebook.generateWithVariable('social_df');\n",
              "      }\n",
              "      })();\n",
              "    </script>\n",
              "  </div>\n",
              "\n",
              "    </div>\n",
              "  </div>\n"
            ],
            "application/vnd.google.colaboratory.intrinsic+json": {
              "type": "dataframe",
              "variable_name": "social_df",
              "summary": "{\n  \"name\": \"social_df\",\n  \"rows\": 112,\n  \"fields\": [\n    {\n      \"column\": \"Year\",\n      \"properties\": {\n        \"dtype\": \"number\",\n        \"std\": 32,\n        \"min\": 1913,\n        \"max\": 2024,\n        \"num_unique_values\": 112,\n        \"samples\": [\n          1953,\n          1978,\n          1917\n        ],\n        \"semantic_type\": \"\",\n        \"description\": \"\"\n      }\n    },\n    {\n      \"column\": \"Approval_Rating\",\n      \"properties\": {\n        \"dtype\": \"number\",\n        \"std\": 7.4490438181198755,\n        \"min\": 38.5652506042714,\n        \"max\": 70.1,\n        \"num_unique_values\": 19,\n        \"samples\": [\n          50.0,\n          65.0,\n          52.8\n        ],\n        \"semantic_type\": \"\",\n        \"description\": \"\"\n      }\n    },\n    {\n      \"column\": \"CPI\",\n      \"properties\": {\n        \"dtype\": \"number\",\n        \"std\": 87.89104630303787,\n        \"min\": 9.88333333333334,\n        \"max\": 312.1445,\n        \"num_unique_values\": 111,\n        \"samples\": [\n          140.316666666667,\n          17.05,\n          12.825\n        ],\n        \"semantic_type\": \"\",\n        \"description\": \"\"\n      }\n    },\n    {\n      \"column\": \"GDP\",\n      \"properties\": {\n        \"dtype\": \"number\",\n        \"std\": 6624365,\n        \"min\": 677455,\n        \"max\": 22936322,\n        \"num_unique_values\": 112,\n        \"samples\": [\n          2894400,\n          7052700,\n          772825\n        ],\n        \"semantic_type\": \"\",\n        \"description\": \"\"\n      }\n    },\n    {\n      \"column\": \"Employment status\",\n      \"properties\": {\n        \"dtype\": \"number\",\n        \"std\": 4.421156777615136,\n        \"min\": 1.2,\n        \"max\": 24.9,\n        \"num_unique_values\": 65,\n        \"samples\": [\n          6.2,\n          4.6,\n          4.4\n        ],\n        \"semantic_type\": \"\",\n        \"description\": \"\"\n      }\n    },\n    {\n      \"column\": \"Current_Party\",\n      \"properties\": {\n        \"dtype\": \"number\",\n        \"std\": 0,\n        \"min\": 0,\n        \"max\": 1,\n        \"num_unique_values\": 2,\n        \"samples\": [\n          1,\n          0\n        ],\n        \"semantic_type\": \"\",\n        \"description\": \"\"\n      }\n    },\n    {\n      \"column\": \"Party_Republican\",\n      \"properties\": {\n        \"dtype\": \"number\",\n        \"std\": 0,\n        \"min\": 0,\n        \"max\": 1,\n        \"num_unique_values\": 2,\n        \"samples\": [\n          1,\n          0\n        ],\n        \"semantic_type\": \"\",\n        \"description\": \"\"\n      }\n    }\n  ]\n}"
            }
          },
          "metadata": {},
          "execution_count": 6
        }
      ]
    },
    {
      "cell_type": "code",
      "source": [
        "social_x = social_df.drop(\"Party_Republican\",axis=1)\n",
        "social_y = social_df[\"Party_Republican\"]\n",
        "\n",
        "combined_4year_x = list()\n",
        "for i in range(0,social_x.values.shape[0],4):\n",
        "  combined_4year_x.append(social_x.values[i:i+4])\n",
        "\n",
        "combined_4year_y = list()\n",
        "for i in range(0,social_y.values.shape[0],4):\n",
        "  combined_4year_y.append(social_y.values[i+3])\n",
        "\n",
        "combined_4year_x = np.array(combined_4year_x)\n",
        "combined_4year_y = np.array(combined_4year_y)\n",
        "\n",
        "social_test_x = combined_4year_x[-1:]\n",
        "social_test_y = combined_4year_y[-1:]\n",
        "\n",
        "\n",
        "social_train_x = combined_4year_x[:-1]\n",
        "social_train_y = combined_4year_y[:-1]\n",
        "\n",
        "from sklearn.model_selection import train_test_split\n",
        "\n",
        "social_train_x, social_valid_x, social_train_y, social_valid_y = train_test_split(social_train_x, social_train_y, test_size=0.2, random_state=42)"
      ],
      "metadata": {
        "id": "TIzB7cWMiV9E"
      },
      "execution_count": 7,
      "outputs": []
    },
    {
      "cell_type": "code",
      "source": [
        "# with open(path+'train_x.pkl','wb') as f:\n",
        "#   pickle.dump(social_train_x,f)\n",
        "\n",
        "# with open(path+'train_y.pkl','wb') as f:\n",
        "#   pickle.dump(social_train_y,f)\n",
        "\n",
        "# with open(path+'valid_x.pkl','wb') as f:\n",
        "#   pickle.dump(social_valid_x,f)\n",
        "\n",
        "# with open(path+'valid_y.pkl','wb') as f:\n",
        "#   pickle.dump(social_valid_y,f)\n",
        "\n",
        "# with open(path+'test_x.pkl','wb') as f:\n",
        "#   pickle.dump(social_test_x,f)\n",
        "\n",
        "# with open(path+'test_y.pkl','wb') as f:\n",
        "#   pickle.dump(social_test_y,f)"
      ],
      "metadata": {
        "id": "5v-vHG8hTZL3"
      },
      "execution_count": 8,
      "outputs": []
    },
    {
      "cell_type": "code",
      "source": [
        "with open(path+'train_x.pkl','rb') as f:\n",
        "  social_train_x = pickle.load(f)\n",
        "\n",
        "with open(path+'train_y.pkl','rb') as f:\n",
        "  social_train_y = pickle.load(f)\n",
        "\n",
        "with open(path+'valid_x.pkl','rb') as f:\n",
        "  social_valid_x = pickle.load(f)\n",
        "\n",
        "with open(path+'valid_y.pkl','rb') as f:\n",
        "  social_valid_y = pickle.load(f)\n",
        "\n",
        "with open(path+'test_x.pkl','rb') as f:\n",
        "  social_test_x = pickle.load(f)\n",
        "\n",
        "with open(path+'test_y.pkl','rb') as f:\n",
        "  social_test_y = pickle.load(f)"
      ],
      "metadata": {
        "id": "K_K3hEe6nHhv"
      },
      "execution_count": 9,
      "outputs": []
    },
    {
      "cell_type": "code",
      "source": [
        "text_df = pd.read_csv(path+'text_features.csv', index_col=0)\n",
        "\n",
        "recent_df = pd.read_csv(path+'2024_text_features.csv', index_col=0)"
      ],
      "metadata": {
        "id": "MSPqfFq6JELz"
      },
      "execution_count": 10,
      "outputs": []
    },
    {
      "cell_type": "code",
      "source": [
        "def add_year(df):\n",
        "  df[\"speech_year\"] = df[\"date\"].apply(lambda x: x.rstrip()[-4:])\n",
        "  return\n",
        "\n",
        "add_year(text_df)\n",
        "add_year(recent_df)"
      ],
      "metadata": {
        "id": "FicFLV_qK4Rv"
      },
      "execution_count": 11,
      "outputs": []
    },
    {
      "cell_type": "code",
      "source": [
        "text_df[\"speech_year\"] = text_df[\"speech_year\"].astype(np.int64)\n",
        "recent_df[\"speech_year\"] = recent_df[\"speech_year\"].astype(np.int64)"
      ],
      "metadata": {
        "id": "yj7cfqFcnwoU"
      },
      "execution_count": 12,
      "outputs": []
    },
    {
      "cell_type": "code",
      "source": [
        "text_df = text_df.drop([\"keywords\",\"sentiment\",\"speech_processed\"],axis=1)\n",
        "recent_df = recent_df.drop([\"keywords\",\"sentiment\",\"speech_processed\"],axis=1)"
      ],
      "metadata": {
        "id": "oK3QortZETFD"
      },
      "execution_count": 13,
      "outputs": []
    },
    {
      "cell_type": "code",
      "source": [
        "# text_df.to_csv('text_df.csv')\n",
        "# recent_df.to_csv('recent_df.csv')"
      ],
      "metadata": {
        "id": "Eq9yajEX-Alh"
      },
      "execution_count": 14,
      "outputs": []
    },
    {
      "cell_type": "code",
      "source": [
        "text_df[\"speech_divide_to_10\"] = text_df[\"speech_processed2\"].apply(lambda x: ast.literal_eval(x)).apply(lambda x: [x[i:min(len(x),i+100)] for i in range(0,len(x),100)])\n",
        "recent_df[\"speech_divide_to_10\"] = recent_df[\"speech_processed2\"].apply(lambda x: ast.literal_eval(x)).apply(lambda x: [x[i:min(len(x),i+100)] for i in range(0,len(x),100)])"
      ],
      "metadata": {
        "id": "OI9sc99rY54Q"
      },
      "execution_count": 15,
      "outputs": []
    },
    {
      "cell_type": "code",
      "source": [
        "merged_text_df = pd.merge(text_df,social_df,how='left',left_on='speech_year', right_on='Year',suffixes=[None,\"_y\"])\n",
        "# merged_text_df.to_csv('merged_text_data.csv')"
      ],
      "metadata": {
        "id": "kVdRj0L_nTar"
      },
      "execution_count": 16,
      "outputs": []
    },
    {
      "cell_type": "code",
      "source": [
        "merged_test_df = pd.merge(recent_df,social_df,how='left',left_on='speech_year', right_on='Year',suffixes=[None,\"_y\"])\n",
        "# merged_test_df.to_csv('merged_test_data.csv')"
      ],
      "metadata": {
        "id": "UYQl16l-ollr"
      },
      "execution_count": 17,
      "outputs": []
    },
    {
      "cell_type": "code",
      "source": [
        "# merged_text_df = pd.read_csv('merged_text_data.csv',index_col=0)\n",
        "# merged_test_df = pd.read_csv('merged_test_data.csv',index_col=0)"
      ],
      "metadata": {
        "id": "8bm1f3L_t2Ss"
      },
      "execution_count": 18,
      "outputs": []
    },
    {
      "cell_type": "code",
      "source": [
        "merged_text_df[\"speech_divide_to_10\"] = merged_text_df[\"speech_processed2\"].apply(lambda x: ast.literal_eval(x)).apply(lambda x: [x[i:min(len(x),i+100)] for i in range(0,len(x),100)])"
      ],
      "metadata": {
        "id": "JHrVUifpdvYX"
      },
      "execution_count": 19,
      "outputs": []
    },
    {
      "cell_type": "code",
      "source": [
        "len(merged_text_df[\"speech_divide_to_10\"].values[0][0])"
      ],
      "metadata": {
        "colab": {
          "base_uri": "https://localhost:8080/"
        },
        "id": "6Vhnj9Datj_w",
        "outputId": "32285b41-b348-4aa0-bee6-b0f982970a77"
      },
      "execution_count": 20,
      "outputs": [
        {
          "output_type": "execute_result",
          "data": {
            "text/plain": [
              "100"
            ]
          },
          "metadata": {},
          "execution_count": 20
        }
      ]
    },
    {
      "cell_type": "code",
      "source": [
        "merged_test_df[\"speech_divide_to_10\"] = merged_test_df[\"speech_processed2\"].apply(lambda x: ast.literal_eval(x)).apply(lambda x: [x[i:min(len(x),i+100)] for i in range(0,len(x),100)])"
      ],
      "metadata": {
        "id": "537_mL1Vl_Lq"
      },
      "execution_count": 21,
      "outputs": []
    },
    {
      "cell_type": "code",
      "source": [
        "def name_to_number(name):\n",
        "  if 'Biden'.lower() in name.lower():\n",
        "    return 0\n",
        "  elif 'Trump'.lower() in name.lower():\n",
        "    return 1\n",
        "  else:\n",
        "    return -1\n",
        "merged_test_df[\"elected\"] = merged_test_df[\"name\"].apply(name_to_number)"
      ],
      "metadata": {
        "id": "qRhyi97XR--e"
      },
      "execution_count": 22,
      "outputs": []
    },
    {
      "cell_type": "code",
      "source": [
        "train_df, valid_df = train_test_split(merged_text_df, test_size=0.2, random_state=42)\n",
        "# train_df.to_csv(path+'train_data.csv')\n",
        "# valid_df.to_csv(path+'valid_data.csv')\n",
        "# merged_test_df.to_csv(path+'test_data.csv')\n"
      ],
      "metadata": {
        "id": "z5wlp3wJju-q"
      },
      "execution_count": 23,
      "outputs": []
    },
    {
      "cell_type": "code",
      "source": [
        "test_df = merged_test_df"
      ],
      "metadata": {
        "id": "c1y85yNQpXff"
      },
      "execution_count": 24,
      "outputs": []
    },
    {
      "cell_type": "code",
      "source": [
        "# train_df = pd.read_csv('train_data.csv',index_col=0)\n",
        "# valid_df = pd.read_csv('valid_data.csv',index_col=0)\n",
        "# test_df = pd.read_csv('test_data.csv',index_col=0)"
      ],
      "metadata": {
        "id": "FQ9llpLDAKCC"
      },
      "execution_count": 25,
      "outputs": []
    },
    {
      "cell_type": "code",
      "source": [
        "# train_df.to_csv('train_data.csv')\n",
        "# valid_df.to_csv('valid_data.csv')\n",
        "# test_df.to_csv('test_data.csv')"
      ],
      "metadata": {
        "id": "Dr6sEa379P99"
      },
      "execution_count": 26,
      "outputs": []
    },
    {
      "cell_type": "markdown",
      "source": [
        "## 주제별 Importance 사용한 예측 모델"
      ],
      "metadata": {
        "id": "N1TevLONI091"
      }
    },
    {
      "cell_type": "code",
      "source": [
        "importance_columns = ['Year', 'environment_importance',\n",
        "       'economy_importance', 'diplomacy_importance', 'immigration_importance',\n",
        "       'justice_importance', 'education_importance', 'Healthcare_importance',\n",
        "       'military_importance', 'ideal_importance', 'elected']\n",
        "\n",
        "train_importance_df, valid_importance_df = train_test_split(text_df[importance_columns], test_size=0.2, random_state=42)\n",
        "\n",
        "\n",
        "# train_importance_df = train_df[['Year', 'environment_importance',\n",
        "#        'economy_importance', 'diplomacy_importance', 'immigration_importance',\n",
        "#        'justice_importance', 'education_importance', 'Healthcare_importance',\n",
        "#        'military_importance', 'ideal_importance', 'elected']]\n",
        "\n",
        "# valid_importance_df = valid_df[['Year', 'environment_importance',\n",
        "#        'economy_importance', 'diplomacy_importance', 'immigration_importance',\n",
        "#        'justice_importance', 'education_importance', 'Healthcare_importance',\n",
        "#        'military_importance', 'ideal_importance', 'elected']]\n",
        "\n",
        "test_importance_df = recent_df[importance_columns]"
      ],
      "metadata": {
        "id": "UTktQww8KpT9"
      },
      "execution_count": 27,
      "outputs": []
    },
    {
      "cell_type": "code",
      "source": [
        "# train_importance_df.to_csv(path+'train_importance_data.csv')\n",
        "# valid_importance_df.to_csv(path+'valid_importance_data.csv')\n",
        "# test_importance_df.to_csv(path+'test_importance_data.csv')\n"
      ],
      "metadata": {
        "id": "gpDR8fKI6X0H"
      },
      "execution_count": 28,
      "outputs": []
    },
    {
      "cell_type": "code",
      "source": [
        "importance_train_x_df = train_importance_df.drop('elected',axis=1)\n",
        "importance_train_y_df = train_importance_df['elected']\n",
        "\n",
        "importance_valid_x_df = valid_importance_df.drop('elected',axis=1)\n",
        "importance_valid_y_df = valid_importance_df['elected']\n",
        "\n",
        "importance_test_x_df = test_importance_df.drop('elected',axis=1)\n",
        "importance_test_y_df = test_importance_df['elected']"
      ],
      "metadata": {
        "id": "F_K9aAVBQDf2"
      },
      "execution_count": 29,
      "outputs": []
    },
    {
      "cell_type": "code",
      "source": [
        "importance_scaler = MinMaxScaler()\n",
        "importance_train_x = importance_scaler.fit_transform(importance_train_x_df)\n",
        "importance_valid_x = importance_scaler.transform(importance_valid_x_df)\n",
        "\n",
        "importance_test_x = importance_scaler.transform(importance_test_x_df)\n",
        "\n",
        "importance_train_y = np.array(importance_train_y_df)\n",
        "importance_valid_y = np.array(importance_valid_y_df)\n",
        "importance_test_y = np.array(importance_test_y_df)"
      ],
      "metadata": {
        "id": "WUBfQ6ZHLvZ7"
      },
      "execution_count": 30,
      "outputs": []
    },
    {
      "cell_type": "code",
      "source": [
        "#hyperparameters\n",
        "\n",
        "lr = 1e-3\n",
        "dropout_p = 0.5\n",
        "num_epochs = 200"
      ],
      "metadata": {
        "id": "DZwHFYVWOp_t"
      },
      "execution_count": 31,
      "outputs": []
    },
    {
      "cell_type": "code",
      "source": [
        "def get_importance_model(num_features,hidden_layers=[64]):\n",
        "  input = keras.layers.Input(num_features)\n",
        "  x = keras.layers.Dense(128,activation='relu')(input)\n",
        "  x = keras.layers.Dropout(dropout_p)(x)\n",
        "  # x = keras.layers.Dense(64,activation='relu')(input)\n",
        "  if hidden_layers:\n",
        "    for layer in hidden_layers:\n",
        "      x = keras.layers.Dense(layer, activation='relu')(x)\n",
        "  # x = keras.layers.Dropout(dropout_p)\n",
        "  output = keras.layers.Dense(1,activation='sigmoid')(x)\n",
        "\n",
        "  return keras.Model(input,output)"
      ],
      "metadata": {
        "id": "PnpszOcMI3X9"
      },
      "execution_count": 32,
      "outputs": []
    },
    {
      "cell_type": "code",
      "source": [
        "importance_model = get_importance_model(10)\n",
        "importance_model.summary()"
      ],
      "metadata": {
        "colab": {
          "base_uri": "https://localhost:8080/"
        },
        "id": "Zv0F6EguOUES",
        "outputId": "e43c610e-54a1-4341-d197-6a1a7add8348"
      },
      "execution_count": 33,
      "outputs": [
        {
          "output_type": "stream",
          "name": "stdout",
          "text": [
            "Model: \"model\"\n",
            "_________________________________________________________________\n",
            " Layer (type)                Output Shape              Param #   \n",
            "=================================================================\n",
            " input_1 (InputLayer)        [(None, 10)]              0         \n",
            "                                                                 \n",
            " dense (Dense)               (None, 128)               1408      \n",
            "                                                                 \n",
            " dropout (Dropout)           (None, 128)               0         \n",
            "                                                                 \n",
            " dense_1 (Dense)             (None, 64)                8256      \n",
            "                                                                 \n",
            " dense_2 (Dense)             (None, 1)                 65        \n",
            "                                                                 \n",
            "=================================================================\n",
            "Total params: 9729 (38.00 KB)\n",
            "Trainable params: 9729 (38.00 KB)\n",
            "Non-trainable params: 0 (0.00 Byte)\n",
            "_________________________________________________________________\n"
          ]
        }
      ]
    },
    {
      "cell_type": "code",
      "source": [
        "importance_extractor =  keras.Model(importance_model.input, importance_model.layers[-2].output)"
      ],
      "metadata": {
        "id": "34h4Hq09VutY"
      },
      "execution_count": 34,
      "outputs": []
    },
    {
      "cell_type": "code",
      "source": [
        "def compile(model,optimizer='adam',loss='binary_crosentropy'):\n",
        "  model.compile(loss='binary_crossentropy', optimizer=optimizer, metrics=['accuracy'])\n",
        "  return\n",
        "\n",
        "compile(importance_model,optimizer=keras.optimizers.Adam(learning_rate=lr))\n",
        "\n",
        "def run(model, train_x, train_y, valid_x=None, valid_y=None, path='./best_model.h5', epoch_num=10):\n",
        "  checkpoint = ModelCheckpoint(filepath=path, save_weights_only=True, monitor='val_accuracy', save_best_only=True)\n",
        "  if valid_x is not None and valid_y is not None:\n",
        "    hist = model.fit(train_x, train_y, epochs=epoch_num, validation_data=(valid_x,valid_y), callbacks=[checkpoint])\n",
        "  else:\n",
        "    hist = model.fit(train_x, train_y, epochs=epoch_num)\n",
        "  return hist\n",
        "\n",
        "\n",
        "importance_hist = run(importance_model, importance_train_x, importance_train_y, importance_valid_x, importance_valid_y, path='best_importance.h5', epoch_num=num_epochs)"
      ],
      "metadata": {
        "colab": {
          "base_uri": "https://localhost:8080/"
        },
        "id": "C60_iSlNOYkZ",
        "outputId": "d7a91d46-4165-4204-9546-2f496d542aaa"
      },
      "execution_count": 35,
      "outputs": [
        {
          "output_type": "stream",
          "name": "stdout",
          "text": [
            "Epoch 1/200\n",
            "85/85 [==============================] - 4s 8ms/step - loss: 0.6789 - accuracy: 0.5893 - val_loss: 0.6693 - val_accuracy: 0.6059\n",
            "Epoch 2/200\n",
            "85/85 [==============================] - 0s 4ms/step - loss: 0.6738 - accuracy: 0.5951 - val_loss: 0.6608 - val_accuracy: 0.6059\n",
            "Epoch 3/200\n",
            "85/85 [==============================] - 0s 4ms/step - loss: 0.6669 - accuracy: 0.5966 - val_loss: 0.6592 - val_accuracy: 0.6206\n",
            "Epoch 4/200\n",
            "85/85 [==============================] - 0s 4ms/step - loss: 0.6614 - accuracy: 0.5974 - val_loss: 0.6533 - val_accuracy: 0.6162\n",
            "Epoch 5/200\n",
            "85/85 [==============================] - 0s 5ms/step - loss: 0.6600 - accuracy: 0.5904 - val_loss: 0.6526 - val_accuracy: 0.6162\n",
            "Epoch 6/200\n",
            "85/85 [==============================] - 1s 6ms/step - loss: 0.6573 - accuracy: 0.6032 - val_loss: 0.6514 - val_accuracy: 0.6279\n",
            "Epoch 7/200\n",
            "85/85 [==============================] - 0s 5ms/step - loss: 0.6592 - accuracy: 0.5933 - val_loss: 0.6487 - val_accuracy: 0.6147\n",
            "Epoch 8/200\n",
            "85/85 [==============================] - 0s 6ms/step - loss: 0.6548 - accuracy: 0.6062 - val_loss: 0.6461 - val_accuracy: 0.6265\n",
            "Epoch 9/200\n",
            "85/85 [==============================] - 0s 5ms/step - loss: 0.6526 - accuracy: 0.6091 - val_loss: 0.6444 - val_accuracy: 0.6235\n",
            "Epoch 10/200\n",
            "85/85 [==============================] - 1s 6ms/step - loss: 0.6486 - accuracy: 0.6135 - val_loss: 0.6443 - val_accuracy: 0.6147\n",
            "Epoch 11/200\n",
            "85/85 [==============================] - 0s 6ms/step - loss: 0.6470 - accuracy: 0.6128 - val_loss: 0.6404 - val_accuracy: 0.6250\n",
            "Epoch 12/200\n",
            "85/85 [==============================] - 1s 6ms/step - loss: 0.6430 - accuracy: 0.6183 - val_loss: 0.6404 - val_accuracy: 0.6132\n",
            "Epoch 13/200\n",
            "85/85 [==============================] - 0s 5ms/step - loss: 0.6445 - accuracy: 0.6209 - val_loss: 0.6361 - val_accuracy: 0.6338\n",
            "Epoch 14/200\n",
            "85/85 [==============================] - 0s 4ms/step - loss: 0.6376 - accuracy: 0.6338 - val_loss: 0.6346 - val_accuracy: 0.6632\n",
            "Epoch 15/200\n",
            "85/85 [==============================] - 0s 4ms/step - loss: 0.6359 - accuracy: 0.6279 - val_loss: 0.6354 - val_accuracy: 0.6515\n",
            "Epoch 16/200\n",
            "85/85 [==============================] - 0s 4ms/step - loss: 0.6293 - accuracy: 0.6529 - val_loss: 0.6309 - val_accuracy: 0.6412\n",
            "Epoch 17/200\n",
            "85/85 [==============================] - 0s 4ms/step - loss: 0.6291 - accuracy: 0.6463 - val_loss: 0.6268 - val_accuracy: 0.6500\n",
            "Epoch 18/200\n",
            "85/85 [==============================] - 0s 4ms/step - loss: 0.6299 - accuracy: 0.6456 - val_loss: 0.6256 - val_accuracy: 0.6544\n",
            "Epoch 19/200\n",
            "85/85 [==============================] - 0s 4ms/step - loss: 0.6293 - accuracy: 0.6423 - val_loss: 0.6254 - val_accuracy: 0.6588\n",
            "Epoch 20/200\n",
            "85/85 [==============================] - 0s 4ms/step - loss: 0.6255 - accuracy: 0.6470 - val_loss: 0.6259 - val_accuracy: 0.6368\n",
            "Epoch 21/200\n",
            "85/85 [==============================] - 0s 4ms/step - loss: 0.6249 - accuracy: 0.6456 - val_loss: 0.6221 - val_accuracy: 0.6515\n",
            "Epoch 22/200\n",
            "85/85 [==============================] - 0s 4ms/step - loss: 0.6179 - accuracy: 0.6529 - val_loss: 0.6230 - val_accuracy: 0.6515\n",
            "Epoch 23/200\n",
            "85/85 [==============================] - 0s 4ms/step - loss: 0.6149 - accuracy: 0.6654 - val_loss: 0.6177 - val_accuracy: 0.6500\n",
            "Epoch 24/200\n",
            "85/85 [==============================] - 0s 4ms/step - loss: 0.6205 - accuracy: 0.6559 - val_loss: 0.6170 - val_accuracy: 0.6456\n",
            "Epoch 25/200\n",
            "85/85 [==============================] - 0s 4ms/step - loss: 0.6196 - accuracy: 0.6614 - val_loss: 0.6148 - val_accuracy: 0.6574\n",
            "Epoch 26/200\n",
            "85/85 [==============================] - 0s 4ms/step - loss: 0.6141 - accuracy: 0.6691 - val_loss: 0.6159 - val_accuracy: 0.6544\n",
            "Epoch 27/200\n",
            "85/85 [==============================] - 0s 4ms/step - loss: 0.6096 - accuracy: 0.6629 - val_loss: 0.6153 - val_accuracy: 0.6412\n",
            "Epoch 28/200\n",
            "85/85 [==============================] - 0s 4ms/step - loss: 0.6109 - accuracy: 0.6629 - val_loss: 0.6125 - val_accuracy: 0.6500\n",
            "Epoch 29/200\n",
            "85/85 [==============================] - 0s 4ms/step - loss: 0.6113 - accuracy: 0.6669 - val_loss: 0.6154 - val_accuracy: 0.6426\n",
            "Epoch 30/200\n",
            "85/85 [==============================] - 0s 4ms/step - loss: 0.6077 - accuracy: 0.6732 - val_loss: 0.6195 - val_accuracy: 0.6412\n",
            "Epoch 31/200\n",
            "85/85 [==============================] - 0s 4ms/step - loss: 0.6018 - accuracy: 0.6805 - val_loss: 0.6101 - val_accuracy: 0.6515\n",
            "Epoch 32/200\n",
            "85/85 [==============================] - 0s 4ms/step - loss: 0.6042 - accuracy: 0.6794 - val_loss: 0.6130 - val_accuracy: 0.6691\n",
            "Epoch 33/200\n",
            "85/85 [==============================] - 0s 4ms/step - loss: 0.5985 - accuracy: 0.6816 - val_loss: 0.6150 - val_accuracy: 0.6412\n",
            "Epoch 34/200\n",
            "85/85 [==============================] - 0s 4ms/step - loss: 0.6011 - accuracy: 0.6809 - val_loss: 0.6082 - val_accuracy: 0.6456\n",
            "Epoch 35/200\n",
            "85/85 [==============================] - 0s 4ms/step - loss: 0.6044 - accuracy: 0.6721 - val_loss: 0.6072 - val_accuracy: 0.6544\n",
            "Epoch 36/200\n",
            "85/85 [==============================] - 0s 4ms/step - loss: 0.5974 - accuracy: 0.6824 - val_loss: 0.6051 - val_accuracy: 0.6529\n",
            "Epoch 37/200\n",
            "85/85 [==============================] - 0s 4ms/step - loss: 0.5997 - accuracy: 0.6805 - val_loss: 0.6052 - val_accuracy: 0.6544\n",
            "Epoch 38/200\n",
            "85/85 [==============================] - 0s 4ms/step - loss: 0.5958 - accuracy: 0.6816 - val_loss: 0.6041 - val_accuracy: 0.6706\n",
            "Epoch 39/200\n",
            "85/85 [==============================] - 0s 6ms/step - loss: 0.5958 - accuracy: 0.6835 - val_loss: 0.5996 - val_accuracy: 0.6750\n",
            "Epoch 40/200\n",
            "85/85 [==============================] - 0s 4ms/step - loss: 0.5962 - accuracy: 0.6827 - val_loss: 0.5998 - val_accuracy: 0.6735\n",
            "Epoch 41/200\n",
            "85/85 [==============================] - 0s 6ms/step - loss: 0.5917 - accuracy: 0.6861 - val_loss: 0.5981 - val_accuracy: 0.6824\n",
            "Epoch 42/200\n",
            "85/85 [==============================] - 0s 6ms/step - loss: 0.5937 - accuracy: 0.6886 - val_loss: 0.5997 - val_accuracy: 0.6824\n",
            "Epoch 43/200\n",
            "85/85 [==============================] - 0s 5ms/step - loss: 0.5909 - accuracy: 0.6872 - val_loss: 0.5961 - val_accuracy: 0.6721\n",
            "Epoch 44/200\n",
            "85/85 [==============================] - 1s 6ms/step - loss: 0.5825 - accuracy: 0.6960 - val_loss: 0.5994 - val_accuracy: 0.6735\n",
            "Epoch 45/200\n",
            "85/85 [==============================] - 0s 6ms/step - loss: 0.5891 - accuracy: 0.6919 - val_loss: 0.5998 - val_accuracy: 0.6824\n",
            "Epoch 46/200\n",
            "85/85 [==============================] - 1s 7ms/step - loss: 0.5875 - accuracy: 0.6824 - val_loss: 0.5956 - val_accuracy: 0.6632\n",
            "Epoch 47/200\n",
            "85/85 [==============================] - 1s 6ms/step - loss: 0.5919 - accuracy: 0.6875 - val_loss: 0.5964 - val_accuracy: 0.6897\n",
            "Epoch 48/200\n",
            "85/85 [==============================] - 1s 7ms/step - loss: 0.5805 - accuracy: 0.7030 - val_loss: 0.5955 - val_accuracy: 0.6662\n",
            "Epoch 49/200\n",
            "85/85 [==============================] - 0s 4ms/step - loss: 0.5867 - accuracy: 0.6919 - val_loss: 0.5928 - val_accuracy: 0.6779\n",
            "Epoch 50/200\n",
            "85/85 [==============================] - 0s 4ms/step - loss: 0.5823 - accuracy: 0.6923 - val_loss: 0.5904 - val_accuracy: 0.6853\n",
            "Epoch 51/200\n",
            "85/85 [==============================] - 0s 4ms/step - loss: 0.5793 - accuracy: 0.6927 - val_loss: 0.5950 - val_accuracy: 0.6912\n",
            "Epoch 52/200\n",
            "85/85 [==============================] - 0s 4ms/step - loss: 0.5826 - accuracy: 0.6989 - val_loss: 0.5889 - val_accuracy: 0.6735\n",
            "Epoch 53/200\n",
            "85/85 [==============================] - 0s 4ms/step - loss: 0.5832 - accuracy: 0.7000 - val_loss: 0.5878 - val_accuracy: 0.6868\n",
            "Epoch 54/200\n",
            "85/85 [==============================] - 1s 7ms/step - loss: 0.5785 - accuracy: 0.6986 - val_loss: 0.5838 - val_accuracy: 0.6985\n",
            "Epoch 55/200\n",
            "85/85 [==============================] - 1s 6ms/step - loss: 0.5756 - accuracy: 0.7122 - val_loss: 0.5824 - val_accuracy: 0.6838\n",
            "Epoch 56/200\n",
            "85/85 [==============================] - 0s 4ms/step - loss: 0.5756 - accuracy: 0.7008 - val_loss: 0.5821 - val_accuracy: 0.6941\n",
            "Epoch 57/200\n",
            "85/85 [==============================] - 0s 4ms/step - loss: 0.5777 - accuracy: 0.7000 - val_loss: 0.5820 - val_accuracy: 0.7000\n",
            "Epoch 58/200\n",
            "85/85 [==============================] - 0s 4ms/step - loss: 0.5753 - accuracy: 0.7081 - val_loss: 0.5843 - val_accuracy: 0.6882\n",
            "Epoch 59/200\n",
            "85/85 [==============================] - 1s 6ms/step - loss: 0.5801 - accuracy: 0.6986 - val_loss: 0.5811 - val_accuracy: 0.6838\n",
            "Epoch 60/200\n",
            "85/85 [==============================] - 0s 4ms/step - loss: 0.5733 - accuracy: 0.7008 - val_loss: 0.5826 - val_accuracy: 0.6824\n",
            "Epoch 61/200\n",
            "85/85 [==============================] - 0s 4ms/step - loss: 0.5723 - accuracy: 0.6964 - val_loss: 0.5791 - val_accuracy: 0.6853\n",
            "Epoch 62/200\n",
            "85/85 [==============================] - 0s 4ms/step - loss: 0.5720 - accuracy: 0.7037 - val_loss: 0.5756 - val_accuracy: 0.6897\n",
            "Epoch 63/200\n",
            "85/85 [==============================] - 0s 4ms/step - loss: 0.5642 - accuracy: 0.7081 - val_loss: 0.5760 - val_accuracy: 0.7000\n",
            "Epoch 64/200\n",
            "85/85 [==============================] - 0s 4ms/step - loss: 0.5654 - accuracy: 0.7126 - val_loss: 0.5749 - val_accuracy: 0.6971\n",
            "Epoch 65/200\n",
            "85/85 [==============================] - 0s 4ms/step - loss: 0.5623 - accuracy: 0.7137 - val_loss: 0.5744 - val_accuracy: 0.6985\n",
            "Epoch 66/200\n",
            "85/85 [==============================] - 0s 4ms/step - loss: 0.5656 - accuracy: 0.7103 - val_loss: 0.5790 - val_accuracy: 0.6956\n",
            "Epoch 67/200\n",
            "85/85 [==============================] - 0s 4ms/step - loss: 0.5665 - accuracy: 0.7114 - val_loss: 0.5838 - val_accuracy: 0.6926\n",
            "Epoch 68/200\n",
            "85/85 [==============================] - 0s 4ms/step - loss: 0.5615 - accuracy: 0.7122 - val_loss: 0.5696 - val_accuracy: 0.6985\n",
            "Epoch 69/200\n",
            "85/85 [==============================] - 0s 4ms/step - loss: 0.5599 - accuracy: 0.7195 - val_loss: 0.5695 - val_accuracy: 0.6956\n",
            "Epoch 70/200\n",
            "85/85 [==============================] - 0s 4ms/step - loss: 0.5639 - accuracy: 0.7074 - val_loss: 0.5662 - val_accuracy: 0.6956\n",
            "Epoch 71/200\n",
            "85/85 [==============================] - 0s 4ms/step - loss: 0.5592 - accuracy: 0.7206 - val_loss: 0.5677 - val_accuracy: 0.7015\n",
            "Epoch 72/200\n",
            "85/85 [==============================] - 0s 4ms/step - loss: 0.5605 - accuracy: 0.7100 - val_loss: 0.5655 - val_accuracy: 0.7015\n",
            "Epoch 73/200\n",
            "85/85 [==============================] - 0s 4ms/step - loss: 0.5578 - accuracy: 0.7151 - val_loss: 0.5661 - val_accuracy: 0.7059\n",
            "Epoch 74/200\n",
            "85/85 [==============================] - 0s 4ms/step - loss: 0.5547 - accuracy: 0.7144 - val_loss: 0.5686 - val_accuracy: 0.6956\n",
            "Epoch 75/200\n",
            "85/85 [==============================] - 1s 6ms/step - loss: 0.5546 - accuracy: 0.7199 - val_loss: 0.5620 - val_accuracy: 0.7176\n",
            "Epoch 76/200\n",
            "85/85 [==============================] - 0s 6ms/step - loss: 0.5599 - accuracy: 0.7129 - val_loss: 0.5600 - val_accuracy: 0.7191\n",
            "Epoch 77/200\n",
            "85/85 [==============================] - 0s 6ms/step - loss: 0.5547 - accuracy: 0.7206 - val_loss: 0.5586 - val_accuracy: 0.7103\n",
            "Epoch 78/200\n",
            "85/85 [==============================] - 0s 6ms/step - loss: 0.5554 - accuracy: 0.7210 - val_loss: 0.5643 - val_accuracy: 0.7147\n",
            "Epoch 79/200\n",
            "85/85 [==============================] - 0s 6ms/step - loss: 0.5521 - accuracy: 0.7173 - val_loss: 0.5586 - val_accuracy: 0.7191\n",
            "Epoch 80/200\n",
            "85/85 [==============================] - 1s 6ms/step - loss: 0.5544 - accuracy: 0.7140 - val_loss: 0.5682 - val_accuracy: 0.6985\n",
            "Epoch 81/200\n",
            "85/85 [==============================] - 1s 6ms/step - loss: 0.5491 - accuracy: 0.7148 - val_loss: 0.5549 - val_accuracy: 0.7132\n",
            "Epoch 82/200\n",
            "85/85 [==============================] - 1s 6ms/step - loss: 0.5456 - accuracy: 0.7265 - val_loss: 0.5555 - val_accuracy: 0.7162\n",
            "Epoch 83/200\n",
            "85/85 [==============================] - 0s 4ms/step - loss: 0.5477 - accuracy: 0.7225 - val_loss: 0.5608 - val_accuracy: 0.7147\n",
            "Epoch 84/200\n",
            "85/85 [==============================] - 0s 4ms/step - loss: 0.5385 - accuracy: 0.7310 - val_loss: 0.5560 - val_accuracy: 0.7132\n",
            "Epoch 85/200\n",
            "85/85 [==============================] - 0s 4ms/step - loss: 0.5459 - accuracy: 0.7236 - val_loss: 0.5552 - val_accuracy: 0.7162\n",
            "Epoch 86/200\n",
            "85/85 [==============================] - 0s 4ms/step - loss: 0.5468 - accuracy: 0.7173 - val_loss: 0.5530 - val_accuracy: 0.7191\n",
            "Epoch 87/200\n",
            "85/85 [==============================] - 0s 4ms/step - loss: 0.5473 - accuracy: 0.7166 - val_loss: 0.5481 - val_accuracy: 0.7382\n",
            "Epoch 88/200\n",
            "85/85 [==============================] - 0s 4ms/step - loss: 0.5420 - accuracy: 0.7313 - val_loss: 0.5528 - val_accuracy: 0.7309\n",
            "Epoch 89/200\n",
            "85/85 [==============================] - 0s 4ms/step - loss: 0.5493 - accuracy: 0.7258 - val_loss: 0.5485 - val_accuracy: 0.7147\n",
            "Epoch 90/200\n",
            "85/85 [==============================] - 0s 4ms/step - loss: 0.5413 - accuracy: 0.7298 - val_loss: 0.5479 - val_accuracy: 0.7235\n",
            "Epoch 91/200\n",
            "85/85 [==============================] - 0s 4ms/step - loss: 0.5394 - accuracy: 0.7291 - val_loss: 0.5505 - val_accuracy: 0.7221\n",
            "Epoch 92/200\n",
            "85/85 [==============================] - 0s 4ms/step - loss: 0.5447 - accuracy: 0.7195 - val_loss: 0.5489 - val_accuracy: 0.7265\n",
            "Epoch 93/200\n",
            "85/85 [==============================] - 0s 4ms/step - loss: 0.5347 - accuracy: 0.7339 - val_loss: 0.5499 - val_accuracy: 0.7279\n",
            "Epoch 94/200\n",
            "85/85 [==============================] - 0s 4ms/step - loss: 0.5426 - accuracy: 0.7284 - val_loss: 0.5479 - val_accuracy: 0.7250\n",
            "Epoch 95/200\n",
            "85/85 [==============================] - 0s 4ms/step - loss: 0.5358 - accuracy: 0.7251 - val_loss: 0.5514 - val_accuracy: 0.7221\n",
            "Epoch 96/200\n",
            "85/85 [==============================] - 0s 4ms/step - loss: 0.5333 - accuracy: 0.7291 - val_loss: 0.5434 - val_accuracy: 0.7338\n",
            "Epoch 97/200\n",
            "85/85 [==============================] - 0s 4ms/step - loss: 0.5410 - accuracy: 0.7232 - val_loss: 0.5429 - val_accuracy: 0.7324\n",
            "Epoch 98/200\n",
            "85/85 [==============================] - 0s 4ms/step - loss: 0.5378 - accuracy: 0.7302 - val_loss: 0.5478 - val_accuracy: 0.7147\n",
            "Epoch 99/200\n",
            "85/85 [==============================] - 0s 4ms/step - loss: 0.5382 - accuracy: 0.7273 - val_loss: 0.5499 - val_accuracy: 0.7265\n",
            "Epoch 100/200\n",
            "85/85 [==============================] - 0s 4ms/step - loss: 0.5344 - accuracy: 0.7284 - val_loss: 0.5407 - val_accuracy: 0.7353\n",
            "Epoch 101/200\n",
            "85/85 [==============================] - 0s 4ms/step - loss: 0.5407 - accuracy: 0.7339 - val_loss: 0.5433 - val_accuracy: 0.7309\n",
            "Epoch 102/200\n",
            "85/85 [==============================] - 0s 4ms/step - loss: 0.5336 - accuracy: 0.7313 - val_loss: 0.5455 - val_accuracy: 0.7279\n",
            "Epoch 103/200\n",
            "85/85 [==============================] - 0s 4ms/step - loss: 0.5366 - accuracy: 0.7306 - val_loss: 0.5415 - val_accuracy: 0.7368\n",
            "Epoch 104/200\n",
            "85/85 [==============================] - 0s 5ms/step - loss: 0.5304 - accuracy: 0.7383 - val_loss: 0.5404 - val_accuracy: 0.7221\n",
            "Epoch 105/200\n",
            "85/85 [==============================] - 0s 4ms/step - loss: 0.5252 - accuracy: 0.7453 - val_loss: 0.5431 - val_accuracy: 0.7309\n",
            "Epoch 106/200\n",
            "85/85 [==============================] - 0s 4ms/step - loss: 0.5226 - accuracy: 0.7435 - val_loss: 0.5474 - val_accuracy: 0.7279\n",
            "Epoch 107/200\n",
            "85/85 [==============================] - 0s 4ms/step - loss: 0.5291 - accuracy: 0.7350 - val_loss: 0.5443 - val_accuracy: 0.7147\n",
            "Epoch 108/200\n",
            "85/85 [==============================] - 0s 4ms/step - loss: 0.5286 - accuracy: 0.7361 - val_loss: 0.5424 - val_accuracy: 0.7294\n",
            "Epoch 109/200\n",
            "85/85 [==============================] - 0s 5ms/step - loss: 0.5259 - accuracy: 0.7298 - val_loss: 0.5419 - val_accuracy: 0.7191\n",
            "Epoch 110/200\n",
            "85/85 [==============================] - 0s 4ms/step - loss: 0.5243 - accuracy: 0.7383 - val_loss: 0.5360 - val_accuracy: 0.7338\n",
            "Epoch 111/200\n",
            "85/85 [==============================] - 0s 6ms/step - loss: 0.5207 - accuracy: 0.7387 - val_loss: 0.5391 - val_accuracy: 0.7294\n",
            "Epoch 112/200\n",
            "85/85 [==============================] - 0s 6ms/step - loss: 0.5252 - accuracy: 0.7379 - val_loss: 0.5295 - val_accuracy: 0.7294\n",
            "Epoch 113/200\n",
            "85/85 [==============================] - 0s 6ms/step - loss: 0.5233 - accuracy: 0.7431 - val_loss: 0.5337 - val_accuracy: 0.7456\n",
            "Epoch 114/200\n",
            "85/85 [==============================] - 1s 6ms/step - loss: 0.5308 - accuracy: 0.7379 - val_loss: 0.5297 - val_accuracy: 0.7441\n",
            "Epoch 115/200\n",
            "85/85 [==============================] - 1s 6ms/step - loss: 0.5244 - accuracy: 0.7317 - val_loss: 0.5326 - val_accuracy: 0.7412\n",
            "Epoch 116/200\n",
            "85/85 [==============================] - 1s 6ms/step - loss: 0.5182 - accuracy: 0.7391 - val_loss: 0.5327 - val_accuracy: 0.7382\n",
            "Epoch 117/200\n",
            "85/85 [==============================] - 1s 6ms/step - loss: 0.5229 - accuracy: 0.7328 - val_loss: 0.5354 - val_accuracy: 0.7382\n",
            "Epoch 118/200\n",
            "85/85 [==============================] - 1s 6ms/step - loss: 0.5151 - accuracy: 0.7519 - val_loss: 0.5345 - val_accuracy: 0.7412\n",
            "Epoch 119/200\n",
            "85/85 [==============================] - 0s 4ms/step - loss: 0.5206 - accuracy: 0.7435 - val_loss: 0.5299 - val_accuracy: 0.7500\n",
            "Epoch 120/200\n",
            "85/85 [==============================] - 0s 4ms/step - loss: 0.5151 - accuracy: 0.7402 - val_loss: 0.5355 - val_accuracy: 0.7294\n",
            "Epoch 121/200\n",
            "85/85 [==============================] - 0s 4ms/step - loss: 0.5178 - accuracy: 0.7413 - val_loss: 0.5327 - val_accuracy: 0.7353\n",
            "Epoch 122/200\n",
            "85/85 [==============================] - 0s 4ms/step - loss: 0.5199 - accuracy: 0.7435 - val_loss: 0.5277 - val_accuracy: 0.7412\n",
            "Epoch 123/200\n",
            "85/85 [==============================] - 0s 4ms/step - loss: 0.5200 - accuracy: 0.7453 - val_loss: 0.5324 - val_accuracy: 0.7412\n",
            "Epoch 124/200\n",
            "85/85 [==============================] - 0s 4ms/step - loss: 0.5198 - accuracy: 0.7416 - val_loss: 0.5266 - val_accuracy: 0.7368\n",
            "Epoch 125/200\n",
            "85/85 [==============================] - 0s 4ms/step - loss: 0.5129 - accuracy: 0.7490 - val_loss: 0.5340 - val_accuracy: 0.7324\n",
            "Epoch 126/200\n",
            "85/85 [==============================] - 0s 4ms/step - loss: 0.5176 - accuracy: 0.7530 - val_loss: 0.5230 - val_accuracy: 0.7515\n",
            "Epoch 127/200\n",
            "85/85 [==============================] - 0s 4ms/step - loss: 0.5171 - accuracy: 0.7405 - val_loss: 0.5324 - val_accuracy: 0.7397\n",
            "Epoch 128/200\n",
            "85/85 [==============================] - 0s 4ms/step - loss: 0.5218 - accuracy: 0.7460 - val_loss: 0.5372 - val_accuracy: 0.7426\n",
            "Epoch 129/200\n",
            "85/85 [==============================] - 0s 4ms/step - loss: 0.5235 - accuracy: 0.7416 - val_loss: 0.5280 - val_accuracy: 0.7368\n",
            "Epoch 130/200\n",
            "85/85 [==============================] - 0s 4ms/step - loss: 0.5189 - accuracy: 0.7460 - val_loss: 0.5316 - val_accuracy: 0.7279\n",
            "Epoch 131/200\n",
            "85/85 [==============================] - 0s 4ms/step - loss: 0.5134 - accuracy: 0.7442 - val_loss: 0.5283 - val_accuracy: 0.7412\n",
            "Epoch 132/200\n",
            "85/85 [==============================] - 0s 4ms/step - loss: 0.5093 - accuracy: 0.7523 - val_loss: 0.5236 - val_accuracy: 0.7456\n",
            "Epoch 133/200\n",
            "85/85 [==============================] - 0s 4ms/step - loss: 0.5082 - accuracy: 0.7512 - val_loss: 0.5298 - val_accuracy: 0.7456\n",
            "Epoch 134/200\n",
            "85/85 [==============================] - 0s 4ms/step - loss: 0.5121 - accuracy: 0.7446 - val_loss: 0.5248 - val_accuracy: 0.7471\n",
            "Epoch 135/200\n",
            "85/85 [==============================] - 0s 4ms/step - loss: 0.5099 - accuracy: 0.7527 - val_loss: 0.5187 - val_accuracy: 0.7559\n",
            "Epoch 136/200\n",
            "85/85 [==============================] - 0s 4ms/step - loss: 0.5132 - accuracy: 0.7427 - val_loss: 0.5245 - val_accuracy: 0.7485\n",
            "Epoch 137/200\n",
            "85/85 [==============================] - 0s 4ms/step - loss: 0.5134 - accuracy: 0.7516 - val_loss: 0.5302 - val_accuracy: 0.7441\n",
            "Epoch 138/200\n",
            "85/85 [==============================] - 0s 4ms/step - loss: 0.5116 - accuracy: 0.7541 - val_loss: 0.5275 - val_accuracy: 0.7559\n",
            "Epoch 139/200\n",
            "85/85 [==============================] - 0s 4ms/step - loss: 0.5091 - accuracy: 0.7541 - val_loss: 0.5262 - val_accuracy: 0.7456\n",
            "Epoch 140/200\n",
            "85/85 [==============================] - 0s 5ms/step - loss: 0.5108 - accuracy: 0.7453 - val_loss: 0.5183 - val_accuracy: 0.7603\n",
            "Epoch 141/200\n",
            "85/85 [==============================] - 0s 5ms/step - loss: 0.5074 - accuracy: 0.7593 - val_loss: 0.5190 - val_accuracy: 0.7426\n",
            "Epoch 142/200\n",
            "85/85 [==============================] - 0s 4ms/step - loss: 0.5045 - accuracy: 0.7604 - val_loss: 0.5253 - val_accuracy: 0.7485\n",
            "Epoch 143/200\n",
            "85/85 [==============================] - 0s 4ms/step - loss: 0.5121 - accuracy: 0.7431 - val_loss: 0.5338 - val_accuracy: 0.7426\n",
            "Epoch 144/200\n",
            "85/85 [==============================] - 0s 4ms/step - loss: 0.5031 - accuracy: 0.7501 - val_loss: 0.5184 - val_accuracy: 0.7603\n",
            "Epoch 145/200\n",
            "85/85 [==============================] - 0s 5ms/step - loss: 0.4986 - accuracy: 0.7508 - val_loss: 0.5250 - val_accuracy: 0.7471\n",
            "Epoch 146/200\n",
            "85/85 [==============================] - 1s 6ms/step - loss: 0.5094 - accuracy: 0.7512 - val_loss: 0.5298 - val_accuracy: 0.7324\n",
            "Epoch 147/200\n",
            "85/85 [==============================] - 0s 6ms/step - loss: 0.5030 - accuracy: 0.7523 - val_loss: 0.5159 - val_accuracy: 0.7588\n",
            "Epoch 148/200\n",
            "85/85 [==============================] - 1s 6ms/step - loss: 0.5037 - accuracy: 0.7534 - val_loss: 0.5307 - val_accuracy: 0.7338\n",
            "Epoch 149/200\n",
            "85/85 [==============================] - 0s 6ms/step - loss: 0.5069 - accuracy: 0.7471 - val_loss: 0.5180 - val_accuracy: 0.7456\n",
            "Epoch 150/200\n",
            "85/85 [==============================] - 1s 6ms/step - loss: 0.5085 - accuracy: 0.7516 - val_loss: 0.5313 - val_accuracy: 0.7368\n",
            "Epoch 151/200\n",
            "85/85 [==============================] - 1s 7ms/step - loss: 0.4959 - accuracy: 0.7527 - val_loss: 0.5192 - val_accuracy: 0.7544\n",
            "Epoch 152/200\n",
            "85/85 [==============================] - 1s 8ms/step - loss: 0.5030 - accuracy: 0.7541 - val_loss: 0.5193 - val_accuracy: 0.7515\n",
            "Epoch 153/200\n",
            "85/85 [==============================] - 0s 4ms/step - loss: 0.5040 - accuracy: 0.7560 - val_loss: 0.5263 - val_accuracy: 0.7485\n",
            "Epoch 154/200\n",
            "85/85 [==============================] - 0s 4ms/step - loss: 0.5086 - accuracy: 0.7604 - val_loss: 0.5171 - val_accuracy: 0.7603\n",
            "Epoch 155/200\n",
            "85/85 [==============================] - 0s 4ms/step - loss: 0.5004 - accuracy: 0.7549 - val_loss: 0.5219 - val_accuracy: 0.7515\n",
            "Epoch 156/200\n",
            "85/85 [==============================] - 0s 5ms/step - loss: 0.4963 - accuracy: 0.7571 - val_loss: 0.5290 - val_accuracy: 0.7471\n",
            "Epoch 157/200\n",
            "85/85 [==============================] - 0s 4ms/step - loss: 0.5082 - accuracy: 0.7505 - val_loss: 0.5285 - val_accuracy: 0.7441\n",
            "Epoch 158/200\n",
            "85/85 [==============================] - 0s 4ms/step - loss: 0.5013 - accuracy: 0.7560 - val_loss: 0.5263 - val_accuracy: 0.7397\n",
            "Epoch 159/200\n",
            "85/85 [==============================] - 0s 5ms/step - loss: 0.5016 - accuracy: 0.7582 - val_loss: 0.5233 - val_accuracy: 0.7279\n",
            "Epoch 160/200\n",
            "85/85 [==============================] - 0s 4ms/step - loss: 0.5019 - accuracy: 0.7530 - val_loss: 0.5140 - val_accuracy: 0.7618\n",
            "Epoch 161/200\n",
            "85/85 [==============================] - 0s 5ms/step - loss: 0.4979 - accuracy: 0.7589 - val_loss: 0.5171 - val_accuracy: 0.7676\n",
            "Epoch 162/200\n",
            "85/85 [==============================] - 0s 4ms/step - loss: 0.4984 - accuracy: 0.7468 - val_loss: 0.5160 - val_accuracy: 0.7618\n",
            "Epoch 163/200\n",
            "85/85 [==============================] - 0s 4ms/step - loss: 0.4966 - accuracy: 0.7560 - val_loss: 0.5142 - val_accuracy: 0.7544\n",
            "Epoch 164/200\n",
            "85/85 [==============================] - 0s 5ms/step - loss: 0.4881 - accuracy: 0.7604 - val_loss: 0.5159 - val_accuracy: 0.7618\n",
            "Epoch 165/200\n",
            "85/85 [==============================] - 0s 4ms/step - loss: 0.4927 - accuracy: 0.7560 - val_loss: 0.5124 - val_accuracy: 0.7559\n",
            "Epoch 166/200\n",
            "85/85 [==============================] - 0s 4ms/step - loss: 0.4972 - accuracy: 0.7552 - val_loss: 0.5114 - val_accuracy: 0.7500\n",
            "Epoch 167/200\n",
            "85/85 [==============================] - 0s 5ms/step - loss: 0.4977 - accuracy: 0.7597 - val_loss: 0.5175 - val_accuracy: 0.7485\n",
            "Epoch 168/200\n",
            "85/85 [==============================] - 0s 4ms/step - loss: 0.4938 - accuracy: 0.7552 - val_loss: 0.5129 - val_accuracy: 0.7529\n",
            "Epoch 169/200\n",
            "85/85 [==============================] - 0s 5ms/step - loss: 0.4984 - accuracy: 0.7582 - val_loss: 0.5090 - val_accuracy: 0.7632\n",
            "Epoch 170/200\n",
            "85/85 [==============================] - 0s 4ms/step - loss: 0.4983 - accuracy: 0.7527 - val_loss: 0.5181 - val_accuracy: 0.7632\n",
            "Epoch 171/200\n",
            "85/85 [==============================] - 0s 4ms/step - loss: 0.4975 - accuracy: 0.7490 - val_loss: 0.5147 - val_accuracy: 0.7588\n",
            "Epoch 172/200\n",
            "85/85 [==============================] - 0s 5ms/step - loss: 0.4920 - accuracy: 0.7589 - val_loss: 0.5072 - val_accuracy: 0.7588\n",
            "Epoch 173/200\n",
            "85/85 [==============================] - 0s 4ms/step - loss: 0.4949 - accuracy: 0.7530 - val_loss: 0.5107 - val_accuracy: 0.7603\n",
            "Epoch 174/200\n",
            "85/85 [==============================] - 0s 4ms/step - loss: 0.4880 - accuracy: 0.7611 - val_loss: 0.5174 - val_accuracy: 0.7603\n",
            "Epoch 175/200\n",
            "85/85 [==============================] - 0s 5ms/step - loss: 0.4941 - accuracy: 0.7541 - val_loss: 0.5189 - val_accuracy: 0.7471\n",
            "Epoch 176/200\n",
            "85/85 [==============================] - 0s 4ms/step - loss: 0.4862 - accuracy: 0.7700 - val_loss: 0.5140 - val_accuracy: 0.7721\n",
            "Epoch 177/200\n",
            "85/85 [==============================] - 0s 5ms/step - loss: 0.4866 - accuracy: 0.7711 - val_loss: 0.5087 - val_accuracy: 0.7574\n",
            "Epoch 178/200\n",
            "85/85 [==============================] - 0s 4ms/step - loss: 0.4864 - accuracy: 0.7674 - val_loss: 0.5132 - val_accuracy: 0.7544\n",
            "Epoch 179/200\n",
            "85/85 [==============================] - 1s 7ms/step - loss: 0.4926 - accuracy: 0.7678 - val_loss: 0.5143 - val_accuracy: 0.7574\n",
            "Epoch 180/200\n",
            "85/85 [==============================] - 0s 6ms/step - loss: 0.4904 - accuracy: 0.7652 - val_loss: 0.5163 - val_accuracy: 0.7559\n",
            "Epoch 181/200\n",
            "85/85 [==============================] - 1s 6ms/step - loss: 0.4843 - accuracy: 0.7663 - val_loss: 0.5280 - val_accuracy: 0.7485\n",
            "Epoch 182/200\n",
            "85/85 [==============================] - 0s 6ms/step - loss: 0.4939 - accuracy: 0.7611 - val_loss: 0.5185 - val_accuracy: 0.7529\n",
            "Epoch 183/200\n",
            "85/85 [==============================] - 1s 7ms/step - loss: 0.4927 - accuracy: 0.7552 - val_loss: 0.5128 - val_accuracy: 0.7618\n",
            "Epoch 184/200\n",
            "85/85 [==============================] - 1s 6ms/step - loss: 0.4952 - accuracy: 0.7589 - val_loss: 0.5191 - val_accuracy: 0.7515\n",
            "Epoch 185/200\n",
            "85/85 [==============================] - 1s 6ms/step - loss: 0.4856 - accuracy: 0.7678 - val_loss: 0.5213 - val_accuracy: 0.7559\n",
            "Epoch 186/200\n",
            "85/85 [==============================] - 1s 7ms/step - loss: 0.4913 - accuracy: 0.7527 - val_loss: 0.5107 - val_accuracy: 0.7574\n",
            "Epoch 187/200\n",
            "85/85 [==============================] - 0s 5ms/step - loss: 0.4784 - accuracy: 0.7692 - val_loss: 0.5151 - val_accuracy: 0.7559\n",
            "Epoch 188/200\n",
            "85/85 [==============================] - 0s 4ms/step - loss: 0.4835 - accuracy: 0.7641 - val_loss: 0.5146 - val_accuracy: 0.7456\n",
            "Epoch 189/200\n",
            "85/85 [==============================] - 0s 4ms/step - loss: 0.4837 - accuracy: 0.7689 - val_loss: 0.5082 - val_accuracy: 0.7588\n",
            "Epoch 190/200\n",
            "85/85 [==============================] - 0s 4ms/step - loss: 0.4749 - accuracy: 0.7689 - val_loss: 0.5152 - val_accuracy: 0.7588\n",
            "Epoch 191/200\n",
            "85/85 [==============================] - 0s 5ms/step - loss: 0.4853 - accuracy: 0.7667 - val_loss: 0.5165 - val_accuracy: 0.7500\n",
            "Epoch 192/200\n",
            "85/85 [==============================] - 0s 5ms/step - loss: 0.4852 - accuracy: 0.7678 - val_loss: 0.5140 - val_accuracy: 0.7515\n",
            "Epoch 193/200\n",
            "85/85 [==============================] - 0s 5ms/step - loss: 0.4861 - accuracy: 0.7667 - val_loss: 0.5141 - val_accuracy: 0.7515\n",
            "Epoch 194/200\n",
            "85/85 [==============================] - 0s 4ms/step - loss: 0.4790 - accuracy: 0.7700 - val_loss: 0.5167 - val_accuracy: 0.7574\n",
            "Epoch 195/200\n",
            "85/85 [==============================] - 0s 5ms/step - loss: 0.4726 - accuracy: 0.7692 - val_loss: 0.5142 - val_accuracy: 0.7632\n",
            "Epoch 196/200\n",
            "85/85 [==============================] - 0s 4ms/step - loss: 0.4874 - accuracy: 0.7615 - val_loss: 0.5140 - val_accuracy: 0.7647\n",
            "Epoch 197/200\n",
            "85/85 [==============================] - 0s 5ms/step - loss: 0.4774 - accuracy: 0.7711 - val_loss: 0.5180 - val_accuracy: 0.7529\n",
            "Epoch 198/200\n",
            "85/85 [==============================] - 0s 4ms/step - loss: 0.4771 - accuracy: 0.7696 - val_loss: 0.5114 - val_accuracy: 0.7544\n",
            "Epoch 199/200\n",
            "85/85 [==============================] - 0s 4ms/step - loss: 0.4813 - accuracy: 0.7659 - val_loss: 0.5163 - val_accuracy: 0.7647\n",
            "Epoch 200/200\n",
            "85/85 [==============================] - 0s 4ms/step - loss: 0.4843 - accuracy: 0.7604 - val_loss: 0.5131 - val_accuracy: 0.7574\n"
          ]
        }
      ]
    },
    {
      "cell_type": "code",
      "source": [
        "# importance_model.predict(importance_test_x)"
      ],
      "metadata": {
        "id": "-4l0EXw4RFOF"
      },
      "execution_count": 36,
      "outputs": []
    },
    {
      "cell_type": "code",
      "source": [
        "# importance_model.evaluate(importance_test_x,importance_test_y)"
      ],
      "metadata": {
        "id": "Z6SrBTDmSarv"
      },
      "execution_count": 37,
      "outputs": []
    },
    {
      "cell_type": "code",
      "source": [
        "# from sklearn.metrics import confusion_matrix\n",
        "\n",
        "# #Predict\n",
        "# y_prediction = importance_model.predict(test_x)\n",
        "\n",
        "# #Create confusion matrix and normalizes it over predicted (columns)\n",
        "# result = confusion_matrix(test_y, np.rint(y_prediction))\n",
        "\n",
        "# from sklearn.metrics import confusion_matrix, ConfusionMatrixDisplay\n",
        "# disp = ConfusionMatrixDisplay(confusion_matrix=result,\n",
        "#                               display_labels=[0,1])\n",
        "\n",
        "# disp.plot()\n",
        "# plt.show()"
      ],
      "metadata": {
        "id": "VcXIvG9fSlEO"
      },
      "execution_count": 38,
      "outputs": []
    },
    {
      "cell_type": "markdown",
      "source": [
        "## 텍스트 사용 모델"
      ],
      "metadata": {
        "id": "awklBlQ9kfJp"
      }
    },
    {
      "cell_type": "code",
      "source": [
        "text_columns = [\"speech_divide_to_10\",\"elected\"]\n",
        "\n",
        "train_text_df, valid_text_df = train_test_split(text_df[text_columns], test_size=0.2, random_state=42)\n",
        "test_text_df = recent_df[text_columns]"
      ],
      "metadata": {
        "id": "mBMgccd-YCul"
      },
      "execution_count": 39,
      "outputs": []
    },
    {
      "cell_type": "code",
      "source": [
        "def sections_to_data(df):\n",
        "  data = list()\n",
        "  for row in df.values:\n",
        "    for section in row[0]:\n",
        "      data.append({\"section\": section, \"elected\": row[1]})\n",
        "  # print(data)\n",
        "  return pd.DataFrame(data)\n",
        "\n"
      ],
      "metadata": {
        "id": "3jJ7Ae_vkcgE"
      },
      "execution_count": 40,
      "outputs": []
    },
    {
      "cell_type": "code",
      "source": [
        "train_text_df = sections_to_data(train_text_df)\n",
        "valid_text_df = sections_to_data(valid_text_df)\n",
        "test_text_df = sections_to_data(test_text_df)\n",
        "\n",
        "train_text_x_df = train_text_df[\"section\"]\n",
        "valid_text_x_df = valid_text_df[\"section\"]\n",
        "test_text_x_df = test_text_df[\"section\"]\n",
        "\n",
        "train_text_y_df = train_text_df[\"elected\"]\n",
        "valid_text_y_df = valid_text_df[\"elected\"]\n",
        "test_text_y_df = test_text_df[\"elected\"]\n",
        "\n"
      ],
      "metadata": {
        "id": "8KeRRXiqkgVm"
      },
      "execution_count": 41,
      "outputs": []
    },
    {
      "cell_type": "code",
      "source": [
        "train_text_df.to_csv(path+'train_text_data.csv')\n",
        "valid_text_df.to_csv(path+'valid_text_data.csv')\n",
        "test_text_df.to_csv(path+'test_text_data.csv')"
      ],
      "metadata": {
        "id": "JHdgeRKH6Eub"
      },
      "execution_count": 42,
      "outputs": []
    },
    {
      "cell_type": "code",
      "source": [
        "text_train_y = np.array(train_text_y_df)\n",
        "text_valid_y = np.array(valid_text_y_df)\n",
        "text_test_y = np.array(test_text_y_df)"
      ],
      "metadata": {
        "id": "D7Xp_WxiAymg"
      },
      "execution_count": 43,
      "outputs": []
    },
    {
      "cell_type": "code",
      "source": [
        "result = list()\n",
        "for lst in train_text_x_df.values:\n",
        "  result+=lst\n",
        "result = set(result)\n",
        "\n",
        "len(result)"
      ],
      "metadata": {
        "colab": {
          "base_uri": "https://localhost:8080/"
        },
        "id": "UEGHJTopzZUy",
        "outputId": "f30e0142-3c65-48ba-c7e0-6dec3296898c"
      },
      "execution_count": 44,
      "outputs": [
        {
          "output_type": "execute_result",
          "data": {
            "text/plain": [
              "39143"
            ]
          },
          "metadata": {},
          "execution_count": 44
        }
      ]
    },
    {
      "cell_type": "code",
      "source": [
        "# train set엔 기본적으로 39143개\n",
        "max_vocab_size = 40000\n",
        "\n",
        "tokenizer = Tokenizer(num_words = max_vocab_size)\n",
        "tokenizer.fit_on_texts(train_text_x_df)\n",
        "\n",
        "train_sequences = tokenizer.texts_to_sequences(train_text_x_df)\n",
        "valid_sequences = tokenizer.texts_to_sequences(valid_text_x_df)\n",
        "test_sequences = tokenizer.texts_to_sequences(test_text_x_df)\n",
        "\n",
        "train_padded_sequences = pad_sequences(train_sequences, maxlen=100)\n",
        "valid_padded_sequences = pad_sequences(valid_sequences, maxlen=100)\n",
        "test_padded_sequences = pad_sequences(test_sequences, maxlen=100)"
      ],
      "metadata": {
        "id": "-kx4IuTJtRWt"
      },
      "execution_count": 45,
      "outputs": []
    },
    {
      "cell_type": "code",
      "source": [
        "def get_text_model(timestep, hidden_layers=None):\n",
        "  input = keras.layers.Input(shape=(timestep,))\n",
        "  x = keras.layers.Embedding(max_vocab_size, 128, input_length=100)(input)\n",
        "  x = keras.layers.LSTM(64)(x)\n",
        "  if hidden_layers:\n",
        "    for layer in hidden_layers:\n",
        "      x = keras.layers.Dense(layer, activation='relu')(x)\n",
        "  output = keras.layers.Dense(1, activation='sigmoid')(x)\n",
        "  return keras.Model(input, output)"
      ],
      "metadata": {
        "id": "m0jFWEqH9I7o"
      },
      "execution_count": 46,
      "outputs": []
    },
    {
      "cell_type": "code",
      "source": [
        "text_model = get_text_model(100)\n",
        "text_model.summary()"
      ],
      "metadata": {
        "colab": {
          "base_uri": "https://localhost:8080/"
        },
        "id": "8PLMCGpJ_pp5",
        "outputId": "c330b242-cd55-4f61-ff87-fd3b537f3bfb"
      },
      "execution_count": 47,
      "outputs": [
        {
          "output_type": "stream",
          "name": "stdout",
          "text": [
            "Model: \"model_2\"\n",
            "_________________________________________________________________\n",
            " Layer (type)                Output Shape              Param #   \n",
            "=================================================================\n",
            " input_2 (InputLayer)        [(None, 100)]             0         \n",
            "                                                                 \n",
            " embedding (Embedding)       (None, 100, 128)          5120000   \n",
            "                                                                 \n",
            " lstm (LSTM)                 (None, 64)                49408     \n",
            "                                                                 \n",
            " dense_3 (Dense)             (None, 1)                 65        \n",
            "                                                                 \n",
            "=================================================================\n",
            "Total params: 5169473 (19.72 MB)\n",
            "Trainable params: 5169473 (19.72 MB)\n",
            "Non-trainable params: 0 (0.00 Byte)\n",
            "_________________________________________________________________\n"
          ]
        }
      ]
    },
    {
      "cell_type": "code",
      "source": [
        "text_extractor = keras.Model(text_model.input, text_model.layers[-2].output)"
      ],
      "metadata": {
        "id": "f2lhnuK3Zxyp"
      },
      "execution_count": 48,
      "outputs": []
    },
    {
      "cell_type": "code",
      "source": [
        "text_model.compile(optimizer='adam',loss='binary_crossentropy',metrics=['accuracy'])"
      ],
      "metadata": {
        "id": "TLgjv8lB_tqg"
      },
      "execution_count": 49,
      "outputs": []
    },
    {
      "cell_type": "code",
      "source": [
        "num_epochs = 20\n",
        "\n",
        "\n",
        "def run(model, train_x, train_y, valid_x=None, valid_y=None, path='./best_model.h5', epoch_num=10):\n",
        "  checkpoint = ModelCheckpoint(filepath=path, save_weights_only=True, monitor='val_accuracy', save_best_only=True)\n",
        "  if valid_x is not None and valid_y is not None:\n",
        "    hist = model.fit(train_x, train_y, epochs=epoch_num, validation_data=(valid_x,valid_y), callbacks=[checkpoint])\n",
        "  else:\n",
        "    hist = model.fit(train_x, train_y, epochs=epoch_num)\n",
        "  return hist\n",
        "\n",
        "text_hist = run(text_model, train_padded_sequences, text_train_y, valid_padded_sequences,text_valid_y, path='best_text.h5', epoch_num=num_epochs)"
      ],
      "metadata": {
        "colab": {
          "base_uri": "https://localhost:8080/"
        },
        "id": "IEp1hoovA0J4",
        "outputId": "67a97149-48ef-4eed-ead9-9485d89796b1"
      },
      "execution_count": 50,
      "outputs": [
        {
          "output_type": "stream",
          "name": "stdout",
          "text": [
            "Epoch 1/20\n",
            "834/834 [==============================] - 37s 41ms/step - loss: 0.4219 - accuracy: 0.8015 - val_loss: 0.3852 - val_accuracy: 0.8346\n",
            "Epoch 2/20\n",
            "834/834 [==============================] - 12s 15ms/step - loss: 0.2020 - accuracy: 0.9224 - val_loss: 0.3986 - val_accuracy: 0.8285\n",
            "Epoch 3/20\n",
            "834/834 [==============================] - 11s 13ms/step - loss: 0.1118 - accuracy: 0.9593 - val_loss: 0.4674 - val_accuracy: 0.8260\n",
            "Epoch 4/20\n",
            "834/834 [==============================] - 9s 11ms/step - loss: 0.0669 - accuracy: 0.9766 - val_loss: 0.8444 - val_accuracy: 0.8198\n",
            "Epoch 5/20\n",
            "834/834 [==============================] - 8s 9ms/step - loss: 0.0421 - accuracy: 0.9855 - val_loss: 0.8088 - val_accuracy: 0.8279\n",
            "Epoch 6/20\n",
            "834/834 [==============================] - 9s 11ms/step - loss: 0.0302 - accuracy: 0.9899 - val_loss: 0.8963 - val_accuracy: 0.8149\n",
            "Epoch 7/20\n",
            "834/834 [==============================] - 8s 9ms/step - loss: 0.0275 - accuracy: 0.9908 - val_loss: 0.8527 - val_accuracy: 0.8274\n",
            "Epoch 8/20\n",
            "834/834 [==============================] - 9s 10ms/step - loss: 0.0180 - accuracy: 0.9943 - val_loss: 0.9088 - val_accuracy: 0.8179\n",
            "Epoch 9/20\n",
            "834/834 [==============================] - 9s 11ms/step - loss: 0.0171 - accuracy: 0.9945 - val_loss: 0.8974 - val_accuracy: 0.8209\n",
            "Epoch 10/20\n",
            "834/834 [==============================] - 7s 9ms/step - loss: 0.0119 - accuracy: 0.9962 - val_loss: 0.9406 - val_accuracy: 0.8159\n",
            "Epoch 11/20\n",
            "834/834 [==============================] - 8s 10ms/step - loss: 0.0109 - accuracy: 0.9966 - val_loss: 0.9405 - val_accuracy: 0.8223\n",
            "Epoch 12/20\n",
            "834/834 [==============================] - 7s 8ms/step - loss: 0.0095 - accuracy: 0.9971 - val_loss: 1.0815 - val_accuracy: 0.8263\n",
            "Epoch 13/20\n",
            "834/834 [==============================] - 8s 10ms/step - loss: 0.0115 - accuracy: 0.9967 - val_loss: 0.9867 - val_accuracy: 0.8135\n",
            "Epoch 14/20\n",
            "834/834 [==============================] - 8s 10ms/step - loss: 0.0133 - accuracy: 0.9958 - val_loss: 0.9168 - val_accuracy: 0.8231\n",
            "Epoch 15/20\n",
            "834/834 [==============================] - 8s 9ms/step - loss: 0.0077 - accuracy: 0.9975 - val_loss: 0.9486 - val_accuracy: 0.8235\n",
            "Epoch 16/20\n",
            "834/834 [==============================] - 8s 10ms/step - loss: 0.0032 - accuracy: 0.9989 - val_loss: 1.1981 - val_accuracy: 0.8152\n",
            "Epoch 17/20\n",
            "834/834 [==============================] - 7s 8ms/step - loss: 0.0020 - accuracy: 0.9995 - val_loss: 1.1921 - val_accuracy: 0.8254\n",
            "Epoch 18/20\n",
            "834/834 [==============================] - 8s 10ms/step - loss: 0.0055 - accuracy: 0.9982 - val_loss: 0.9683 - val_accuracy: 0.8202\n",
            "Epoch 19/20\n",
            "834/834 [==============================] - 7s 9ms/step - loss: 0.0060 - accuracy: 0.9983 - val_loss: 1.0805 - val_accuracy: 0.8221\n",
            "Epoch 20/20\n",
            "834/834 [==============================] - 8s 10ms/step - loss: 0.0032 - accuracy: 0.9988 - val_loss: 1.1008 - val_accuracy: 0.8229\n"
          ]
        }
      ]
    },
    {
      "cell_type": "code",
      "source": [],
      "metadata": {
        "id": "rvKZ7XdyCTYg"
      },
      "execution_count": 50,
      "outputs": []
    },
    {
      "cell_type": "markdown",
      "source": [
        "## 사회적 지표 사용 모델"
      ],
      "metadata": {
        "id": "9u3Ucm9xw0DA"
      }
    },
    {
      "cell_type": "code",
      "source": [
        "ind = ''\n",
        "with open(path+ind+'train_x.pkl','rb') as f:\n",
        "  social_train_x = pickle.load(f)\n",
        "\n",
        "with open(path+ind+'train_y.pkl','rb') as f:\n",
        "  social_train_y = pickle.load(f)\n",
        "\n",
        "with open(path+ind+'valid_x.pkl','rb') as f:\n",
        "  social_valid_x = pickle.load(f)\n",
        "\n",
        "with open(path+ind+'valid_y.pkl','rb') as f:\n",
        "  social_valid_y = pickle.load(f)\n",
        "\n",
        "with open(path+ind+'test_x.pkl','rb') as f:\n",
        "  social_test_x = pickle.load(f)\n",
        "\n",
        "with open(path+ind+'test_y.pkl','rb') as f:\n",
        "  social_test_y = pickle.load(f)"
      ],
      "metadata": {
        "id": "RO7G3_dMbOFy"
      },
      "execution_count": 83,
      "outputs": []
    },
    {
      "cell_type": "code",
      "source": [
        "social_train_x = social_train_x[:,:,1:]\n",
        "social_valid_x = social_valid_x[:,:,1:]\n",
        "social_test_x = social_test_x[:,:,1:]"
      ],
      "metadata": {
        "id": "N7nlKTosaYQ0"
      },
      "execution_count": 84,
      "outputs": []
    },
    {
      "cell_type": "code",
      "source": [
        "social_train_x.shape"
      ],
      "metadata": {
        "colab": {
          "base_uri": "https://localhost:8080/"
        },
        "id": "gZ1DkdTfeXNS",
        "outputId": "590d06ac-70c3-4f83-aa74-43ea01c1194d"
      },
      "execution_count": 85,
      "outputs": [
        {
          "output_type": "execute_result",
          "data": {
            "text/plain": [
              "(21, 4, 5)"
            ]
          },
          "metadata": {},
          "execution_count": 85
        }
      ]
    },
    {
      "cell_type": "code",
      "source": [
        "social_scaler = MinMaxScaler()\n",
        "social_train_x = social_scaler.fit_transform(social_train_x.reshape(-1, social_train_x.shape[-1])).reshape(social_train_x.shape)\n",
        "social_valid_x = social_scaler.transform(social_valid_x.reshape(-1, social_valid_x.shape[-1])).reshape(social_valid_x.shape)\n",
        "social_test_x = social_scaler.transform(social_test_x.reshape(-1, social_test_x.shape[-1])).reshape(social_test_x.shape)"
      ],
      "metadata": {
        "id": "FTY9kiDLadyg"
      },
      "execution_count": 86,
      "outputs": []
    },
    {
      "cell_type": "code",
      "source": [
        "input_feature = 5  # 고정\n",
        "dropout_p = 0.5\n",
        "num_epochs = 50\n",
        "lr = 1e-4\n",
        "kernel_size = 4"
      ],
      "metadata": {
        "id": "2s7SJZHnajcA"
      },
      "execution_count": 87,
      "outputs": []
    },
    {
      "cell_type": "code",
      "source": [
        "def get_lstm_model(input_features, dropout_p, dense_layers=None):\n",
        "    input = keras.layers.Input(shape=(4, input_features))\n",
        "    x = keras.layers.LSTM(64, dropout=dropout_p)(input)\n",
        "    if dense_layers:\n",
        "        for i in dense_layers:\n",
        "            x = keras.layers.Dense(i, activation='relu')(x)\n",
        "    output = keras.layers.Dense(1, activation='sigmoid')(x)\n",
        "    model = keras.Model(input, output)\n",
        "    return model\n",
        "\n",
        "def get_cnn_model(input_features, dropout_p, kernel_size, dense_layers=[64]):\n",
        "    input = keras.layers.Input(shape=(4, input_features))\n",
        "    x = keras.layers.Conv1D(filters=32, kernel_size=kernel_size, activation='relu')(input)\n",
        "    x = keras.layers.Dropout(dropout_p)(x)\n",
        "    if dense_layers:\n",
        "        for i in dense_layers:\n",
        "            x = keras.layers.Dense(i, activation='relu')(x)\n",
        "    output = keras.layers.Dense(1, activation='sigmoid')(x)[:,:,0]\n",
        "    model = keras.Model(input, output)\n",
        "    return model"
      ],
      "metadata": {
        "id": "tagEyMlZwy39"
      },
      "execution_count": 88,
      "outputs": []
    },
    {
      "cell_type": "code",
      "source": [
        "def compile_social_model(model,optimizer='adam',loss='binary_crosentropy'):\n",
        "  model.compile(loss='binary_crossentropy', optimizer=optimizer, metrics=['accuracy'])\n",
        "  return\n",
        "\n",
        "def run_social_model(model, train_x, train_y, valid_x=None, valid_y=None, path='./best_social.h5', epoch_num=10):\n",
        "  checkpoint = ModelCheckpoint(filepath=path, save_weights_only=True, monitor='val_accuracy', save_best_only=True)\n",
        "  if valid_x is not None and valid_y is not None:\n",
        "    hist = model.fit(train_x, train_y, epochs=epoch_num, validation_data=(valid_x, valid_y), callbacks=[checkpoint])\n",
        "  else:\n",
        "    hist = model.fit(train_x, train_y, epochs=epoch_num)\n",
        "  return hist"
      ],
      "metadata": {
        "id": "oCCe3hWZa7TM"
      },
      "execution_count": 89,
      "outputs": []
    },
    {
      "cell_type": "code",
      "source": [
        "social_model = get_cnn_model(input_feature, dropout_p, kernel_size)\n",
        "social_model.summary()"
      ],
      "metadata": {
        "colab": {
          "base_uri": "https://localhost:8080/"
        },
        "id": "USM25M8ga-PV",
        "outputId": "7d830b90-5da1-4f29-9213-62d7bf559b7d"
      },
      "execution_count": 90,
      "outputs": [
        {
          "output_type": "stream",
          "name": "stdout",
          "text": [
            "Model: \"model_8\"\n",
            "_________________________________________________________________\n",
            " Layer (type)                Output Shape              Param #   \n",
            "=================================================================\n",
            " input_5 (InputLayer)        [(None, 4, 5)]            0         \n",
            "                                                                 \n",
            " conv1d_2 (Conv1D)           (None, 1, 32)             672       \n",
            "                                                                 \n",
            " dropout_3 (Dropout)         (None, 1, 32)             0         \n",
            "                                                                 \n",
            " dense_8 (Dense)             (None, 1, 64)             2112      \n",
            "                                                                 \n",
            " dense_9 (Dense)             (None, 1, 1)              65        \n",
            "                                                                 \n",
            " tf.__operators__.getitem_2  (None, 1)                 0         \n",
            "  (SlicingOpLambda)                                              \n",
            "                                                                 \n",
            "=================================================================\n",
            "Total params: 2849 (11.13 KB)\n",
            "Trainable params: 2849 (11.13 KB)\n",
            "Non-trainable params: 0 (0.00 Byte)\n",
            "_________________________________________________________________\n"
          ]
        }
      ]
    },
    {
      "cell_type": "code",
      "source": [
        "social_extractor = keras.Model(social_model.input, social_model.layers[-3].output)"
      ],
      "metadata": {
        "id": "_xd6XirabTGu"
      },
      "execution_count": 91,
      "outputs": []
    },
    {
      "cell_type": "code",
      "source": [
        "compile_social_model(social_model,optimizer=keras.optimizers.Adam(learning_rate=lr))"
      ],
      "metadata": {
        "id": "1E1J-xZici2C"
      },
      "execution_count": 92,
      "outputs": []
    },
    {
      "cell_type": "code",
      "source": [
        "social_hist = run_social_model(social_model, social_train_x, social_train_y, valid_x = social_valid_x, valid_y=social_valid_y, path='best_social.h5', epoch_num=num_epochs)"
      ],
      "metadata": {
        "colab": {
          "base_uri": "https://localhost:8080/"
        },
        "id": "i2GtIsxAbqnc",
        "outputId": "f63e953c-78ee-4c32-a259-37d28dd52d3a"
      },
      "execution_count": 93,
      "outputs": [
        {
          "output_type": "stream",
          "name": "stdout",
          "text": [
            "Epoch 1/50\n",
            "1/1 [==============================] - 2s 2s/step - loss: 0.6844 - accuracy: 0.5714 - val_loss: 0.7089 - val_accuracy: 0.3333\n",
            "Epoch 2/50\n",
            "1/1 [==============================] - 0s 35ms/step - loss: 0.6963 - accuracy: 0.3810 - val_loss: 0.7090 - val_accuracy: 0.3333\n",
            "Epoch 3/50\n",
            "1/1 [==============================] - 0s 30ms/step - loss: 0.7040 - accuracy: 0.5238 - val_loss: 0.7090 - val_accuracy: 0.3333\n",
            "Epoch 4/50\n",
            "1/1 [==============================] - 0s 30ms/step - loss: 0.7024 - accuracy: 0.4286 - val_loss: 0.7090 - val_accuracy: 0.3333\n",
            "Epoch 5/50\n",
            "1/1 [==============================] - 0s 30ms/step - loss: 0.6848 - accuracy: 0.6190 - val_loss: 0.7091 - val_accuracy: 0.3333\n",
            "Epoch 6/50\n",
            "1/1 [==============================] - 0s 34ms/step - loss: 0.6861 - accuracy: 0.4762 - val_loss: 0.7091 - val_accuracy: 0.3333\n",
            "Epoch 7/50\n",
            "1/1 [==============================] - 0s 31ms/step - loss: 0.6756 - accuracy: 0.6190 - val_loss: 0.7092 - val_accuracy: 0.3333\n",
            "Epoch 8/50\n",
            "1/1 [==============================] - 0s 31ms/step - loss: 0.7008 - accuracy: 0.4286 - val_loss: 0.7093 - val_accuracy: 0.1667\n",
            "Epoch 9/50\n",
            "1/1 [==============================] - 0s 31ms/step - loss: 0.6729 - accuracy: 0.5714 - val_loss: 0.7094 - val_accuracy: 0.1667\n",
            "Epoch 10/50\n",
            "1/1 [==============================] - 0s 31ms/step - loss: 0.6932 - accuracy: 0.6190 - val_loss: 0.7095 - val_accuracy: 0.1667\n",
            "Epoch 11/50\n",
            "1/1 [==============================] - 0s 31ms/step - loss: 0.6847 - accuracy: 0.5714 - val_loss: 0.7096 - val_accuracy: 0.1667\n",
            "Epoch 12/50\n",
            "1/1 [==============================] - 0s 36ms/step - loss: 0.6805 - accuracy: 0.6190 - val_loss: 0.7097 - val_accuracy: 0.1667\n",
            "Epoch 13/50\n",
            "1/1 [==============================] - 0s 32ms/step - loss: 0.6879 - accuracy: 0.5238 - val_loss: 0.7097 - val_accuracy: 0.1667\n",
            "Epoch 14/50\n",
            "1/1 [==============================] - 0s 30ms/step - loss: 0.6581 - accuracy: 0.6667 - val_loss: 0.7098 - val_accuracy: 0.1667\n",
            "Epoch 15/50\n",
            "1/1 [==============================] - 0s 47ms/step - loss: 0.6834 - accuracy: 0.6190 - val_loss: 0.7100 - val_accuracy: 0.1667\n",
            "Epoch 16/50\n",
            "1/1 [==============================] - 0s 31ms/step - loss: 0.6618 - accuracy: 0.6667 - val_loss: 0.7101 - val_accuracy: 0.1667\n",
            "Epoch 17/50\n",
            "1/1 [==============================] - 0s 30ms/step - loss: 0.6885 - accuracy: 0.4762 - val_loss: 0.7102 - val_accuracy: 0.1667\n",
            "Epoch 18/50\n",
            "1/1 [==============================] - 0s 30ms/step - loss: 0.7083 - accuracy: 0.5714 - val_loss: 0.7103 - val_accuracy: 0.1667\n",
            "Epoch 19/50\n",
            "1/1 [==============================] - 0s 30ms/step - loss: 0.6965 - accuracy: 0.5238 - val_loss: 0.7105 - val_accuracy: 0.1667\n",
            "Epoch 20/50\n",
            "1/1 [==============================] - 0s 42ms/step - loss: 0.6688 - accuracy: 0.7143 - val_loss: 0.7106 - val_accuracy: 0.1667\n",
            "Epoch 21/50\n",
            "1/1 [==============================] - 0s 39ms/step - loss: 0.6826 - accuracy: 0.5714 - val_loss: 0.7107 - val_accuracy: 0.1667\n",
            "Epoch 22/50\n",
            "1/1 [==============================] - 0s 59ms/step - loss: 0.6937 - accuracy: 0.5238 - val_loss: 0.7108 - val_accuracy: 0.3333\n",
            "Epoch 23/50\n",
            "1/1 [==============================] - 0s 40ms/step - loss: 0.6771 - accuracy: 0.6190 - val_loss: 0.7108 - val_accuracy: 0.3333\n",
            "Epoch 24/50\n",
            "1/1 [==============================] - 0s 37ms/step - loss: 0.6557 - accuracy: 0.6667 - val_loss: 0.7109 - val_accuracy: 0.3333\n",
            "Epoch 25/50\n",
            "1/1 [==============================] - 0s 40ms/step - loss: 0.6935 - accuracy: 0.4286 - val_loss: 0.7110 - val_accuracy: 0.3333\n",
            "Epoch 26/50\n",
            "1/1 [==============================] - 0s 39ms/step - loss: 0.6857 - accuracy: 0.5714 - val_loss: 0.7111 - val_accuracy: 0.3333\n",
            "Epoch 27/50\n",
            "1/1 [==============================] - 0s 57ms/step - loss: 0.6956 - accuracy: 0.4762 - val_loss: 0.7111 - val_accuracy: 0.3333\n",
            "Epoch 28/50\n",
            "1/1 [==============================] - 0s 30ms/step - loss: 0.6928 - accuracy: 0.4286 - val_loss: 0.7112 - val_accuracy: 0.3333\n",
            "Epoch 29/50\n",
            "1/1 [==============================] - 0s 30ms/step - loss: 0.7064 - accuracy: 0.5714 - val_loss: 0.7112 - val_accuracy: 0.3333\n",
            "Epoch 30/50\n",
            "1/1 [==============================] - 0s 30ms/step - loss: 0.6981 - accuracy: 0.4762 - val_loss: 0.7113 - val_accuracy: 0.3333\n",
            "Epoch 31/50\n",
            "1/1 [==============================] - 0s 37ms/step - loss: 0.6925 - accuracy: 0.5238 - val_loss: 0.7114 - val_accuracy: 0.3333\n",
            "Epoch 32/50\n",
            "1/1 [==============================] - 0s 29ms/step - loss: 0.6924 - accuracy: 0.5714 - val_loss: 0.7114 - val_accuracy: 0.3333\n",
            "Epoch 33/50\n",
            "1/1 [==============================] - 0s 31ms/step - loss: 0.6902 - accuracy: 0.4762 - val_loss: 0.7115 - val_accuracy: 0.3333\n",
            "Epoch 34/50\n",
            "1/1 [==============================] - 0s 30ms/step - loss: 0.6888 - accuracy: 0.5714 - val_loss: 0.7115 - val_accuracy: 0.3333\n",
            "Epoch 35/50\n",
            "1/1 [==============================] - 0s 30ms/step - loss: 0.6934 - accuracy: 0.5714 - val_loss: 0.7115 - val_accuracy: 0.3333\n",
            "Epoch 36/50\n",
            "1/1 [==============================] - 0s 29ms/step - loss: 0.6867 - accuracy: 0.4762 - val_loss: 0.7116 - val_accuracy: 0.3333\n",
            "Epoch 37/50\n",
            "1/1 [==============================] - 0s 31ms/step - loss: 0.6836 - accuracy: 0.5714 - val_loss: 0.7116 - val_accuracy: 0.3333\n",
            "Epoch 38/50\n",
            "1/1 [==============================] - 0s 33ms/step - loss: 0.6818 - accuracy: 0.5714 - val_loss: 0.7116 - val_accuracy: 0.3333\n",
            "Epoch 39/50\n",
            "1/1 [==============================] - 0s 31ms/step - loss: 0.6905 - accuracy: 0.4286 - val_loss: 0.7117 - val_accuracy: 0.3333\n",
            "Epoch 40/50\n",
            "1/1 [==============================] - 0s 31ms/step - loss: 0.6871 - accuracy: 0.4286 - val_loss: 0.7117 - val_accuracy: 0.3333\n",
            "Epoch 41/50\n",
            "1/1 [==============================] - 0s 30ms/step - loss: 0.6559 - accuracy: 0.6667 - val_loss: 0.7118 - val_accuracy: 0.3333\n",
            "Epoch 42/50\n",
            "1/1 [==============================] - 0s 29ms/step - loss: 0.6835 - accuracy: 0.4762 - val_loss: 0.7118 - val_accuracy: 0.3333\n",
            "Epoch 43/50\n",
            "1/1 [==============================] - 0s 48ms/step - loss: 0.6922 - accuracy: 0.4762 - val_loss: 0.7119 - val_accuracy: 0.3333\n",
            "Epoch 44/50\n",
            "1/1 [==============================] - 0s 30ms/step - loss: 0.6818 - accuracy: 0.6190 - val_loss: 0.7120 - val_accuracy: 0.3333\n",
            "Epoch 45/50\n",
            "1/1 [==============================] - 0s 31ms/step - loss: 0.6774 - accuracy: 0.4286 - val_loss: 0.7121 - val_accuracy: 0.3333\n",
            "Epoch 46/50\n",
            "1/1 [==============================] - 0s 49ms/step - loss: 0.6798 - accuracy: 0.5714 - val_loss: 0.7122 - val_accuracy: 0.3333\n",
            "Epoch 47/50\n",
            "1/1 [==============================] - 0s 53ms/step - loss: 0.6655 - accuracy: 0.6190 - val_loss: 0.7123 - val_accuracy: 0.3333\n",
            "Epoch 48/50\n",
            "1/1 [==============================] - 0s 36ms/step - loss: 0.6622 - accuracy: 0.6667 - val_loss: 0.7124 - val_accuracy: 0.3333\n",
            "Epoch 49/50\n",
            "1/1 [==============================] - 0s 37ms/step - loss: 0.6769 - accuracy: 0.5714 - val_loss: 0.7126 - val_accuracy: 0.3333\n",
            "Epoch 50/50\n",
            "1/1 [==============================] - 0s 53ms/step - loss: 0.6791 - accuracy: 0.5714 - val_loss: 0.7127 - val_accuracy: 0.3333\n"
          ]
        }
      ]
    },
    {
      "cell_type": "code",
      "source": [],
      "metadata": {
        "id": "10b-mf_pmm4N"
      },
      "execution_count": 93,
      "outputs": []
    },
    {
      "cell_type": "code",
      "source": [
        "social_model.predict(social_test_x)"
      ],
      "metadata": {
        "colab": {
          "base_uri": "https://localhost:8080/"
        },
        "id": "L1fSViJUmm3M",
        "outputId": "a8ace636-1a86-4f4f-e3de-d596f182fa77"
      },
      "execution_count": 94,
      "outputs": [
        {
          "output_type": "stream",
          "name": "stdout",
          "text": [
            "1/1 [==============================] - 0s 163ms/step\n"
          ]
        },
        {
          "output_type": "execute_result",
          "data": {
            "text/plain": [
              "array([[0.4012885]], dtype=float32)"
            ]
          },
          "metadata": {},
          "execution_count": 94
        }
      ]
    },
    {
      "cell_type": "markdown",
      "source": [
        "## Combined Model"
      ],
      "metadata": {
        "id": "p2zP10JTVEjk"
      }
    },
    {
      "cell_type": "code",
      "source": [
        "def sections_to_data(df):\n",
        "  column_to_move = df.pop(\"speech_divide_to_10\")\n",
        "  df.insert(0, \"speech_divide_to_10\", column_to_move)\n",
        "\n",
        "  data = list()\n",
        "  for row in df.values:\n",
        "    for section in row[0]:\n",
        "      data_dict = {\"section\": section}\n",
        "      for i in range(1,len(row)):\n",
        "        data_dict[df.columns[i]] = row[i]\n",
        "      data.append(data_dict)\n",
        "  # print(data)\n",
        "  return pd.DataFrame(data)\n",
        "\n"
      ],
      "metadata": {
        "id": "Xovvr4sOBeMx"
      },
      "execution_count": 95,
      "outputs": []
    },
    {
      "cell_type": "code",
      "source": [
        "train_df = sections_to_data(train_df)\n",
        "valid_df = sections_to_data(valid_df)\n",
        "test_df = sections_to_data(test_df)"
      ],
      "metadata": {
        "id": "zS6NyYK3FD96",
        "colab": {
          "base_uri": "https://localhost:8080/",
          "height": 478
        },
        "outputId": "6ec36375-b142-43e0-db17-ba7cbf2253fc"
      },
      "execution_count": 96,
      "outputs": [
        {
          "output_type": "error",
          "ename": "KeyError",
          "evalue": "'speech_divide_to_10'",
          "traceback": [
            "\u001b[0;31m---------------------------------------------------------------------------\u001b[0m",
            "\u001b[0;31mKeyError\u001b[0m                                  Traceback (most recent call last)",
            "\u001b[0;32m/usr/local/lib/python3.10/dist-packages/pandas/core/indexes/base.py\u001b[0m in \u001b[0;36mget_loc\u001b[0;34m(self, key)\u001b[0m\n\u001b[1;32m   3652\u001b[0m         \u001b[0;32mtry\u001b[0m\u001b[0;34m:\u001b[0m\u001b[0;34m\u001b[0m\u001b[0;34m\u001b[0m\u001b[0m\n\u001b[0;32m-> 3653\u001b[0;31m             \u001b[0;32mreturn\u001b[0m \u001b[0mself\u001b[0m\u001b[0;34m.\u001b[0m\u001b[0m_engine\u001b[0m\u001b[0;34m.\u001b[0m\u001b[0mget_loc\u001b[0m\u001b[0;34m(\u001b[0m\u001b[0mcasted_key\u001b[0m\u001b[0;34m)\u001b[0m\u001b[0;34m\u001b[0m\u001b[0;34m\u001b[0m\u001b[0m\n\u001b[0m\u001b[1;32m   3654\u001b[0m         \u001b[0;32mexcept\u001b[0m \u001b[0mKeyError\u001b[0m \u001b[0;32mas\u001b[0m \u001b[0merr\u001b[0m\u001b[0;34m:\u001b[0m\u001b[0;34m\u001b[0m\u001b[0;34m\u001b[0m\u001b[0m\n",
            "\u001b[0;32m/usr/local/lib/python3.10/dist-packages/pandas/_libs/index.pyx\u001b[0m in \u001b[0;36mpandas._libs.index.IndexEngine.get_loc\u001b[0;34m()\u001b[0m\n",
            "\u001b[0;32m/usr/local/lib/python3.10/dist-packages/pandas/_libs/index.pyx\u001b[0m in \u001b[0;36mpandas._libs.index.IndexEngine.get_loc\u001b[0;34m()\u001b[0m\n",
            "\u001b[0;32mpandas/_libs/hashtable_class_helper.pxi\u001b[0m in \u001b[0;36mpandas._libs.hashtable.PyObjectHashTable.get_item\u001b[0;34m()\u001b[0m\n",
            "\u001b[0;32mpandas/_libs/hashtable_class_helper.pxi\u001b[0m in \u001b[0;36mpandas._libs.hashtable.PyObjectHashTable.get_item\u001b[0;34m()\u001b[0m\n",
            "\u001b[0;31mKeyError\u001b[0m: 'speech_divide_to_10'",
            "\nThe above exception was the direct cause of the following exception:\n",
            "\u001b[0;31mKeyError\u001b[0m                                  Traceback (most recent call last)",
            "\u001b[0;32m<ipython-input-96-1dad48835858>\u001b[0m in \u001b[0;36m<cell line: 1>\u001b[0;34m()\u001b[0m\n\u001b[0;32m----> 1\u001b[0;31m \u001b[0mtrain_df\u001b[0m \u001b[0;34m=\u001b[0m \u001b[0msections_to_data\u001b[0m\u001b[0;34m(\u001b[0m\u001b[0mtrain_df\u001b[0m\u001b[0;34m)\u001b[0m\u001b[0;34m\u001b[0m\u001b[0;34m\u001b[0m\u001b[0m\n\u001b[0m\u001b[1;32m      2\u001b[0m \u001b[0mvalid_df\u001b[0m \u001b[0;34m=\u001b[0m \u001b[0msections_to_data\u001b[0m\u001b[0;34m(\u001b[0m\u001b[0mvalid_df\u001b[0m\u001b[0;34m)\u001b[0m\u001b[0;34m\u001b[0m\u001b[0;34m\u001b[0m\u001b[0m\n\u001b[1;32m      3\u001b[0m \u001b[0mtest_df\u001b[0m \u001b[0;34m=\u001b[0m \u001b[0msections_to_data\u001b[0m\u001b[0;34m(\u001b[0m\u001b[0mtest_df\u001b[0m\u001b[0;34m)\u001b[0m\u001b[0;34m\u001b[0m\u001b[0;34m\u001b[0m\u001b[0m\n",
            "\u001b[0;32m<ipython-input-95-e8fbd0b30c1e>\u001b[0m in \u001b[0;36msections_to_data\u001b[0;34m(df)\u001b[0m\n\u001b[1;32m      1\u001b[0m \u001b[0;32mdef\u001b[0m \u001b[0msections_to_data\u001b[0m\u001b[0;34m(\u001b[0m\u001b[0mdf\u001b[0m\u001b[0;34m)\u001b[0m\u001b[0;34m:\u001b[0m\u001b[0;34m\u001b[0m\u001b[0;34m\u001b[0m\u001b[0m\n\u001b[0;32m----> 2\u001b[0;31m   \u001b[0mcolumn_to_move\u001b[0m \u001b[0;34m=\u001b[0m \u001b[0mdf\u001b[0m\u001b[0;34m.\u001b[0m\u001b[0mpop\u001b[0m\u001b[0;34m(\u001b[0m\u001b[0;34m\"speech_divide_to_10\"\u001b[0m\u001b[0;34m)\u001b[0m\u001b[0;34m\u001b[0m\u001b[0;34m\u001b[0m\u001b[0m\n\u001b[0m\u001b[1;32m      3\u001b[0m   \u001b[0mdf\u001b[0m\u001b[0;34m.\u001b[0m\u001b[0minsert\u001b[0m\u001b[0;34m(\u001b[0m\u001b[0;36m0\u001b[0m\u001b[0;34m,\u001b[0m \u001b[0;34m\"speech_divide_to_10\"\u001b[0m\u001b[0;34m,\u001b[0m \u001b[0mcolumn_to_move\u001b[0m\u001b[0;34m)\u001b[0m\u001b[0;34m\u001b[0m\u001b[0;34m\u001b[0m\u001b[0m\n\u001b[1;32m      4\u001b[0m \u001b[0;34m\u001b[0m\u001b[0m\n\u001b[1;32m      5\u001b[0m   \u001b[0mdata\u001b[0m \u001b[0;34m=\u001b[0m \u001b[0mlist\u001b[0m\u001b[0;34m(\u001b[0m\u001b[0;34m)\u001b[0m\u001b[0;34m\u001b[0m\u001b[0;34m\u001b[0m\u001b[0m\n",
            "\u001b[0;32m/usr/local/lib/python3.10/dist-packages/pandas/core/frame.py\u001b[0m in \u001b[0;36mpop\u001b[0;34m(self, item)\u001b[0m\n\u001b[1;32m   5541\u001b[0m         \u001b[0;36m3\u001b[0m  \u001b[0mmonkey\u001b[0m        \u001b[0mNaN\u001b[0m\u001b[0;34m\u001b[0m\u001b[0;34m\u001b[0m\u001b[0m\n\u001b[1;32m   5542\u001b[0m         \"\"\"\n\u001b[0;32m-> 5543\u001b[0;31m         \u001b[0;32mreturn\u001b[0m \u001b[0msuper\u001b[0m\u001b[0;34m(\u001b[0m\u001b[0;34m)\u001b[0m\u001b[0;34m.\u001b[0m\u001b[0mpop\u001b[0m\u001b[0;34m(\u001b[0m\u001b[0mitem\u001b[0m\u001b[0;34m=\u001b[0m\u001b[0mitem\u001b[0m\u001b[0;34m)\u001b[0m\u001b[0;34m\u001b[0m\u001b[0;34m\u001b[0m\u001b[0m\n\u001b[0m\u001b[1;32m   5544\u001b[0m \u001b[0;34m\u001b[0m\u001b[0m\n\u001b[1;32m   5545\u001b[0m     \u001b[0;34m@\u001b[0m\u001b[0moverload\u001b[0m\u001b[0;34m\u001b[0m\u001b[0;34m\u001b[0m\u001b[0m\n",
            "\u001b[0;32m/usr/local/lib/python3.10/dist-packages/pandas/core/generic.py\u001b[0m in \u001b[0;36mpop\u001b[0;34m(self, item)\u001b[0m\n\u001b[1;32m    851\u001b[0m \u001b[0;34m\u001b[0m\u001b[0m\n\u001b[1;32m    852\u001b[0m     \u001b[0;32mdef\u001b[0m \u001b[0mpop\u001b[0m\u001b[0;34m(\u001b[0m\u001b[0mself\u001b[0m\u001b[0;34m,\u001b[0m \u001b[0mitem\u001b[0m\u001b[0;34m:\u001b[0m \u001b[0mHashable\u001b[0m\u001b[0;34m)\u001b[0m \u001b[0;34m->\u001b[0m \u001b[0mSeries\u001b[0m \u001b[0;34m|\u001b[0m \u001b[0mAny\u001b[0m\u001b[0;34m:\u001b[0m\u001b[0;34m\u001b[0m\u001b[0;34m\u001b[0m\u001b[0m\n\u001b[0;32m--> 853\u001b[0;31m         \u001b[0mresult\u001b[0m \u001b[0;34m=\u001b[0m \u001b[0mself\u001b[0m\u001b[0;34m[\u001b[0m\u001b[0mitem\u001b[0m\u001b[0;34m]\u001b[0m\u001b[0;34m\u001b[0m\u001b[0;34m\u001b[0m\u001b[0m\n\u001b[0m\u001b[1;32m    854\u001b[0m         \u001b[0;32mdel\u001b[0m \u001b[0mself\u001b[0m\u001b[0;34m[\u001b[0m\u001b[0mitem\u001b[0m\u001b[0;34m]\u001b[0m\u001b[0;34m\u001b[0m\u001b[0;34m\u001b[0m\u001b[0m\n\u001b[1;32m    855\u001b[0m \u001b[0;34m\u001b[0m\u001b[0m\n",
            "\u001b[0;32m/usr/local/lib/python3.10/dist-packages/pandas/core/frame.py\u001b[0m in \u001b[0;36m__getitem__\u001b[0;34m(self, key)\u001b[0m\n\u001b[1;32m   3759\u001b[0m             \u001b[0;32mif\u001b[0m \u001b[0mself\u001b[0m\u001b[0;34m.\u001b[0m\u001b[0mcolumns\u001b[0m\u001b[0;34m.\u001b[0m\u001b[0mnlevels\u001b[0m \u001b[0;34m>\u001b[0m \u001b[0;36m1\u001b[0m\u001b[0;34m:\u001b[0m\u001b[0;34m\u001b[0m\u001b[0;34m\u001b[0m\u001b[0m\n\u001b[1;32m   3760\u001b[0m                 \u001b[0;32mreturn\u001b[0m \u001b[0mself\u001b[0m\u001b[0;34m.\u001b[0m\u001b[0m_getitem_multilevel\u001b[0m\u001b[0;34m(\u001b[0m\u001b[0mkey\u001b[0m\u001b[0;34m)\u001b[0m\u001b[0;34m\u001b[0m\u001b[0;34m\u001b[0m\u001b[0m\n\u001b[0;32m-> 3761\u001b[0;31m             \u001b[0mindexer\u001b[0m \u001b[0;34m=\u001b[0m \u001b[0mself\u001b[0m\u001b[0;34m.\u001b[0m\u001b[0mcolumns\u001b[0m\u001b[0;34m.\u001b[0m\u001b[0mget_loc\u001b[0m\u001b[0;34m(\u001b[0m\u001b[0mkey\u001b[0m\u001b[0;34m)\u001b[0m\u001b[0;34m\u001b[0m\u001b[0;34m\u001b[0m\u001b[0m\n\u001b[0m\u001b[1;32m   3762\u001b[0m             \u001b[0;32mif\u001b[0m \u001b[0mis_integer\u001b[0m\u001b[0;34m(\u001b[0m\u001b[0mindexer\u001b[0m\u001b[0;34m)\u001b[0m\u001b[0;34m:\u001b[0m\u001b[0;34m\u001b[0m\u001b[0;34m\u001b[0m\u001b[0m\n\u001b[1;32m   3763\u001b[0m                 \u001b[0mindexer\u001b[0m \u001b[0;34m=\u001b[0m \u001b[0;34m[\u001b[0m\u001b[0mindexer\u001b[0m\u001b[0;34m]\u001b[0m\u001b[0;34m\u001b[0m\u001b[0;34m\u001b[0m\u001b[0m\n",
            "\u001b[0;32m/usr/local/lib/python3.10/dist-packages/pandas/core/indexes/base.py\u001b[0m in \u001b[0;36mget_loc\u001b[0;34m(self, key)\u001b[0m\n\u001b[1;32m   3653\u001b[0m             \u001b[0;32mreturn\u001b[0m \u001b[0mself\u001b[0m\u001b[0;34m.\u001b[0m\u001b[0m_engine\u001b[0m\u001b[0;34m.\u001b[0m\u001b[0mget_loc\u001b[0m\u001b[0;34m(\u001b[0m\u001b[0mcasted_key\u001b[0m\u001b[0;34m)\u001b[0m\u001b[0;34m\u001b[0m\u001b[0;34m\u001b[0m\u001b[0m\n\u001b[1;32m   3654\u001b[0m         \u001b[0;32mexcept\u001b[0m \u001b[0mKeyError\u001b[0m \u001b[0;32mas\u001b[0m \u001b[0merr\u001b[0m\u001b[0;34m:\u001b[0m\u001b[0;34m\u001b[0m\u001b[0;34m\u001b[0m\u001b[0m\n\u001b[0;32m-> 3655\u001b[0;31m             \u001b[0;32mraise\u001b[0m \u001b[0mKeyError\u001b[0m\u001b[0;34m(\u001b[0m\u001b[0mkey\u001b[0m\u001b[0;34m)\u001b[0m \u001b[0;32mfrom\u001b[0m \u001b[0merr\u001b[0m\u001b[0;34m\u001b[0m\u001b[0;34m\u001b[0m\u001b[0m\n\u001b[0m\u001b[1;32m   3656\u001b[0m         \u001b[0;32mexcept\u001b[0m \u001b[0mTypeError\u001b[0m\u001b[0;34m:\u001b[0m\u001b[0;34m\u001b[0m\u001b[0;34m\u001b[0m\u001b[0m\n\u001b[1;32m   3657\u001b[0m             \u001b[0;31m# If we have a listlike key, _check_indexing_error will raise\u001b[0m\u001b[0;34m\u001b[0m\u001b[0;34m\u001b[0m\u001b[0m\n",
            "\u001b[0;31mKeyError\u001b[0m: 'speech_divide_to_10'"
          ]
        }
      ]
    },
    {
      "cell_type": "code",
      "source": [
        "# train set엔 기본적으로 959개\n",
        "# max_vocab_size = 40000\n",
        "\n",
        "# tokenizer = Tokenizer(num_words = max_vocab_size)\n",
        "# tokenizer.fit_on_texts(train_df[\"section\"])\n",
        "\n",
        "train_df[\"section_sequence\"] = train_df[\"section\"].apply(tokenizer.texts_to_sequences)\n",
        "valid_df[\"section_sequence\"] = valid_df[\"section\"].apply(tokenizer.texts_to_sequences)#.apply(lambda x: pad_sequences([elem for lst in x for elem in lst], maxlen=100))\n",
        "test_df[\"section_sequence\"] = test_df[\"section\"].apply(tokenizer.texts_to_sequences)#.apply(lambda x: pad_sequences([elem for lst in x for elem in lst], maxlen=100))\n",
        "\n",
        "train_df[\"section_sequence\"] = train_df[\"section_sequence\"].apply(lambda x: [elem for lst in x for elem in lst])\n",
        "valid_df[\"section_sequence\"] = valid_df[\"section_sequence\"].apply(lambda x: [elem for lst in x for elem in lst])\n",
        "test_df[\"section_sequence\"] = test_df[\"section_sequence\"].apply(lambda x: [elem for lst in x for elem in lst])\n",
        "\n",
        "\n",
        "\n",
        "# train_sequences = tokenizer.texts_to_sequences(train_x_df[\"section\"])\n",
        "# valid_sequences = tokenizer.texts_to_sequences(train_x_df[\"section\"])\n",
        "# test_sequences = tokenizer.texts_to_sequences(train_x_df[\"section\"])\n",
        "\n",
        "# train_padded_sequences = pad_sequences(train_sequences, maxlen=100)\n",
        "# valid_padded_sequences = pad_sequences(valid_sequences, maxlen=100)\n",
        "# test_padded_sequences = pad_sequences(test_sequences, maxlen=100)"
      ],
      "metadata": {
        "id": "L8e3w3JfFfsY"
      },
      "execution_count": null,
      "outputs": []
    },
    {
      "cell_type": "code",
      "source": [
        "train_df[\"section_sequence\"] = train_df[\"section_sequence\"].apply(lambda x: pad_sequences([x],maxlen=100)[0])\n",
        "valid_df[\"section_sequence\"] = valid_df[\"section_sequence\"].apply(lambda x: pad_sequences([x],maxlen=100)[0])\n",
        "test_df[\"section_sequence\"] = test_df[\"section_sequence\"].apply(lambda x: pad_sequences([x],maxlen=100)[0])"
      ],
      "metadata": {
        "id": "uOwyWRueH8jK"
      },
      "execution_count": null,
      "outputs": []
    },
    {
      "cell_type": "code",
      "source": [
        "# train_df.to_csv('train_data_w_seq.csv')\n",
        "# valid_df.to_csv('valid_data_w_seq.csv')\n",
        "# test_df.to_csv('test_data_w_seq.csv')"
      ],
      "metadata": {
        "id": "Bz-94F9-LcH5"
      },
      "execution_count": null,
      "outputs": []
    },
    {
      "cell_type": "code",
      "source": [
        "# importance_scaler = MinMaxScaler()\n",
        "importance_columns = ['Year', 'environment_importance',\n",
        "       'economy_importance', 'diplomacy_importance', 'immigration_importance',\n",
        "       'justice_importance', 'education_importance', 'Healthcare_importance',\n",
        "       'military_importance', 'ideal_importance']\n",
        "\n",
        "# train_importance = importance_scaler.fit_transform(train_df[importance_columns])\n",
        "\n",
        "train_df[importance_columns] = importance_scaler.transform(train_df[importance_columns])\n",
        "valid_df[importance_columns] = importance_scaler.transform(valid_df[importance_columns])\n",
        "test_df[importance_columns] = importance_scaler.transform(test_df[importance_columns])\n",
        "# valid_x = importance_scaler.transform(valid_x_df)\n",
        "\n",
        "# test_x = importance_scaler.transform(test_x_df)\n",
        "\n",
        "# train_y = np.array(train_y_df)\n",
        "# valid_y = np.array(valid_y_df)\n",
        "# test_y = np.array(test_y_df)"
      ],
      "metadata": {
        "id": "-9JvUGv_K5Jt"
      },
      "execution_count": null,
      "outputs": []
    },
    {
      "cell_type": "code",
      "source": [
        "train_df"
      ],
      "metadata": {
        "id": "mByEnmUHwGUG"
      },
      "execution_count": null,
      "outputs": []
    },
    {
      "cell_type": "code",
      "source": [
        "social_columns = ['Approval_Rating', 'CPI', 'GDP', 'Employment status',\n",
        "       'Current_Party']\n",
        "\n",
        "train_df[social_columns] = social_scaler.transform(train_df[social_columns])\n",
        "valid_df[social_columns] = social_scaler.transform(valid_df[social_columns])\n",
        "test_df[social_columns] = social_scaler.transform(test_df[social_columns])"
      ],
      "metadata": {
        "colab": {
          "base_uri": "https://localhost:8080/"
        },
        "id": "SG3e1o7LN3G5",
        "outputId": "a2881b66-d63a-476d-dfce-c0f279150e1c"
      },
      "execution_count": 98,
      "outputs": [
        {
          "output_type": "stream",
          "name": "stderr",
          "text": [
            "/usr/local/lib/python3.10/dist-packages/sklearn/base.py:432: UserWarning: X has feature names, but MinMaxScaler was fitted without feature names\n",
            "  warnings.warn(\n",
            "/usr/local/lib/python3.10/dist-packages/sklearn/base.py:432: UserWarning: X has feature names, but MinMaxScaler was fitted without feature names\n",
            "  warnings.warn(\n",
            "/usr/local/lib/python3.10/dist-packages/sklearn/base.py:432: UserWarning: X has feature names, but MinMaxScaler was fitted without feature names\n",
            "  warnings.warn(\n"
          ]
        }
      ]
    },
    {
      "cell_type": "code",
      "source": [
        "def get_4year(year):\n",
        "  data = combined_4year_x[(year - 1913)//4][:,1:]\n",
        "  data = social_scaler.transform(data.reshape(-1,data.shape[-1])).reshape(data.shape)\n",
        "  return data\n",
        "\n",
        "train_df[\"4year\"] = train_df[\"speech_year\"].apply(get_4year)\n",
        "valid_df[\"4year\"] = valid_df[\"speech_year\"].apply(get_4year)\n",
        "test_df[\"4year\"] = test_df[\"speech_year\"].apply(get_4year)"
      ],
      "metadata": {
        "id": "lWeQz21-rE5A"
      },
      "execution_count": 99,
      "outputs": []
    },
    {
      "cell_type": "code",
      "source": [
        "social_model.load_weights('best_social.h5')\n",
        "text_model.load_weights('best_text.h5')\n",
        "importance_model.load_weights('best_importance.h5')"
      ],
      "metadata": {
        "id": "uB8hZCmcx-jI"
      },
      "execution_count": 100,
      "outputs": []
    },
    {
      "cell_type": "code",
      "source": [
        "social_input = keras.Input(shape=(4,5))\n",
        "importance_input = keras.Input(shape=(10,))\n",
        "text_input = keras.Input(shape=(100,))\n",
        "\n",
        "social_logit = social_extractor(social_input)\n",
        "importance_logit = importance_extractor(importance_input)\n",
        "text_logit = text_extractor(text_input)\n",
        "\n",
        "social_output = social_model(social_input)\n",
        "importance_output = importance_model(importance_input)\n",
        "text_output = text_model(text_input)\n",
        "\n",
        "combined_logit = keras.layers.concatenate([social_logit[:,0,:], importance_logit, text_logit])\n",
        "# combined_logit = keras.layers.concatenate([importance_logit, text_logit])\n",
        "\n",
        "ensemble_output = keras.layers.Dense(1, activation='sigmoid')(combined_logit)\n",
        "\n",
        "combined_model = keras.Model(inputs=[social_input, importance_input, text_input], outputs=ensemble_output)\n",
        "# combined_model = keras.Model(inputs=[importance_input, text_input], outputs=ensemble_output)"
      ],
      "metadata": {
        "id": "AeouM5tJfMni"
      },
      "execution_count": 101,
      "outputs": []
    },
    {
      "cell_type": "code",
      "source": [
        "# train_df.to_csv(path+'train_data_f.csv')\n",
        "# valid_df.to_csv(path+'valid_data_f.csv')\n",
        "# test_df.to_csv(path+'test_data_f.csv')"
      ],
      "metadata": {
        "id": "gGrE5FyQx70e"
      },
      "execution_count": null,
      "outputs": []
    },
    {
      "cell_type": "code",
      "source": [
        "# combined_model.compile(optimizer='adam',loss='binary_crossentropy',metrics=['accuracy'])\n",
        "\n",
        "combined_importance_x_train = train_df[importance_columns].to_numpy()\n",
        "combined_importance_x_train = np.stack(combined_importance_x_train)\n",
        "combined_text_x_train = train_df[\"section_sequence\"].to_numpy()\n",
        "combined_text_x_train = np.stack(combined_text_x_train)\n",
        "combined_social_x_train = train_df[\"4year\"].to_numpy()\n",
        "combined_social_x_train = np.stack(combined_social_x_train)\n",
        "\n",
        "combined_importance_x_valid = valid_df[importance_columns].to_numpy()\n",
        "combined_importance_x_valid = np.stack(combined_importance_x_valid)\n",
        "combined_text_x_valid = valid_df[\"section_sequence\"].to_numpy()\n",
        "combined_text_x_valid = np.stack(combined_text_x_valid)\n",
        "combined_social_x_valid = valid_df[\"4year\"].to_numpy()\n",
        "combined_social_x_valid = np.stack(combined_social_x_valid)\n",
        "\n",
        "combined_importance_x_test = test_df[importance_columns].to_numpy()\n",
        "combined_importance_x_test = np.stack(combined_importance_x_test)\n",
        "combined_text_x_test = test_df[\"section_sequence\"].to_numpy()\n",
        "combined_text_x_test = np.stack(combined_text_x_test)\n",
        "combined_social_x_test = test_df[\"4year\"].to_numpy()\n",
        "combined_social_x_test = np.stack(combined_social_x_test)\n",
        "\n",
        "\n",
        "def run(model, train_x, train_y, valid_x=None, valid_y=None, path='./best_model.h5', epoch_num=10):\n",
        "  checkpoint = ModelCheckpoint(filepath=path, save_weights_only=True, monitor='val_accuracy', save_best_only=True)\n",
        "  if valid_x is not None and valid_y is not None:\n",
        "    hist = model.fit(train_x, train_y, epochs=epoch_num, validation_data=(valid_x,valid_y), callbacks=[checkpoint])\n",
        "  else:\n",
        "    hist = model.fit(train_x, train_y, epochs=epoch_num)\n",
        "  return hist\n",
        "\n",
        "\n",
        "combined_model.compile(optimizer='adam',loss='binary_crossentropy',metrics=['accuracy'])\n",
        "\n",
        "combined_hist = run(combined_model, [combined_social_x_train, combined_importance_x_train, combined_text_x_train], train_df[\"elected\"].values, [combined_social_x_valid, combined_importance_x_valid, combined_text_x_valid],valid_df[\"elected\"].values, path='best_combined.h5', epoch_num=20)\n",
        "\n",
        "# combined_model.fit([importance_x, text_x], train_df[\"elected\"], epochs=20)\n",
        "# combined_hist = combined_model.fit([combined_social_x_train, combined_importance_x_train, combined_text_x_train], train_df[\"elected\"].values, validation_data = ([combined_social_x_valid, combined_importance_x_valid, combined_text_x_valid], valid_df[\"elected\"].values), epochs=20)"
      ],
      "metadata": {
        "id": "KO8paUIoo_vF",
        "colab": {
          "base_uri": "https://localhost:8080/"
        },
        "outputId": "f291f807-43bb-49b3-b8d4-24cc901e8e10"
      },
      "execution_count": 102,
      "outputs": [
        {
          "output_type": "stream",
          "name": "stdout",
          "text": [
            "Epoch 1/20\n",
            "834/834 [==============================] - 40s 44ms/step - loss: 0.2155 - accuracy: 0.9192 - val_loss: 0.4620 - val_accuracy: 0.8426\n",
            "Epoch 2/20\n",
            "834/834 [==============================] - 12s 15ms/step - loss: 0.1138 - accuracy: 0.9586 - val_loss: 0.4511 - val_accuracy: 0.8415\n",
            "Epoch 3/20\n",
            "834/834 [==============================] - 12s 15ms/step - loss: 0.0680 - accuracy: 0.9763 - val_loss: 0.5376 - val_accuracy: 0.8401\n",
            "Epoch 4/20\n",
            "834/834 [==============================] - 11s 13ms/step - loss: 0.0392 - accuracy: 0.9864 - val_loss: 0.6519 - val_accuracy: 0.8338\n",
            "Epoch 5/20\n",
            "834/834 [==============================] - 10s 12ms/step - loss: 0.0325 - accuracy: 0.9889 - val_loss: 0.7323 - val_accuracy: 0.8295\n",
            "Epoch 6/20\n",
            "834/834 [==============================] - 11s 13ms/step - loss: 0.0209 - accuracy: 0.9929 - val_loss: 0.8466 - val_accuracy: 0.8318\n",
            "Epoch 7/20\n",
            "834/834 [==============================] - 10s 12ms/step - loss: 0.0264 - accuracy: 0.9910 - val_loss: 0.7967 - val_accuracy: 0.8330\n",
            "Epoch 8/20\n",
            "834/834 [==============================] - 10s 12ms/step - loss: 0.0230 - accuracy: 0.9918 - val_loss: 0.7857 - val_accuracy: 0.8215\n",
            "Epoch 9/20\n",
            "834/834 [==============================] - 10s 11ms/step - loss: 0.0122 - accuracy: 0.9963 - val_loss: 0.9004 - val_accuracy: 0.8265\n",
            "Epoch 10/20\n",
            "834/834 [==============================] - 10s 12ms/step - loss: 0.0050 - accuracy: 0.9985 - val_loss: 0.9039 - val_accuracy: 0.8288\n",
            "Epoch 11/20\n",
            "834/834 [==============================] - 11s 13ms/step - loss: 0.0099 - accuracy: 0.9967 - val_loss: 1.0621 - val_accuracy: 0.8235\n",
            "Epoch 12/20\n",
            "834/834 [==============================] - 9s 10ms/step - loss: 0.0142 - accuracy: 0.9952 - val_loss: 1.1054 - val_accuracy: 0.8266\n",
            "Epoch 13/20\n",
            "834/834 [==============================] - 10s 12ms/step - loss: 0.0052 - accuracy: 0.9985 - val_loss: 0.9985 - val_accuracy: 0.8316\n",
            "Epoch 14/20\n",
            "834/834 [==============================] - 10s 13ms/step - loss: 0.0061 - accuracy: 0.9979 - val_loss: 0.9982 - val_accuracy: 0.8288\n",
            "Epoch 15/20\n",
            "834/834 [==============================] - 9s 11ms/step - loss: 0.0085 - accuracy: 0.9972 - val_loss: 0.9935 - val_accuracy: 0.8309\n",
            "Epoch 16/20\n",
            "834/834 [==============================] - 10s 12ms/step - loss: 0.0065 - accuracy: 0.9978 - val_loss: 1.2552 - val_accuracy: 0.8245\n",
            "Epoch 17/20\n",
            "834/834 [==============================] - 10s 12ms/step - loss: 0.0034 - accuracy: 0.9990 - val_loss: 1.0428 - val_accuracy: 0.8271\n",
            "Epoch 18/20\n",
            "834/834 [==============================] - 9s 11ms/step - loss: 0.0068 - accuracy: 0.9979 - val_loss: 0.9443 - val_accuracy: 0.8274\n",
            "Epoch 19/20\n",
            "834/834 [==============================] - 9s 11ms/step - loss: 0.0039 - accuracy: 0.9987 - val_loss: 1.1019 - val_accuracy: 0.8324\n",
            "Epoch 20/20\n",
            "834/834 [==============================] - 10s 12ms/step - loss: 0.0017 - accuracy: 0.9994 - val_loss: 1.0519 - val_accuracy: 0.8310\n"
          ]
        }
      ]
    },
    {
      "cell_type": "markdown",
      "source": [
        "## Evaluate"
      ],
      "metadata": {
        "id": "4bzPFv4fi8K8"
      }
    },
    {
      "cell_type": "code",
      "source": [
        "y_loss = combined_hist.history['loss']\n",
        "y_vloss = combined_hist.history['val_loss']\n",
        "\n",
        "x_len = np.arange(len(y_loss))\n",
        "\n",
        "plt.plot(x_len, y_vloss, marker='.', c='red', label=\"Validation Loss\")\n",
        "plt.plot(x_len, y_loss, marker='.', c='blue', label=\"Train Loss\")\n",
        "\n",
        "plt.legend(loc='upper right')\n",
        "plt.title(\"Combined model Loss plot\")\n",
        "plt.grid()\n",
        "plt.xlabel('epoch')\n",
        "plt.ylabel('loss')\n",
        "plt.show()"
      ],
      "metadata": {
        "id": "9qVED_mpljGw",
        "colab": {
          "base_uri": "https://localhost:8080/",
          "height": 472
        },
        "outputId": "dc548ffb-a70e-41f7-aaa7-8101b7b06db9"
      },
      "execution_count": 103,
      "outputs": [
        {
          "output_type": "display_data",
          "data": {
            "text/plain": [
              "<Figure size 640x480 with 1 Axes>"
            ],
            "image/png": "[encoded data removed]"
          },
          "metadata": {}
        }
      ]
    },
    {
      "cell_type": "code",
      "source": [
        "y_loss = social_hist.history['loss']\n",
        "y_vloss = social_hist.history['val_loss']\n",
        "\n",
        "x_len = np.arange(len(y_loss))\n",
        "\n",
        "plt.plot(x_len, y_vloss, marker='.', c='red', label=\"Validation Loss\")\n",
        "plt.plot(x_len, y_loss, marker='.', c='blue', label=\"Train Loss\")\n",
        "\n",
        "plt.legend(loc='upper right')\n",
        "plt.title(\"Social model Loss plot\")\n",
        "plt.grid()\n",
        "plt.xlabel('epoch')\n",
        "plt.ylabel('loss')\n",
        "plt.show()"
      ],
      "metadata": {
        "id": "1cuJhBu4mOTm",
        "colab": {
          "base_uri": "https://localhost:8080/",
          "height": 472
        },
        "outputId": "5555dd8f-f63e-4a18-9e6f-d4e34321c184"
      },
      "execution_count": 104,
      "outputs": [
        {
          "output_type": "display_data",
          "data": {
            "text/plain": [
              "<Figure size 640x480 with 1 Axes>"
            ],
            "image/png": "[encoded data removed]"
          },
          "metadata": {}
        }
      ]
    },
    {
      "cell_type": "code",
      "source": [
        "y_loss = text_hist.history['loss']\n",
        "y_vloss = text_hist.history['val_loss']\n",
        "\n",
        "x_len = np.arange(len(y_loss))\n",
        "\n",
        "plt.plot(x_len, y_vloss, marker='.', c='red', label=\"Validation Loss\")\n",
        "plt.plot(x_len, y_loss, marker='.', c='blue', label=\"Train Loss\")\n",
        "\n",
        "plt.legend(loc='upper right')\n",
        "plt.title(\"Text model Loss plot\")\n",
        "plt.grid()\n",
        "plt.xlabel('epoch')\n",
        "plt.ylabel('loss')\n",
        "plt.show()"
      ],
      "metadata": {
        "id": "ZQ0U0rxGmXw2",
        "colab": {
          "base_uri": "https://localhost:8080/",
          "height": 472
        },
        "outputId": "f2466a24-5329-4874-e85b-dbcf9c7b2a72"
      },
      "execution_count": 105,
      "outputs": [
        {
          "output_type": "display_data",
          "data": {
            "text/plain": [
              "<Figure size 640x480 with 1 Axes>"
            ],
            "image/png": "[encoded data removed]"
          },
          "metadata": {}
        }
      ]
    },
    {
      "cell_type": "code",
      "source": [
        "y_loss = importance_hist.history['loss']\n",
        "y_vloss = importance_hist.history['val_loss']\n",
        "\n",
        "x_len = np.arange(len(y_loss))\n",
        "\n",
        "plt.plot(x_len, y_vloss, marker='.', c='red', label=\"Validation Loss\")\n",
        "plt.plot(x_len, y_loss, marker='.', c='blue', label=\"Train Loss\")\n",
        "\n",
        "plt.legend(loc='upper right')\n",
        "plt.title(\"Importance model Loss plot\")\n",
        "plt.grid()\n",
        "plt.xlabel('epoch')\n",
        "plt.ylabel('loss')\n",
        "plt.show()"
      ],
      "metadata": {
        "id": "Q9c4SsmUmyjX",
        "colab": {
          "base_uri": "https://localhost:8080/",
          "height": 472
        },
        "outputId": "07745b1c-ace2-4d72-8201-3a795ec87e07"
      },
      "execution_count": 106,
      "outputs": [
        {
          "output_type": "display_data",
          "data": {
            "text/plain": [
              "<Figure size 640x480 with 1 Axes>"
            ],
            "image/png": "[encoded data removed]"
          },
          "metadata": {}
        }
      ]
    },
    {
      "cell_type": "code",
      "source": [
        "social_model.load_weights('best_social.h5')\n",
        "text_model.load_weights('best_text.h5')\n",
        "importance_model.load_weights('best_importance.h5')\n",
        "combined_model.load_weights('best_combined.h5')"
      ],
      "metadata": {
        "id": "QLXfO-naqAja"
      },
      "execution_count": 107,
      "outputs": []
    },
    {
      "cell_type": "code",
      "source": [
        "social_model._name = \"Social_model\"\n",
        "text_model._name = \"Text_model\"\n",
        "importance_model._name = \"Importance_model\""
      ],
      "metadata": {
        "id": "VES0Wh20zM-L"
      },
      "execution_count": 108,
      "outputs": []
    },
    {
      "cell_type": "code",
      "source": [
        "combined_model._name = \"Combined_model\"\n",
        "combined_model.summary()"
      ],
      "metadata": {
        "id": "5X9l8dU2ziPm",
        "colab": {
          "base_uri": "https://localhost:8080/"
        },
        "outputId": "6c16e33b-34cd-485a-ae36-8a6273ced9e9"
      },
      "execution_count": 109,
      "outputs": [
        {
          "output_type": "stream",
          "name": "stdout",
          "text": [
            "Model: \"Combined_model\"\n",
            "__________________________________________________________________________________________________\n",
            " Layer (type)                Output Shape                 Param #   Connected to                  \n",
            "==================================================================================================\n",
            " input_6 (InputLayer)        [(None, 4, 5)]               0         []                            \n",
            "                                                                                                  \n",
            " model_9 (Functional)        (None, 1, 64)                2784      ['input_6[0][0]']             \n",
            "                                                                                                  \n",
            " input_7 (InputLayer)        [(None, 10)]                 0         []                            \n",
            "                                                                                                  \n",
            " input_8 (InputLayer)        [(None, 100)]                0         []                            \n",
            "                                                                                                  \n",
            " tf.__operators__.getitem_3  (None, 64)                   0         ['model_9[0][0]']             \n",
            "  (SlicingOpLambda)                                                                               \n",
            "                                                                                                  \n",
            " model_1 (Functional)        (None, 64)                   9664      ['input_7[0][0]']             \n",
            "                                                                                                  \n",
            " model_3 (Functional)        (None, 64)                   5169408   ['input_8[0][0]']             \n",
            "                                                                                                  \n",
            " concatenate (Concatenate)   (None, 192)                  0         ['tf.__operators__.getitem_3[0\n",
            "                                                                    ][0]',                        \n",
            "                                                                     'model_1[0][0]',             \n",
            "                                                                     'model_3[0][0]']             \n",
            "                                                                                                  \n",
            " dense_10 (Dense)            (None, 1)                    193       ['concatenate[0][0]']         \n",
            "                                                                                                  \n",
            "==================================================================================================\n",
            "Total params: 5182049 (19.77 MB)\n",
            "Trainable params: 5182049 (19.77 MB)\n",
            "Non-trainable params: 0 (0.00 Byte)\n",
            "__________________________________________________________________________________________________\n"
          ]
        }
      ]
    },
    {
      "cell_type": "code",
      "source": [
        "social_model.summary()"
      ],
      "metadata": {
        "id": "CtCYrRrRzUv0",
        "colab": {
          "base_uri": "https://localhost:8080/"
        },
        "outputId": "baf1be16-99c9-46ec-a1d8-7cd1c0837083"
      },
      "execution_count": 110,
      "outputs": [
        {
          "output_type": "stream",
          "name": "stdout",
          "text": [
            "Model: \"Social_model\"\n",
            "_________________________________________________________________\n",
            " Layer (type)                Output Shape              Param #   \n",
            "=================================================================\n",
            " input_5 (InputLayer)        [(None, 4, 5)]            0         \n",
            "                                                                 \n",
            " conv1d_2 (Conv1D)           (None, 1, 32)             672       \n",
            "                                                                 \n",
            " dropout_3 (Dropout)         (None, 1, 32)             0         \n",
            "                                                                 \n",
            " dense_8 (Dense)             (None, 1, 64)             2112      \n",
            "                                                                 \n",
            " dense_9 (Dense)             (None, 1, 1)              65        \n",
            "                                                                 \n",
            " tf.__operators__.getitem_2  (None, 1)                 0         \n",
            "  (SlicingOpLambda)                                              \n",
            "                                                                 \n",
            "=================================================================\n",
            "Total params: 2849 (11.13 KB)\n",
            "Trainable params: 2849 (11.13 KB)\n",
            "Non-trainable params: 0 (0.00 Byte)\n",
            "_________________________________________________________________\n"
          ]
        }
      ]
    },
    {
      "cell_type": "code",
      "source": [
        "text_model.summary()"
      ],
      "metadata": {
        "id": "96rgSQNGzY_z",
        "colab": {
          "base_uri": "https://localhost:8080/"
        },
        "outputId": "67ad76a5-d521-4645-ac0e-4d86b6e0d07e"
      },
      "execution_count": 111,
      "outputs": [
        {
          "output_type": "stream",
          "name": "stdout",
          "text": [
            "Model: \"Text_model\"\n",
            "_________________________________________________________________\n",
            " Layer (type)                Output Shape              Param #   \n",
            "=================================================================\n",
            " input_2 (InputLayer)        [(None, 100)]             0         \n",
            "                                                                 \n",
            " embedding (Embedding)       (None, 100, 128)          5120000   \n",
            "                                                                 \n",
            " lstm (LSTM)                 (None, 64)                49408     \n",
            "                                                                 \n",
            " dense_3 (Dense)             (None, 1)                 65        \n",
            "                                                                 \n",
            "=================================================================\n",
            "Total params: 5169473 (19.72 MB)\n",
            "Trainable params: 5169473 (19.72 MB)\n",
            "Non-trainable params: 0 (0.00 Byte)\n",
            "_________________________________________________________________\n"
          ]
        }
      ]
    },
    {
      "cell_type": "code",
      "source": [
        "importance_model.summary()"
      ],
      "metadata": {
        "id": "NYMEo-IfzaqE",
        "colab": {
          "base_uri": "https://localhost:8080/"
        },
        "outputId": "8a8fbda5-54a7-4088-97a1-82e7e9d46eca"
      },
      "execution_count": 112,
      "outputs": [
        {
          "output_type": "stream",
          "name": "stdout",
          "text": [
            "Model: \"Importance_model\"\n",
            "_________________________________________________________________\n",
            " Layer (type)                Output Shape              Param #   \n",
            "=================================================================\n",
            " input_1 (InputLayer)        [(None, 10)]              0         \n",
            "                                                                 \n",
            " dense (Dense)               (None, 128)               1408      \n",
            "                                                                 \n",
            " dropout (Dropout)           (None, 128)               0         \n",
            "                                                                 \n",
            " dense_1 (Dense)             (None, 64)                8256      \n",
            "                                                                 \n",
            " dense_2 (Dense)             (None, 1)                 65        \n",
            "                                                                 \n",
            "=================================================================\n",
            "Total params: 9729 (38.00 KB)\n",
            "Trainable params: 9729 (38.00 KB)\n",
            "Non-trainable params: 0 (0.00 Byte)\n",
            "_________________________________________________________________\n"
          ]
        }
      ]
    },
    {
      "cell_type": "code",
      "source": [
        "s_result = social_model.evaluate(social_valid_x, social_valid_y)"
      ],
      "metadata": {
        "id": "ok6iGxKMkTGE",
        "colab": {
          "base_uri": "https://localhost:8080/"
        },
        "outputId": "d88729c2-1e3b-4fad-907f-ede5b1144250"
      },
      "execution_count": 113,
      "outputs": [
        {
          "output_type": "stream",
          "name": "stdout",
          "text": [
            "1/1 [==============================] - 0s 45ms/step - loss: 0.7214 - accuracy: 0.3333\n"
          ]
        }
      ]
    },
    {
      "cell_type": "code",
      "source": [
        "from sklearn.metrics import confusion_matrix\n",
        "from sklearn.metrics import precision_recall_fscore_support, accuracy_score\n",
        "\n",
        "#Predict\n",
        "y_prediction = social_model.predict(social_valid_x)\n",
        "\n",
        "y_true = social_valid_y\n",
        "y_pred = np.rint(y_prediction)\n",
        "\n",
        "#Create confusion matrix and normalizes it over predicted (columns)\n",
        "result = confusion_matrix(y_true, y_pred)\n",
        "\n",
        "from sklearn.metrics import confusion_matrix, ConfusionMatrixDisplay\n",
        "disp = ConfusionMatrixDisplay(confusion_matrix=result,\n",
        "                              display_labels=[0,1])\n",
        "\n",
        "disp.plot()\n",
        "plt.show()\n",
        "\n",
        "print(accuracy_score(y_true, y_pred))\n",
        "print(precision_recall_fscore_support(y_true, y_pred, average='binary'))"
      ],
      "metadata": {
        "id": "LudzU68ji24a",
        "colab": {
          "base_uri": "https://localhost:8080/",
          "height": 507
        },
        "outputId": "d20d1bb2-e6a1-4110-a687-33ce6cca4e26"
      },
      "execution_count": 114,
      "outputs": [
        {
          "output_type": "stream",
          "name": "stdout",
          "text": [
            "1/1 [==============================] - 0s 39ms/step\n"
          ]
        },
        {
          "output_type": "display_data",
          "data": {
            "text/plain": [
              "<Figure size 640x480 with 2 Axes>"
            ],
            "image/png": "[encoded data removed]"
          },
          "metadata": {}
        },
        {
          "output_type": "stream",
          "name": "stdout",
          "text": [
            "0.3333333333333333\n",
            "(0.4, 0.6666666666666666, 0.5, None)\n"
          ]
        }
      ]
    },
    {
      "cell_type": "code",
      "source": [
        "i_result = importance_model.evaluate(importance_valid_x, importance_valid_y)"
      ],
      "metadata": {
        "id": "QTo-CB-hkrSY",
        "colab": {
          "base_uri": "https://localhost:8080/"
        },
        "outputId": "1d892fc3-4504-45e3-ceb9-b21933c088e5"
      },
      "execution_count": 115,
      "outputs": [
        {
          "output_type": "stream",
          "name": "stdout",
          "text": [
            "22/22 [==============================] - 0s 3ms/step - loss: 0.7207 - accuracy: 0.7074\n"
          ]
        }
      ]
    },
    {
      "cell_type": "code",
      "source": [
        " importance_model.predict(importance_valid_x)"
      ],
      "metadata": {
        "id": "OYwC2mOolYCY",
        "colab": {
          "base_uri": "https://localhost:8080/"
        },
        "outputId": "72a02791-eeef-4f7e-8eb2-7e4611cd55ab"
      },
      "execution_count": 116,
      "outputs": [
        {
          "output_type": "stream",
          "name": "stdout",
          "text": [
            "22/22 [==============================] - 0s 2ms/step\n"
          ]
        },
        {
          "output_type": "execute_result",
          "data": {
            "text/plain": [
              "array([[9.70566154e-01],\n",
              "       [6.19914532e-01],\n",
              "       [6.81671023e-01],\n",
              "       [9.77726758e-01],\n",
              "       [9.83776927e-01],\n",
              "       [5.80897689e-01],\n",
              "       [5.95663548e-01],\n",
              "       [8.74498248e-01],\n",
              "       [9.02226031e-01],\n",
              "       [6.19237661e-01],\n",
              "       [5.71508586e-01],\n",
              "       [9.47058022e-01],\n",
              "       [1.77657064e-02],\n",
              "       [6.94430172e-01],\n",
              "       [2.10426748e-02],\n",
              "       [7.96503067e-01],\n",
              "       [6.48508742e-02],\n",
              "       [9.39114317e-02],\n",
              "       [4.45048928e-01],\n",
              "       [8.57115984e-01],\n",
              "       [1.14308326e-02],\n",
              "       [9.44801271e-01],\n",
              "       [6.04179978e-01],\n",
              "       [3.12396914e-01],\n",
              "       [6.00649118e-01],\n",
              "       [9.43782747e-01],\n",
              "       [1.73189357e-01],\n",
              "       [1.31941199e-01],\n",
              "       [7.05652952e-01],\n",
              "       [2.00655591e-02],\n",
              "       [3.93387675e-01],\n",
              "       [7.79211521e-01],\n",
              "       [6.46012366e-01],\n",
              "       [1.81850120e-01],\n",
              "       [1.43181141e-02],\n",
              "       [9.21511091e-03],\n",
              "       [5.89800894e-01],\n",
              "       [4.56622094e-01],\n",
              "       [8.44522655e-01],\n",
              "       [1.52087092e-01],\n",
              "       [9.86643314e-01],\n",
              "       [9.62763906e-01],\n",
              "       [7.33525217e-01],\n",
              "       [8.29264164e-01],\n",
              "       [7.77709186e-01],\n",
              "       [8.01777184e-01],\n",
              "       [9.17247713e-01],\n",
              "       [7.52325892e-01],\n",
              "       [6.30753219e-01],\n",
              "       [4.53492790e-01],\n",
              "       [2.05871865e-01],\n",
              "       [2.49916017e-02],\n",
              "       [9.04418081e-02],\n",
              "       [5.74415922e-01],\n",
              "       [4.12643492e-01],\n",
              "       [5.78918636e-01],\n",
              "       [1.85498074e-02],\n",
              "       [6.95506871e-01],\n",
              "       [9.67523098e-01],\n",
              "       [7.34909832e-01],\n",
              "       [9.93822575e-01],\n",
              "       [9.45563078e-01],\n",
              "       [9.71427858e-01],\n",
              "       [9.22182381e-01],\n",
              "       [5.47333434e-02],\n",
              "       [8.86087596e-01],\n",
              "       [9.64188635e-01],\n",
              "       [8.62701178e-01],\n",
              "       [7.10101947e-02],\n",
              "       [9.85866249e-01],\n",
              "       [7.13285565e-01],\n",
              "       [6.57236338e-01],\n",
              "       [7.24889906e-05],\n",
              "       [4.54942375e-01],\n",
              "       [9.94087815e-01],\n",
              "       [5.63206494e-01],\n",
              "       [6.56504452e-01],\n",
              "       [9.75747883e-01],\n",
              "       [6.78885654e-02],\n",
              "       [2.79650152e-01],\n",
              "       [3.17104697e-01],\n",
              "       [8.49250972e-01],\n",
              "       [8.81115854e-01],\n",
              "       [7.02100873e-01],\n",
              "       [7.37094045e-01],\n",
              "       [2.50478536e-01],\n",
              "       [3.81444693e-01],\n",
              "       [9.21850204e-01],\n",
              "       [8.13423514e-01],\n",
              "       [8.29488516e-01],\n",
              "       [6.21631682e-01],\n",
              "       [9.16152775e-01],\n",
              "       [6.00870013e-01],\n",
              "       [8.87835681e-01],\n",
              "       [1.14020621e-02],\n",
              "       [7.93137431e-01],\n",
              "       [6.62229061e-01],\n",
              "       [5.66374540e-01],\n",
              "       [9.55223024e-01],\n",
              "       [8.22960198e-01],\n",
              "       [3.74950856e-01],\n",
              "       [8.44671369e-01],\n",
              "       [4.27176356e-01],\n",
              "       [5.52456021e-01],\n",
              "       [8.06535065e-01],\n",
              "       [9.95789587e-01],\n",
              "       [1.92491367e-01],\n",
              "       [5.00500128e-02],\n",
              "       [9.92383063e-01],\n",
              "       [7.45511889e-01],\n",
              "       [9.53865170e-01],\n",
              "       [7.27825165e-01],\n",
              "       [8.58548582e-01],\n",
              "       [3.21521103e-01],\n",
              "       [8.05117548e-01],\n",
              "       [1.74694419e-01],\n",
              "       [8.71390939e-01],\n",
              "       [9.00261045e-01],\n",
              "       [6.13497980e-02],\n",
              "       [7.93593585e-01],\n",
              "       [9.38140690e-01],\n",
              "       [4.17061895e-01],\n",
              "       [8.03225100e-01],\n",
              "       [6.92230940e-01],\n",
              "       [9.59300160e-01],\n",
              "       [6.17765009e-01],\n",
              "       [9.44564462e-01],\n",
              "       [1.58225768e-03],\n",
              "       [8.50723624e-01],\n",
              "       [5.74737549e-01],\n",
              "       [5.38135827e-01],\n",
              "       [5.77393711e-01],\n",
              "       [5.32670677e-01],\n",
              "       [2.01840978e-02],\n",
              "       [9.58619475e-01],\n",
              "       [4.75639045e-01],\n",
              "       [1.21110506e-01],\n",
              "       [2.18887597e-01],\n",
              "       [8.62351134e-02],\n",
              "       [9.70015898e-02],\n",
              "       [7.30710089e-01],\n",
              "       [5.92775829e-03],\n",
              "       [7.44829237e-01],\n",
              "       [7.61364937e-01],\n",
              "       [1.25175148e-01],\n",
              "       [9.50542271e-01],\n",
              "       [7.59001255e-01],\n",
              "       [1.91281334e-01],\n",
              "       [3.07106767e-02],\n",
              "       [1.50567144e-01],\n",
              "       [9.37086880e-01],\n",
              "       [4.92925018e-01],\n",
              "       [2.00667351e-01],\n",
              "       [7.83831596e-01],\n",
              "       [9.85645115e-01],\n",
              "       [6.26647949e-01],\n",
              "       [1.71492547e-02],\n",
              "       [1.30027071e-01],\n",
              "       [1.00396452e-02],\n",
              "       [1.71337277e-02],\n",
              "       [2.75000602e-01],\n",
              "       [2.22132549e-01],\n",
              "       [4.79199021e-04],\n",
              "       [9.70000625e-01],\n",
              "       [2.14495137e-01],\n",
              "       [9.12330806e-01],\n",
              "       [4.04929310e-01],\n",
              "       [1.20563835e-01],\n",
              "       [8.32268655e-01],\n",
              "       [8.40024233e-01],\n",
              "       [9.84946609e-01],\n",
              "       [7.68647313e-01],\n",
              "       [4.37226921e-01],\n",
              "       [6.68699622e-01],\n",
              "       [7.64878094e-01],\n",
              "       [9.19912219e-01],\n",
              "       [6.07491493e-01],\n",
              "       [6.66863797e-03],\n",
              "       [8.23722184e-01],\n",
              "       [7.64038622e-01],\n",
              "       [6.50888402e-03],\n",
              "       [5.93408942e-01],\n",
              "       [8.88468444e-01],\n",
              "       [4.62913841e-01],\n",
              "       [8.64125609e-01],\n",
              "       [8.09904695e-01],\n",
              "       [1.86798088e-02],\n",
              "       [6.32076979e-01],\n",
              "       [7.22815990e-02],\n",
              "       [9.03467953e-01],\n",
              "       [4.23678875e-01],\n",
              "       [8.19972098e-01],\n",
              "       [1.89419009e-03],\n",
              "       [2.38273796e-02],\n",
              "       [9.52067435e-01],\n",
              "       [1.48213699e-01],\n",
              "       [3.16411629e-02],\n",
              "       [1.17229551e-01],\n",
              "       [7.03395754e-02],\n",
              "       [8.31860960e-01],\n",
              "       [5.52098572e-01],\n",
              "       [8.56898427e-01],\n",
              "       [7.15028405e-01],\n",
              "       [7.99915195e-01],\n",
              "       [9.93184507e-01],\n",
              "       [1.82743847e-01],\n",
              "       [1.99147046e-01],\n",
              "       [7.64434814e-01],\n",
              "       [1.00674599e-01],\n",
              "       [1.22362087e-02],\n",
              "       [3.43369722e-01],\n",
              "       [6.41365409e-01],\n",
              "       [1.94525898e-01],\n",
              "       [5.39050961e-04],\n",
              "       [1.28139928e-02],\n",
              "       [6.28613889e-01],\n",
              "       [4.03872013e-01],\n",
              "       [6.77040339e-01],\n",
              "       [7.15633571e-01],\n",
              "       [4.85081971e-01],\n",
              "       [2.82131545e-02],\n",
              "       [8.23589742e-01],\n",
              "       [9.07292247e-01],\n",
              "       [5.50187051e-01],\n",
              "       [5.40837646e-01],\n",
              "       [4.10294570e-02],\n",
              "       [6.76434100e-01],\n",
              "       [3.95705439e-02],\n",
              "       [7.54656911e-01],\n",
              "       [4.74338681e-02],\n",
              "       [3.14577371e-01],\n",
              "       [6.71574295e-01],\n",
              "       [4.08499599e-01],\n",
              "       [5.26488781e-01],\n",
              "       [1.86662599e-01],\n",
              "       [1.54082179e-01],\n",
              "       [1.72181919e-01],\n",
              "       [9.64052796e-01],\n",
              "       [2.78155565e-01],\n",
              "       [9.65748549e-01],\n",
              "       [9.71879303e-01],\n",
              "       [9.74644780e-01],\n",
              "       [9.72769976e-01],\n",
              "       [6.00579500e-01],\n",
              "       [8.15185428e-01],\n",
              "       [2.13884801e-01],\n",
              "       [9.65809822e-01],\n",
              "       [8.67280364e-01],\n",
              "       [4.10365194e-01],\n",
              "       [9.99064386e-01],\n",
              "       [1.27000764e-01],\n",
              "       [8.68313313e-01],\n",
              "       [2.05764845e-01],\n",
              "       [9.91385937e-01],\n",
              "       [6.43007517e-01],\n",
              "       [6.97201550e-01],\n",
              "       [9.24549624e-02],\n",
              "       [8.52243602e-01],\n",
              "       [9.68337357e-01],\n",
              "       [9.40930486e-01],\n",
              "       [4.44653524e-05],\n",
              "       [8.25707197e-01],\n",
              "       [2.17907075e-02],\n",
              "       [4.51625586e-02],\n",
              "       [1.28238406e-02],\n",
              "       [9.08581436e-01],\n",
              "       [6.92119777e-01],\n",
              "       [5.00537753e-01],\n",
              "       [2.76123077e-01],\n",
              "       [5.01547039e-01],\n",
              "       [4.94117916e-01],\n",
              "       [6.83724046e-01],\n",
              "       [9.93093491e-01],\n",
              "       [1.01868011e-01],\n",
              "       [9.94654179e-01],\n",
              "       [6.83896184e-01],\n",
              "       [4.01808977e-01],\n",
              "       [9.28291500e-01],\n",
              "       [7.81326652e-01],\n",
              "       [8.34065080e-01],\n",
              "       [4.23117317e-02],\n",
              "       [2.10693151e-01],\n",
              "       [9.14220363e-02],\n",
              "       [3.04036677e-01],\n",
              "       [9.49055851e-01],\n",
              "       [2.32722566e-01],\n",
              "       [8.12684715e-01],\n",
              "       [9.45891514e-02],\n",
              "       [8.65362287e-01],\n",
              "       [7.90250540e-01],\n",
              "       [8.50428700e-01],\n",
              "       [2.30358224e-02],\n",
              "       [1.84104182e-02],\n",
              "       [9.55411553e-01],\n",
              "       [7.33710080e-02],\n",
              "       [9.25400555e-01],\n",
              "       [2.20705837e-01],\n",
              "       [2.47040577e-02],\n",
              "       [8.34288836e-01],\n",
              "       [5.27277768e-01],\n",
              "       [1.53323915e-02],\n",
              "       [8.87442768e-01],\n",
              "       [5.82684517e-01],\n",
              "       [9.31084871e-01],\n",
              "       [1.43553643e-02],\n",
              "       [9.52590942e-01],\n",
              "       [1.39434770e-01],\n",
              "       [5.37631750e-01],\n",
              "       [8.36304724e-01],\n",
              "       [9.50944841e-01],\n",
              "       [9.99902129e-01],\n",
              "       [2.66163647e-01],\n",
              "       [7.36361921e-01],\n",
              "       [1.00660793e-01],\n",
              "       [6.79067135e-01],\n",
              "       [9.76307094e-01],\n",
              "       [6.91238642e-02],\n",
              "       [3.39173079e-02],\n",
              "       [5.10834493e-02],\n",
              "       [6.55663729e-01],\n",
              "       [2.23460287e-01],\n",
              "       [9.46566641e-01],\n",
              "       [4.58397090e-01],\n",
              "       [2.94450551e-01],\n",
              "       [9.54956055e-01],\n",
              "       [1.99338868e-01],\n",
              "       [1.20100819e-01],\n",
              "       [6.77815080e-01],\n",
              "       [7.09357023e-01],\n",
              "       [8.38338375e-01],\n",
              "       [5.13743401e-01],\n",
              "       [8.39452505e-01],\n",
              "       [5.35565987e-03],\n",
              "       [7.70944297e-01],\n",
              "       [7.75650620e-01],\n",
              "       [1.06882870e-01],\n",
              "       [3.42740148e-01],\n",
              "       [3.28931808e-02],\n",
              "       [1.34538531e-01],\n",
              "       [3.90973270e-01],\n",
              "       [7.08436251e-01],\n",
              "       [2.51865923e-01],\n",
              "       [6.12857223e-01],\n",
              "       [4.72292691e-01],\n",
              "       [1.26013294e-01],\n",
              "       [1.61821216e-01],\n",
              "       [7.50542402e-01],\n",
              "       [3.74221742e-01],\n",
              "       [5.12016177e-01],\n",
              "       [8.66905391e-01],\n",
              "       [1.28764689e-01],\n",
              "       [4.14283127e-01],\n",
              "       [3.01044490e-02],\n",
              "       [7.88459897e-01],\n",
              "       [6.41311705e-01],\n",
              "       [1.80835053e-02],\n",
              "       [6.95377111e-01],\n",
              "       [8.52292180e-01],\n",
              "       [8.76464725e-01],\n",
              "       [9.50139403e-01],\n",
              "       [9.36608553e-01],\n",
              "       [5.86854398e-01],\n",
              "       [5.19401848e-01],\n",
              "       [7.43675947e-01],\n",
              "       [6.84444159e-02],\n",
              "       [4.42592800e-01],\n",
              "       [5.24408996e-01],\n",
              "       [9.72814322e-01],\n",
              "       [9.89186823e-01],\n",
              "       [8.29375386e-01],\n",
              "       [7.84284830e-01],\n",
              "       [2.58176755e-02],\n",
              "       [8.25540602e-01],\n",
              "       [2.84699291e-01],\n",
              "       [1.00968421e-01],\n",
              "       [9.34079349e-01],\n",
              "       [3.73749942e-01],\n",
              "       [1.03899561e-01],\n",
              "       [9.75924432e-01],\n",
              "       [4.51232940e-02],\n",
              "       [8.33100557e-01],\n",
              "       [4.76858258e-01],\n",
              "       [7.64001846e-01],\n",
              "       [1.86090916e-01],\n",
              "       [9.60625350e-01],\n",
              "       [2.66761370e-02],\n",
              "       [4.93278168e-03],\n",
              "       [6.60323858e-01],\n",
              "       [6.76087916e-01],\n",
              "       [6.93271101e-01],\n",
              "       [2.04314888e-01],\n",
              "       [4.12309021e-02],\n",
              "       [4.61910754e-01],\n",
              "       [6.49337351e-01],\n",
              "       [5.14153302e-01],\n",
              "       [1.00854985e-01],\n",
              "       [4.44854051e-02],\n",
              "       [8.40463817e-01],\n",
              "       [9.88634586e-01],\n",
              "       [7.18204737e-01],\n",
              "       [9.74358618e-01],\n",
              "       [6.27687991e-01],\n",
              "       [9.83098090e-01],\n",
              "       [6.48559570e-01],\n",
              "       [2.57420659e-01],\n",
              "       [1.40748257e-02],\n",
              "       [9.48119104e-01],\n",
              "       [8.06795835e-01],\n",
              "       [2.51645572e-03],\n",
              "       [3.53971452e-01],\n",
              "       [9.36865449e-01],\n",
              "       [8.93705666e-01],\n",
              "       [1.96962766e-02],\n",
              "       [6.39115691e-01],\n",
              "       [8.75044405e-01],\n",
              "       [9.79381025e-01],\n",
              "       [9.60012436e-01],\n",
              "       [1.83335284e-03],\n",
              "       [6.46983385e-01],\n",
              "       [8.62492681e-01],\n",
              "       [1.95659935e-01],\n",
              "       [2.65676603e-02],\n",
              "       [7.06520140e-01],\n",
              "       [5.93329728e-01],\n",
              "       [3.79656851e-01],\n",
              "       [8.35331380e-01],\n",
              "       [8.02369356e-01],\n",
              "       [8.13050330e-01],\n",
              "       [6.68060109e-02],\n",
              "       [6.94207966e-01],\n",
              "       [9.07228529e-01],\n",
              "       [9.88299012e-01],\n",
              "       [1.08721852e-02],\n",
              "       [9.89122570e-01],\n",
              "       [6.13955140e-01],\n",
              "       [7.37900376e-01],\n",
              "       [7.73447812e-01],\n",
              "       [9.32049513e-01],\n",
              "       [7.41001785e-01],\n",
              "       [9.68353808e-01],\n",
              "       [9.99378324e-01],\n",
              "       [5.00510298e-02],\n",
              "       [3.72720361e-01],\n",
              "       [8.47713411e-01],\n",
              "       [2.54189549e-03],\n",
              "       [7.35835731e-01],\n",
              "       [2.06600904e-01],\n",
              "       [9.60151017e-01],\n",
              "       [8.48690867e-01],\n",
              "       [3.42025787e-01],\n",
              "       [4.84907836e-01],\n",
              "       [8.67734104e-02],\n",
              "       [2.39612892e-01],\n",
              "       [9.21371877e-01],\n",
              "       [2.81198882e-02],\n",
              "       [1.56999826e-01],\n",
              "       [7.95479357e-01],\n",
              "       [5.11375427e-01],\n",
              "       [7.03506768e-01],\n",
              "       [7.28449881e-01],\n",
              "       [9.76695597e-01],\n",
              "       [8.71009290e-01],\n",
              "       [6.49852693e-01],\n",
              "       [7.21190393e-01],\n",
              "       [1.52008161e-02],\n",
              "       [6.78561091e-01],\n",
              "       [6.34318739e-02],\n",
              "       [1.18733779e-01],\n",
              "       [1.86241329e-01],\n",
              "       [8.01994920e-01],\n",
              "       [3.94437283e-01],\n",
              "       [8.68782878e-01],\n",
              "       [8.58227387e-02],\n",
              "       [9.90118086e-01],\n",
              "       [9.75999713e-01],\n",
              "       [6.24895319e-02],\n",
              "       [9.71393645e-01],\n",
              "       [9.42739248e-01],\n",
              "       [9.33928668e-01],\n",
              "       [3.79065126e-01],\n",
              "       [2.33056936e-02],\n",
              "       [2.24857464e-01],\n",
              "       [4.74485725e-01],\n",
              "       [7.52529383e-01],\n",
              "       [9.60048497e-01],\n",
              "       [6.98053598e-01],\n",
              "       [9.67058182e-01],\n",
              "       [6.05349720e-01],\n",
              "       [8.38419616e-01],\n",
              "       [9.83107090e-01],\n",
              "       [6.17438674e-01],\n",
              "       [1.08048141e-01],\n",
              "       [3.01103815e-02],\n",
              "       [3.26196216e-02],\n",
              "       [6.20633543e-01],\n",
              "       [4.79359329e-02],\n",
              "       [6.14101112e-01],\n",
              "       [8.45212579e-01],\n",
              "       [1.87437255e-02],\n",
              "       [6.32958293e-01],\n",
              "       [9.62527931e-01],\n",
              "       [8.05279970e-01],\n",
              "       [9.72482324e-01],\n",
              "       [7.81678319e-01],\n",
              "       [9.81617212e-01],\n",
              "       [8.49627078e-01],\n",
              "       [7.06998050e-01],\n",
              "       [3.89753878e-01],\n",
              "       [5.79402387e-01],\n",
              "       [8.86214435e-01],\n",
              "       [9.61392462e-01],\n",
              "       [9.86197174e-01],\n",
              "       [9.90454078e-01],\n",
              "       [5.05313694e-01],\n",
              "       [7.04481840e-01],\n",
              "       [2.21464317e-02],\n",
              "       [6.84275031e-01],\n",
              "       [8.14273179e-01],\n",
              "       [8.27997625e-01],\n",
              "       [6.91245198e-01],\n",
              "       [8.06463778e-01],\n",
              "       [2.54915133e-02],\n",
              "       [9.75164056e-01],\n",
              "       [7.60256052e-01],\n",
              "       [1.48359850e-01],\n",
              "       [8.27477694e-01],\n",
              "       [7.29949534e-01],\n",
              "       [1.31743014e-01],\n",
              "       [8.06437254e-01],\n",
              "       [5.22445664e-02],\n",
              "       [1.45231649e-01],\n",
              "       [5.40132284e-01],\n",
              "       [1.51039645e-01],\n",
              "       [7.27020621e-01],\n",
              "       [5.77545762e-01],\n",
              "       [6.56347275e-02],\n",
              "       [6.47566736e-01],\n",
              "       [9.86589313e-01],\n",
              "       [5.85513003e-02],\n",
              "       [9.82295930e-01],\n",
              "       [7.10403264e-01],\n",
              "       [8.47492367e-02],\n",
              "       [5.50938910e-03],\n",
              "       [7.93268383e-01],\n",
              "       [7.37709403e-01],\n",
              "       [7.27711082e-01],\n",
              "       [7.21454501e-01],\n",
              "       [9.24511626e-02],\n",
              "       [9.82887208e-01],\n",
              "       [9.41187680e-01],\n",
              "       [1.97883710e-01],\n",
              "       [9.61385012e-01],\n",
              "       [2.28448778e-01],\n",
              "       [8.27919781e-01],\n",
              "       [4.25097495e-01],\n",
              "       [8.97614751e-03],\n",
              "       [9.17347372e-01],\n",
              "       [1.12628810e-01],\n",
              "       [2.08121389e-01],\n",
              "       [8.71557176e-01],\n",
              "       [7.53797650e-01],\n",
              "       [3.46986324e-01],\n",
              "       [2.00131759e-02],\n",
              "       [7.52691090e-01],\n",
              "       [4.15853709e-02],\n",
              "       [8.39886963e-01],\n",
              "       [2.19964519e-01],\n",
              "       [6.77413940e-01],\n",
              "       [1.12827934e-01],\n",
              "       [1.58722966e-03],\n",
              "       [7.70048738e-01],\n",
              "       [9.43102598e-01],\n",
              "       [1.18230887e-01],\n",
              "       [2.25356042e-01],\n",
              "       [7.10267603e-01],\n",
              "       [4.78425086e-01],\n",
              "       [4.04848874e-01],\n",
              "       [6.36369526e-01],\n",
              "       [2.27175280e-01],\n",
              "       [5.67863171e-04],\n",
              "       [6.01969898e-01],\n",
              "       [8.61925125e-01],\n",
              "       [1.20980248e-01],\n",
              "       [6.71829164e-01],\n",
              "       [2.80435920e-01],\n",
              "       [9.74976480e-01],\n",
              "       [6.96611881e-01],\n",
              "       [9.91083980e-01],\n",
              "       [9.62057561e-02],\n",
              "       [3.12068388e-02],\n",
              "       [9.98824656e-01],\n",
              "       [8.47556472e-01],\n",
              "       [6.64715886e-01],\n",
              "       [8.05486917e-01],\n",
              "       [9.61864710e-01],\n",
              "       [8.20108831e-01],\n",
              "       [8.52184743e-03],\n",
              "       [9.59905207e-01],\n",
              "       [9.77883458e-01],\n",
              "       [1.44277632e-01],\n",
              "       [8.93689334e-01],\n",
              "       [3.89867306e-01],\n",
              "       [8.99591327e-01],\n",
              "       [3.17810215e-02],\n",
              "       [9.82027233e-01],\n",
              "       [6.85265541e-01],\n",
              "       [1.99735224e-01],\n",
              "       [8.44443142e-01],\n",
              "       [6.67831779e-01],\n",
              "       [5.86522698e-01],\n",
              "       [1.54569507e-01],\n",
              "       [8.63759875e-01],\n",
              "       [5.43064654e-01],\n",
              "       [8.42268765e-01],\n",
              "       [2.06749956e-03],\n",
              "       [1.50921224e-02],\n",
              "       [9.53854084e-01],\n",
              "       [6.40991688e-01],\n",
              "       [8.98730338e-01],\n",
              "       [3.67013924e-02],\n",
              "       [8.30684364e-01],\n",
              "       [3.88919175e-01],\n",
              "       [9.19367313e-01],\n",
              "       [9.80417013e-01],\n",
              "       [8.53795469e-01],\n",
              "       [5.79990208e-01],\n",
              "       [8.23483229e-01],\n",
              "       [5.61751008e-01],\n",
              "       [1.49651572e-01],\n",
              "       [9.73255396e-01],\n",
              "       [4.70923573e-01],\n",
              "       [5.40193915e-01],\n",
              "       [9.62548912e-01],\n",
              "       [8.11380669e-02],\n",
              "       [9.88612235e-01],\n",
              "       [9.52557623e-01],\n",
              "       [9.88272019e-03],\n",
              "       [6.34231925e-01],\n",
              "       [8.15352976e-01],\n",
              "       [7.33269930e-01],\n",
              "       [5.55423498e-01],\n",
              "       [8.35871279e-01],\n",
              "       [2.99377441e-01],\n",
              "       [4.60582316e-01],\n",
              "       [7.85853028e-01],\n",
              "       [1.69968829e-02],\n",
              "       [5.94719648e-02],\n",
              "       [9.11659777e-01],\n",
              "       [1.46009818e-01],\n",
              "       [5.23335636e-02],\n",
              "       [7.75287390e-01],\n",
              "       [9.96778905e-01],\n",
              "       [8.10834229e-01],\n",
              "       [6.65917516e-01],\n",
              "       [7.78113484e-01],\n",
              "       [7.25231886e-01],\n",
              "       [5.75596154e-01],\n",
              "       [9.49989736e-01],\n",
              "       [9.48946595e-01],\n",
              "       [8.29718232e-01],\n",
              "       [3.78028214e-01],\n",
              "       [5.10062218e-01],\n",
              "       [2.47338146e-01],\n",
              "       [5.36834784e-02],\n",
              "       [6.34487867e-02],\n",
              "       [8.58479440e-01],\n",
              "       [2.36537084e-01],\n",
              "       [9.90190208e-01],\n",
              "       [1.61476821e-01],\n",
              "       [8.53736818e-01],\n",
              "       [2.74681002e-01],\n",
              "       [7.78418481e-01],\n",
              "       [4.49751765e-01],\n",
              "       [5.22025943e-01],\n",
              "       [2.28468198e-02],\n",
              "       [8.67487788e-01],\n",
              "       [6.60978912e-05],\n",
              "       [5.75879991e-01],\n",
              "       [4.19752181e-01],\n",
              "       [5.90295613e-01]], dtype=float32)"
            ]
          },
          "metadata": {},
          "execution_count": 116
        }
      ]
    },
    {
      "cell_type": "code",
      "source": [
        "from sklearn.metrics import confusion_matrix\n",
        "from sklearn.metrics import precision_recall_fscore_support, accuracy_score\n",
        "\n",
        "#Predict\n",
        "y_prediction = importance_model.predict(importance_valid_x)\n",
        "\n",
        "y_true = importance_valid_y\n",
        "y_pred = np.rint(y_prediction)\n",
        "\n",
        "#Create confusion matrix and normalizes it over predicted (columns)\n",
        "result = confusion_matrix(y_true, y_pred)\n",
        "\n",
        "from sklearn.metrics import confusion_matrix, ConfusionMatrixDisplay\n",
        "disp = ConfusionMatrixDisplay(confusion_matrix=result,\n",
        "                              display_labels=[0,1])\n",
        "\n",
        "disp.plot()\n",
        "plt.show()\n",
        "\n",
        "print(accuracy_score(y_true, y_pred))\n",
        "print(precision_recall_fscore_support(y_true, y_pred, average='binary'))"
      ],
      "metadata": {
        "id": "QKi-Y3a_jA_v",
        "colab": {
          "base_uri": "https://localhost:8080/",
          "height": 501
        },
        "outputId": "b9eef218-dc79-434b-dc47-8b253952889a"
      },
      "execution_count": 117,
      "outputs": [
        {
          "output_type": "stream",
          "name": "stdout",
          "text": [
            "22/22 [==============================] - 0s 2ms/step\n"
          ]
        },
        {
          "output_type": "display_data",
          "data": {
            "text/plain": [
              "<Figure size 640x480 with 2 Axes>"
            ],
            "image/png": "[encoded data removed]"
          },
          "metadata": {}
        },
        {
          "output_type": "stream",
          "name": "stdout",
          "text": [
            "0.7073529411764706\n",
            "(0.7591240875912408, 0.7572815533980582, 0.7582017010935601, None)\n"
          ]
        }
      ]
    },
    {
      "cell_type": "code",
      "source": [
        "t_result = text_model.evaluate(valid_padded_sequences, text_valid_y)\n",
        "# print(f'텍스트 모델의 검증 데이터 결과: loss={np.round(t_result[0],3)}, accuracy={np.round(t_result[1],3)}')"
      ],
      "metadata": {
        "id": "OL9qQY9mqeUY",
        "colab": {
          "base_uri": "https://localhost:8080/"
        },
        "outputId": "36698e31-c408-4d16-9da2-4f1bbdc6d235"
      },
      "execution_count": 118,
      "outputs": [
        {
          "output_type": "stream",
          "name": "stdout",
          "text": [
            "201/201 [==============================] - 1s 6ms/step - loss: 0.4382 - accuracy: 0.8318\n"
          ]
        }
      ]
    },
    {
      "cell_type": "code",
      "source": [
        "text_model.predict(valid_padded_sequences)"
      ],
      "metadata": {
        "id": "Ea4irUvallry",
        "colab": {
          "base_uri": "https://localhost:8080/"
        },
        "outputId": "7b7a1134-dd18-45ee-a71a-c56e57a9216a"
      },
      "execution_count": 119,
      "outputs": [
        {
          "output_type": "stream",
          "name": "stdout",
          "text": [
            "201/201 [==============================] - 1s 3ms/step\n"
          ]
        },
        {
          "output_type": "execute_result",
          "data": {
            "text/plain": [
              "array([[0.98638713],\n",
              "       [0.82006437],\n",
              "       [0.9631533 ],\n",
              "       ...,\n",
              "       [0.04505547],\n",
              "       [0.03641643],\n",
              "       [0.0472946 ]], dtype=float32)"
            ]
          },
          "metadata": {},
          "execution_count": 119
        }
      ]
    },
    {
      "cell_type": "code",
      "source": [
        "from sklearn.metrics import confusion_matrix\n",
        "from sklearn.metrics import precision_recall_fscore_support, accuracy_score\n",
        "\n",
        "#Predict\n",
        "y_prediction = text_model.predict(valid_padded_sequences)\n",
        "\n",
        "y_true = text_valid_y\n",
        "y_pred = np.rint(y_prediction)\n",
        "\n",
        "#Create confusion matrix and normalizes it over predicted (columns)\n",
        "result = confusion_matrix(y_true, y_pred)\n",
        "\n",
        "from sklearn.metrics import confusion_matrix, ConfusionMatrixDisplay\n",
        "disp = ConfusionMatrixDisplay(confusion_matrix=result,\n",
        "                              display_labels=[0,1])\n",
        "\n",
        "disp.plot()\n",
        "plt.show()\n",
        "\n",
        "print(accuracy_score(y_true, y_pred))\n",
        "print(precision_recall_fscore_support(y_true, y_pred, average='binary'))"
      ],
      "metadata": {
        "id": "5XFDwaOTk4dC",
        "colab": {
          "base_uri": "https://localhost:8080/",
          "height": 501
        },
        "outputId": "3744c2e3-5380-4f13-b4de-684e367309ca"
      },
      "execution_count": 120,
      "outputs": [
        {
          "output_type": "stream",
          "name": "stdout",
          "text": [
            "201/201 [==============================] - 1s 3ms/step\n"
          ]
        },
        {
          "output_type": "display_data",
          "data": {
            "text/plain": [
              "<Figure size 640x480 with 2 Axes>"
            ],
            "image/png": "[encoded data removed]"
          },
          "metadata": {}
        },
        {
          "output_type": "stream",
          "name": "stdout",
          "text": [
            "0.8317975948774012\n",
            "(0.8567506862989768, 0.8722052845528455, 0.8644089135087498, None)\n"
          ]
        }
      ]
    },
    {
      "cell_type": "code",
      "source": [
        "c_result = combined_model.evaluate([combined_social_x_valid, combined_importance_x_valid, combined_text_x_valid], valid_df[\"elected\"].values)\n",
        "print(f'혼합 모델의 검증 데이터 결과: loss={np.round(c_result[0],3)}, accuracy={np.round(c_result[1],3)}')\n",
        "# print(f'혼합 모델의 검증 데이터 결과: loss={np.round(c_result[0],3)}, accuracy={np.round(c_result[1],3)}')"
      ],
      "metadata": {
        "id": "51VqpIiaqq4c",
        "colab": {
          "base_uri": "https://localhost:8080/"
        },
        "outputId": "446057b0-5fb0-42e6-9b3d-828f3e5388a0"
      },
      "execution_count": 121,
      "outputs": [
        {
          "output_type": "stream",
          "name": "stdout",
          "text": [
            "201/201 [==============================] - 1s 4ms/step - loss: 0.4620 - accuracy: 0.8426\n",
            "혼합 모델의 검증 데이터 결과: loss=0.462, accuracy=0.843\n"
          ]
        }
      ]
    },
    {
      "cell_type": "code",
      "source": [
        "from sklearn.metrics import confusion_matrix\n",
        "from sklearn.metrics import precision_recall_fscore_support, accuracy_score\n",
        "\n",
        "#Predict\n",
        "y_prediction = combined_model.predict([combined_social_x_valid, combined_importance_x_valid, combined_text_x_valid])\n",
        "\n",
        "y_true = valid_df[\"elected\"].values\n",
        "y_pred = np.rint(y_prediction)\n",
        "\n",
        "#Create confusion matrix and normalizes it over predicted (columns)\n",
        "result = confusion_matrix(y_true, y_pred)\n",
        "\n",
        "from sklearn.metrics import confusion_matrix, ConfusionMatrixDisplay\n",
        "disp = ConfusionMatrixDisplay(confusion_matrix=result,\n",
        "                              display_labels=[0,1])\n",
        "\n",
        "disp.plot()\n",
        "plt.show()\n",
        "\n",
        "print(accuracy_score(y_true, y_pred))\n",
        "print(precision_recall_fscore_support(y_true, y_pred, average='binary'))"
      ],
      "metadata": {
        "id": "15wtrCR0uHBc",
        "colab": {
          "base_uri": "https://localhost:8080/",
          "height": 501
        },
        "outputId": "0b36de03-ce9b-40e4-98b2-ad3a48cf8aea"
      },
      "execution_count": 122,
      "outputs": [
        {
          "output_type": "stream",
          "name": "stdout",
          "text": [
            "201/201 [==============================] - 1s 4ms/step\n"
          ]
        },
        {
          "output_type": "display_data",
          "data": {
            "text/plain": [
              "<Figure size 640x480 with 2 Axes>"
            ],
            "image/png": "[encoded data removed]"
          },
          "metadata": {}
        },
        {
          "output_type": "stream",
          "name": "stdout",
          "text": [
            "0.8425737935342809\n",
            "(0.8620178041543026, 0.885670731707317, 0.8736842105263157, None)\n"
          ]
        }
      ]
    },
    {
      "cell_type": "code",
      "source": [
        "print(f'텍스트 모델의 검증 데이터 결과: loss={np.round(t_result[0],3)}, accuracy={np.round(t_result[1],3)}')\n",
        "print(f'사회 지표 모델의 검증 데이터 결과: loss={np.round(s_result[0],3)}, accuracy={np.round(s_result[1],3)}')\n",
        "print(f'중요도 모델의 검증 데이터 결과: loss={np.round(i_result[0],3)}, accuracy={np.round(i_result[1],3)}')\n",
        "print(f'혼합 모델의 검증 데이터 결과: loss={np.round(c_result[0],3)}, accuracy={np.round(c_result[1],3)}')"
      ],
      "metadata": {
        "id": "UNT3KKosrJj_",
        "colab": {
          "base_uri": "https://localhost:8080/"
        },
        "outputId": "196aecf2-ba29-451e-8df2-97aff8bd63f0"
      },
      "execution_count": 123,
      "outputs": [
        {
          "output_type": "stream",
          "name": "stdout",
          "text": [
            "텍스트 모델의 검증 데이터 결과: loss=0.438, accuracy=0.832\n",
            "사회 지표 모델의 검증 데이터 결과: loss=0.721, accuracy=0.333\n",
            "중요도 모델의 검증 데이터 결과: loss=0.721, accuracy=0.707\n",
            "혼합 모델의 검증 데이터 결과: loss=0.462, accuracy=0.843\n"
          ]
        }
      ]
    },
    {
      "cell_type": "code",
      "source": [],
      "metadata": {
        "id": "-TIHcmEKi1nC"
      },
      "execution_count": 123,
      "outputs": []
    },
    {
      "cell_type": "code",
      "source": [
        "i_predict = list(zip(test_df[\"name\"],importance_model.predict(combined_importance_x_test)))\n",
        "s_predict = list(zip(test_df[\"name\"],social_model.predict(combined_social_x_test)))\n",
        "t_predict = list(zip(test_df[\"name\"],text_model.predict(combined_text_x_test)))\n",
        "\n",
        "c_predict = list(zip(test_df[\"name\"],combined_model.predict([combined_social_x_test, combined_importance_x_test, combined_text_x_test])))"
      ],
      "metadata": {
        "id": "RhGAtOKPsK3S",
        "colab": {
          "base_uri": "https://localhost:8080/"
        },
        "outputId": "99c70c03-31ee-45a1-c0c9-1c84d30c6329"
      },
      "execution_count": 124,
      "outputs": [
        {
          "output_type": "stream",
          "name": "stdout",
          "text": [
            "27/27 [==============================] - 0s 1ms/step\n",
            "27/27 [==============================] - 0s 3ms/step\n",
            "27/27 [==============================] - 0s 3ms/step\n",
            "27/27 [==============================] - 0s 3ms/step\n"
          ]
        }
      ]
    },
    {
      "cell_type": "code",
      "source": [
        "c_predict = list(zip(test_df[\"name\"],combined_model.predict([combined_social_x_test, combined_importance_x_test, combined_text_x_test])))\n",
        "\n",
        "idx_list = ['혼합 모델']\n",
        "for idx, predict in enumerate([c_predict]):\n",
        "  biden_pred = list()\n",
        "  trump_pred = list()\n",
        "  for pred in predict:\n",
        "    if pred[0] == 'Joseph R. Biden':\n",
        "      biden_pred.append(pred[1].item())\n",
        "    if pred[0] == 'Donald J. Trump':\n",
        "      trump_pred.append(pred[1].item())\n",
        "\n",
        "  def softmax(x):\n",
        "\n",
        "    f_x = np.exp(x) / np.sum(np.exp(x))\n",
        "    return f_x\n",
        "\n",
        "  softmax = softmax([np.mean(biden_pred), np.mean(trump_pred)])\n",
        "  print(f'{idx_list[idx]} 최종 예측: Biden이 될 확률 {np.round(softmax[0],3)}, Trump가 될 확률 {np.round(softmax[1],3)}')"
      ],
      "metadata": {
        "id": "M9EUczV_msTg",
        "colab": {
          "base_uri": "https://localhost:8080/"
        },
        "outputId": "01d30814-61d8-456e-a17c-4ca1b4a47b89"
      },
      "execution_count": 125,
      "outputs": [
        {
          "output_type": "stream",
          "name": "stdout",
          "text": [
            "27/27 [==============================] - 0s 4ms/step\n",
            "혼합 모델 최종 예측: Biden이 될 확률 0.546, Trump가 될 확률 0.454\n"
          ]
        }
      ]
    },
    {
      "cell_type": "code",
      "source": [
        "\n",
        "idx_list = ['중요도 모델', '텍스트 모델', '혼합 모델']\n",
        "\n",
        "s_pred = list()\n",
        "for pred in s_predict:\n",
        "  s_pred.append(pred[1].item())\n",
        "print(f'사회지표 모델 최종 예측: Trump가 될 확률 {np.round(np.mean(s_pred),3)}')\n",
        "\n",
        "for idx, predict in enumerate([i_predict,t_predict, c_predict]):\n",
        "  biden_pred = list()\n",
        "  trump_pred = list()\n",
        "  for pred in predict:\n",
        "    if pred[0] == 'Joseph R. Biden':\n",
        "      biden_pred.append(pred[1].item())\n",
        "    if pred[0] == 'Donald J. Trump':\n",
        "      trump_pred.append(pred[1].item())\n",
        "\n",
        "  def softmax(x):\n",
        "\n",
        "    f_x = np.exp(x) / np.sum(np.exp(x))\n",
        "    return f_x\n",
        "\n",
        "  softmax = softmax([np.mean(biden_pred), np.mean(trump_pred)])\n",
        "\n",
        "  # print(f'{idx_list[idx]} 최종 예측: Biden이 될 확률 {np.round(np.mean(biden_pred),3)}, Trump가 될 확률 {np.round(np.mean(trump_pred),3)}')\n",
        "  print(f'{idx_list[idx]} 최종 예측: Biden이 될 확률 {np.round(softmax[0],3)}, Trump가 될 확률 {np.round(softmax[1],3)}')"
      ],
      "metadata": {
        "id": "F5tTzQIKs8j2",
        "colab": {
          "base_uri": "https://localhost:8080/"
        },
        "outputId": "9f78df83-215e-4ca4-ad6d-72eb52928583"
      },
      "execution_count": 126,
      "outputs": [
        {
          "output_type": "stream",
          "name": "stdout",
          "text": [
            "사회지표 모델 최종 예측: Trump가 될 확률 0.387\n",
            "중요도 모델 최종 예측: Biden이 될 확률 0.518, Trump가 될 확률 0.482\n",
            "텍스트 모델 최종 예측: Biden이 될 확률 0.541, Trump가 될 확률 0.459\n",
            "혼합 모델 최종 예측: Biden이 될 확률 0.546, Trump가 될 확률 0.454\n"
          ]
        }
      ]
    },
    {
      "cell_type": "code",
      "source": [
        "i_predict = np.array(i_predict)\n",
        "s_predict = np.array(s_predict)\n",
        "t_predict = np.array(t_predict)\n",
        "c_predict = np.array(c_predict)"
      ],
      "metadata": {
        "id": "G8jJSBl8s1jQ",
        "colab": {
          "base_uri": "https://localhost:8080/",
          "height": 211
        },
        "outputId": "d3541ba6-7154-4554-9dae-49176984d2c7"
      },
      "execution_count": 127,
      "outputs": [
        {
          "output_type": "error",
          "ename": "ValueError",
          "evalue": "setting an array element with a sequence. The requested array has an inhomogeneous shape after 2 dimensions. The detected shape was (836, 2) + inhomogeneous part.",
          "traceback": [
            "\u001b[0;31m---------------------------------------------------------------------------\u001b[0m",
            "\u001b[0;31mValueError\u001b[0m                                Traceback (most recent call last)",
            "\u001b[0;32m<ipython-input-127-7d3fafdfdd26>\u001b[0m in \u001b[0;36m<cell line: 1>\u001b[0;34m()\u001b[0m\n\u001b[0;32m----> 1\u001b[0;31m \u001b[0mi_predict\u001b[0m \u001b[0;34m=\u001b[0m \u001b[0mnp\u001b[0m\u001b[0;34m.\u001b[0m\u001b[0marray\u001b[0m\u001b[0;34m(\u001b[0m\u001b[0mi_predict\u001b[0m\u001b[0;34m)\u001b[0m\u001b[0;34m\u001b[0m\u001b[0;34m\u001b[0m\u001b[0m\n\u001b[0m\u001b[1;32m      2\u001b[0m \u001b[0ms_predict\u001b[0m \u001b[0;34m=\u001b[0m \u001b[0mnp\u001b[0m\u001b[0;34m.\u001b[0m\u001b[0marray\u001b[0m\u001b[0;34m(\u001b[0m\u001b[0ms_predict\u001b[0m\u001b[0;34m)\u001b[0m\u001b[0;34m\u001b[0m\u001b[0;34m\u001b[0m\u001b[0m\n\u001b[1;32m      3\u001b[0m \u001b[0mt_predict\u001b[0m \u001b[0;34m=\u001b[0m \u001b[0mnp\u001b[0m\u001b[0;34m.\u001b[0m\u001b[0marray\u001b[0m\u001b[0;34m(\u001b[0m\u001b[0mt_predict\u001b[0m\u001b[0;34m)\u001b[0m\u001b[0;34m\u001b[0m\u001b[0;34m\u001b[0m\u001b[0m\n\u001b[1;32m      4\u001b[0m \u001b[0mc_predict\u001b[0m \u001b[0;34m=\u001b[0m \u001b[0mnp\u001b[0m\u001b[0;34m.\u001b[0m\u001b[0marray\u001b[0m\u001b[0;34m(\u001b[0m\u001b[0mc_predict\u001b[0m\u001b[0;34m)\u001b[0m\u001b[0;34m\u001b[0m\u001b[0;34m\u001b[0m\u001b[0m\n",
            "\u001b[0;31mValueError\u001b[0m: setting an array element with a sequence. The requested array has an inhomogeneous shape after 2 dimensions. The detected shape was (836, 2) + inhomogeneous part."
          ]
        }
      ]
    },
    {
      "cell_type": "code",
      "source": [
        "len(combined_text_x_test)\n",
        "\n",
        "test_df[\"name\"].shape"
      ],
      "metadata": {
        "id": "d20Q316WpXiX"
      },
      "execution_count": null,
      "outputs": []
    },
    {
      "cell_type": "code",
      "source": [
        "with open('importance_prediction.pkl','wb') as f:\n",
        "  pickle.dump(list(zip(test_df[\"name\"],importance_model.predict(combined_importance_x_test))),f)\n",
        "with open('social_prediction.pkl','wb') as f:\n",
        "  pickle.dump(list(zip(test_df[\"name\"],social_model.predict(combined_social_x_test))),f)\n",
        "with open('text_prediction.pkl','wb') as f:\n",
        "  pickle.dump(list(zip(test_df[\"name\"],text_model.predict(combined_text_x_test))),f)"
      ],
      "metadata": {
        "id": "jWVd9-eApEiM"
      },
      "execution_count": null,
      "outputs": []
    },
    {
      "cell_type": "code",
      "source": [
        "with open('combined_prediction.pkl','wb') as f:\n",
        "  pickle.dump(list(zip(test_df[\"name\"],combined_model.predict([combined_social_x_test, combined_importance_x_test, combined_text_x_test]))),f)"
      ],
      "metadata": {
        "id": "tRv1FIOvkA_h"
      },
      "execution_count": null,
      "outputs": []
    },
    {
      "cell_type": "code",
      "source": [
        "with open('importance_hist.pkl','wb') as f:\n",
        "  pickle.dump(importance_hist, f)\n",
        "with open('text_hist.pkl','wb') as f:\n",
        "  pickle.dump(text_hist, f)\n",
        "with open('social_hist.pkl','wb') as f:\n",
        "  pickle.dump(social_hist, f)\n",
        "with open('combined_hist.pkl','wb') as f:\n",
        "  pickle.dump(combined_hist, f)\n",
        "\n",
        "# with open('importance_hist.pkl','wb') as f:\n",
        "#   pickle.dump(importance_hist, f)\n",
        "# with open('importance_hist.pkl','wb') as f:\n",
        "#   pickle.dump(importance_hist, f)"
      ],
      "metadata": {
        "id": "nxfYpOBc4dFe"
      },
      "execution_count": null,
      "outputs": []
    },
    {
      "cell_type": "code",
      "source": [],
      "metadata": {
        "id": "BLI169Yuj6qa"
      },
      "execution_count": null,
      "outputs": []
    },
    {
      "cell_type": "code",
      "source": [
        "text_x.shape"
      ],
      "metadata": {
        "id": "EJCNqzYEv8jD"
      },
      "execution_count": null,
      "outputs": []
    },
    {
      "cell_type": "code",
      "source": [
        "# text_timestep=100\n",
        "# importance_feature=10\n",
        "# social_features = 5\n",
        "# dropout_p = 0.5\n",
        "\n",
        "# def get_combined_model(use_cnn=False):\n",
        "\n",
        "#   importance_input = keras.layers.Input(shape=(importance_feature,))\n",
        "#   importance_x = keras.layers.Dense(32,activation='relu')(importance_input)\n",
        "#   importance_output = keras.layers.Dense(1,activation='sigmoid')(importance_x)\n",
        "\n",
        "\n",
        "#   text_input = keras.layers.Input(shape=(None, text_timestep))\n",
        "#   # text_xs = list()\n",
        "\n",
        "#   # for i in range(text_input.shape[0]):\n",
        "#   #   text_xs.append(text_input[i])\n",
        "#   #   text_xs[i] = text_embedding(text_xs[i])\n",
        "#   #   text_xs[i] = text_lstm(text_xs[i])\n",
        "#   # text_x = keras.layers.Average([text_xs])\n",
        "#   # text_output = keras.layers.Dense(1, activation='sigmoid')(text_x)\n",
        "\n",
        "#   text_input = keras.layers.Input(shape=(text_timestep,))\n",
        "#   text_embedding = keras.layers.Embedding(max_vocab_size, 128, input_length=text_timestep)\n",
        "#   text_x = text_embedding(text_input)\n",
        "#   text_lstm = keras.layers.LSTM(64, dropout=dropout_p)\n",
        "#   text_x = text_lstm(text_x)\n",
        "#   text_output = keras.layers.Dense(1, activation='sigmoid')(text_x)\n",
        "\n",
        "\n",
        "#   social_input = keras.layers.Input(shape=(4, social_features))\n",
        "#   cnn_x = keras.layers.Conv1D(filters=64, kernel_size=kernel_size, padding='same', activation='relu')(social_input)\n",
        "#   cnn_x = keras.layers.Dropout(dropout_p)(cnn_x)\n",
        "#   cnn_x = keras.layers.Dense(64, activation='relu')(cnn_x)\n",
        "#   cnn_output = keras.layers.Dense(1, activation='sigmoid')(cnn_x)[:,:,0]\n",
        "\n",
        "#   lstm_x = keras.layers.LSTM(64, dropout=dropout_p)(social_input)\n",
        "#   lstm_output = keras.layers.Dense(1, activation='sigmoid')(lstm_x)\n",
        "\n",
        "#   social_x = cnn_x if use_cnn else lstm_x\n",
        "#   social_output = cnn_output if use_cnn else lstm_output\n",
        "\n",
        "#   ensemble_output = keras.layers.Dense(1, activation='sigmoid')(keras.layers.concatenate([importance_output, text_output, social_output]))\n",
        "\n",
        "#   return keras.Model(inputs=[importance_input, text_input, social_input], outputs=[importance_output, text_output, social_output, ensemble_output])"
      ],
      "metadata": {
        "id": "rSxHuyeOVGfn"
      },
      "execution_count": null,
      "outputs": []
    },
    {
      "cell_type": "code",
      "source": [],
      "metadata": {
        "id": "5E6fxlF8wTsV"
      },
      "execution_count": null,
      "outputs": []
    },
    {
      "cell_type": "code",
      "source": [
        "# train social model using social data\n",
        "# train text model using text data\n",
        "# train importance model using importance data\n",
        "\n",
        "# test with a dataset that has social, text, importance\n",
        "\n",
        "# ensemble the results of the 3 models\n",
        "\n",
        "# models ="
      ],
      "metadata": {
        "id": "nY7dk4-HAAPt"
      },
      "execution_count": null,
      "outputs": []
    }
  ]
}