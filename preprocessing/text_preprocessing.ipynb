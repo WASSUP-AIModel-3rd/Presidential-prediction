{
 "cells": [
  {
   "cell_type": "code",
   "execution_count": 1,
   "metadata": {},
   "outputs": [],
   "source": [
    "import pandas as pd\n",
    "import glob\n",
    "import random\n",
    "import numpy as np\n",
    "import pickle\n",
    "\n",
    "import matplotlib.pyplot as plt\n",
    "import ast\n",
    "from wordcloud import WordCloud\n",
    "import re\n",
    "\n",
    "import nltk\n",
    "from nltk.corpus import stopwords\n",
    "from nltk.tokenize import word_tokenize\n",
    "\n",
    "import gensim\n",
    "from gensim import corpora"
   ]
  },
  {
   "cell_type": "code",
   "execution_count": 2,
   "metadata": {},
   "outputs": [],
   "source": [
    "np.random.seed = 42\n",
    "random.seed = 42"
   ]
  },
  {
   "cell_type": "code",
   "execution_count": null,
   "metadata": {},
   "outputs": [],
   "source": [
    "path = '../data/'"
   ]
  },
  {
   "cell_type": "markdown",
   "metadata": {},
   "source": [
    "## 후보/연도별로 연설 합치기"
   ]
  },
  {
   "cell_type": "code",
   "execution_count": null,
   "metadata": {},
   "outputs": [],
   "source": [
    "df = None\n",
    "for file in glob.glob(path+'to_preprocess/*'):\n",
    "    df_curr = pd.read_csv(file, index_col=0)\n",
    "    df_curr[\"Year\"] = int(file.split(\"\\\\\")[-1][0:4])\n",
    "    if df is None:\n",
    "        df = df_curr\n",
    "    else:\n",
    "        df = pd.concat([df,df_curr])\n",
    "\n",
    "\n",
    "#ValueError: invalid literal for int() with base 10: 'Nomi' 나와도 정상(맨마지막 파일이라 실질 영향 X고 미포함한게 맞음)"
   ]
  },
  {
   "cell_type": "code",
   "execution_count": null,
   "metadata": {},
   "outputs": [],
   "source": [
    "df"
   ]
  },
  {
   "cell_type": "markdown",
   "metadata": {},
   "source": [
    "## 연도 분포 확인"
   ]
  },
  {
   "cell_type": "code",
   "execution_count": null,
   "metadata": {},
   "outputs": [],
   "source": [
    "\n",
    "\n",
    "fig, ax = plt.subplots()\n",
    "\n",
    "df.groupby(\"Year\")[\"Year\"].value_counts().plot.bar(ax=ax)\n",
    "# ax.hist(df[\"Year\"], bins=range(1920,2024,4))"
   ]
  },
  {
   "cell_type": "code",
   "execution_count": null,
   "metadata": {},
   "outputs": [],
   "source": []
  },
  {
   "cell_type": "markdown",
   "metadata": {},
   "source": [
    "## 후보별 분포 확인"
   ]
  },
  {
   "cell_type": "code",
   "execution_count": null,
   "metadata": {},
   "outputs": [],
   "source": [
    "fig, ax = plt.subplots(figsize=(10,10))\n",
    "\n",
    "df.groupby(\"name\")[\"name\"].value_counts().plot.bar(ax=ax)\n",
    "# ax.hist(df[\"name\"])\n",
    "ax.set_xticks(ax.get_xticks())\n",
    "ax.set_xticklabels(ax.get_xticklabels(), rotation=45, ha='right')\n",
    "\n",
    "plt.show()"
   ]
  },
  {
   "cell_type": "code",
   "execution_count": null,
   "metadata": {},
   "outputs": [],
   "source": [
    "df[\"joined_speech\"] = df[\"speech\"].apply(lambda l: ' '.join(ast.literal_eval(l)))"
   ]
  },
  {
   "cell_type": "markdown",
   "metadata": {},
   "source": [
    "## 길이 분포 확인"
   ]
  },
  {
   "cell_type": "code",
   "execution_count": null,
   "metadata": {},
   "outputs": [],
   "source": [
    "fig, ax = plt.subplots()\n",
    "\n",
    "ax.hist(df[\"joined_speech\"].apply(lambda l: len(l.split(' '))))"
   ]
  },
  {
   "cell_type": "code",
   "execution_count": null,
   "metadata": {},
   "outputs": [],
   "source": [
    "df.info()"
   ]
  },
  {
   "cell_type": "code",
   "execution_count": null,
   "metadata": {},
   "outputs": [],
   "source": [
    "\n",
    "ast.literal_eval(df[\"speech\"].values[0])"
   ]
  },
  {
   "cell_type": "markdown",
   "metadata": {},
   "source": [
    "## WordCloud"
   ]
  },
  {
   "cell_type": "code",
   "execution_count": null,
   "metadata": {},
   "outputs": [],
   "source": [
    "# !conda install wordcloud -y\n",
    "\n",
    "\n",
    "df_test = pd.read_csv(path+'orig/2020_Trump_speech.csv', index_col=0)\n",
    "\n",
    "speeches = list(map(lambda l: ' '.join(ast.literal_eval(l)), df_test[\"speech\"].values))\n",
    "\n",
    "\n",
    "\n",
    "speeches_processed = list()\n",
    "for word in speeches:\n",
    "    if word not in stop_words_list:\n",
    "        speeches_processed.append(word)\n",
    "\n",
    "speeches_combined = ' '.join(speeches_processed)"
   ]
  },
  {
   "cell_type": "code",
   "execution_count": null,
   "metadata": {},
   "outputs": [],
   "source": [
    "wordcloud = WordCloud(\n",
    "    background_color = 'black',\n",
    "    width = 1000, height = 500).generate(speeches_combined)\n",
    "plt.figure(figsize = (15, 10))\n",
    "plt.imshow(wordcloud)\n",
    "plt.axis('off')\n",
    "plt.draw()"
   ]
  },
  {
   "cell_type": "code",
   "execution_count": null,
   "metadata": {},
   "outputs": [],
   "source": [
    "df_test = pd.read_csv(path+'to_preprocess/2020_Biden_speech_edited.csv', index_col=0)"
   ]
  },
  {
   "cell_type": "code",
   "execution_count": null,
   "metadata": {},
   "outputs": [],
   "source": [
    "speeches = list(map(lambda l: ' '.join(ast.literal_eval(l)), df_test[\"speech\"].values))\n",
    "\n",
    "speeches_combined = ' '.join(speeches)\n",
    "\n",
    "speeches_processed = list()\n",
    "for word in speeches:\n",
    "    if word not in stop_words_list:\n",
    "        speeches_processed.append(word)\n",
    "\n",
    "speeches_combined = ' '.join(speeches_processed)"
   ]
  },
  {
   "cell_type": "code",
   "execution_count": null,
   "metadata": {},
   "outputs": [],
   "source": [
    "wordcloud = WordCloud(\n",
    "    background_color = 'black',\n",
    "    width = 1000, height = 500).generate(speeches_combined)\n",
    "plt.figure(figsize = (15, 10))\n",
    "plt.imshow(wordcloud)\n",
    "plt.axis('off')\n",
    "plt.draw()"
   ]
  },
  {
   "cell_type": "markdown",
   "metadata": {},
   "source": [
    "## LDA"
   ]
  },
  {
   "cell_type": "code",
   "execution_count": null,
   "metadata": {},
   "outputs": [],
   "source": [
    "\n",
    "lambda x: re.sub('[,\\.!?]','',x)\n",
    "\n",
    "lambda x: x.lower()\n",
    "\n"
   ]
  },
  {
   "cell_type": "code",
   "execution_count": null,
   "metadata": {},
   "outputs": [],
   "source": [
    "import gensim\n",
    "from gensim_utils import simple_preprocess\n",
    "import nltk\n"
   ]
  },
  {
   "cell_type": "code",
   "execution_count": null,
   "metadata": {},
   "outputs": [],
   "source": [
    "# !conda install nltk -y\n",
    "\n",
    "# nltk.download('stopwords')\n",
    "# nltk.download(\"punkt\")\n",
    "stop_words_list = stopwords.words('english')"
   ]
  },
  {
   "cell_type": "code",
   "execution_count": null,
   "metadata": {},
   "outputs": [],
   "source": [
    "len(stop_words_list)"
   ]
  },
  {
   "cell_type": "code",
   "execution_count": null,
   "metadata": {},
   "outputs": [],
   "source": [
    "df[\"speech_whole\"] = df[\"speech\"].apply(lambda l: ' '.join(ast.literal_eval(l)))\n",
    "# ast.literal_eval(df[\"speech\"].values[0])"
   ]
  },
  {
   "cell_type": "code",
   "execution_count": null,
   "metadata": {},
   "outputs": [],
   "source": [
    "def filter_stopwords(token_list):\n",
    "    filtered_list = list()\n",
    "    for token in token_list:\n",
    "        if token not in stop_words_list:\n",
    "            filtered_list.append(token)\n",
    "    return filtered_list"
   ]
  },
  {
   "cell_type": "code",
   "execution_count": null,
   "metadata": {},
   "outputs": [],
   "source": [
    "def filter_externals(string):\n",
    "    # externals_list = ['[applause]', '(applause)']\n",
    "    # for external in externals_list:\n",
    "    #     string = string.replace(external, '')\n",
    "    string = re.sub('\\s*\\[[^]]*\\]', '', string)\n",
    "    string = re.sub('\\s*\\([^)]*\\)', '', string)\n",
    "    string = re.sub('\\s*\\([^]]*\\]', '', string)\n",
    "    string = re.sub('\\s*\\[[^)]*\\)', '', string)\n",
    "    return string"
   ]
  },
  {
   "cell_type": "code",
   "execution_count": null,
   "metadata": {},
   "outputs": [],
   "source": [
    "def filter_nonwords(string):\n",
    "    out = string\n",
    "    out = re.sub('[-–—–;\\.!?]', ' ', out)\n",
    "    out = re.sub('[,\"\\'`]','', out)\n",
    "    out = re.sub('[^a-zA-Z0-9\\s\\-_./]','', out)\n",
    "    out = out.lower()\n",
    "    return out"
   ]
  },
  {
   "cell_type": "code",
   "execution_count": null,
   "metadata": {},
   "outputs": [],
   "source": [
    "# 청중 호응 부분 제거\n",
    "\n",
    "df[\"speech_processed\"] = df[\"speech_whole\"].apply(filter_externals)"
   ]
  },
  {
   "cell_type": "code",
   "execution_count": null,
   "metadata": {},
   "outputs": [],
   "source": [
    "# for idx, speech in enumerate(df[\"speech_processed\"].values):\n",
    "#     found_idx = speech.find(\"applause\")\n",
    "#     if found_idx != -1:\n",
    "#         print(speech[found_idx-50:found_idx+15])"
   ]
  },
  {
   "cell_type": "code",
   "execution_count": null,
   "metadata": {},
   "outputs": [],
   "source": [
    "#문법요소 제거\n",
    "\n",
    "df[\"speech_processed\"] = df[\"speech_processed\"].apply(filter_nonwords)"
   ]
  },
  {
   "cell_type": "code",
   "execution_count": null,
   "metadata": {},
   "outputs": [],
   "source": [
    "#다른 토큰화 방식 사용할 경우\n",
    "# from nltk.tokenize.treebank import TreebankWordTokenizer\n",
    "# t = TreebankWordTokenizer()\n",
    "\n",
    "# df[\"speech_processed\"] = df[\"speech_processed\"].apply(t.tokenize)\n",
    "\n",
    "df[\"speech_processed\"] = df[\"speech_processed\"].apply(word_tokenize)"
   ]
  },
  {
   "cell_type": "code",
   "execution_count": null,
   "metadata": {},
   "outputs": [],
   "source": [
    "#기본 불용어 제거\n",
    "\n",
    "df[\"speech_processed\"] = df[\"speech_processed\"].apply(filter_stopwords)"
   ]
  },
  {
   "cell_type": "code",
   "execution_count": null,
   "metadata": {},
   "outputs": [],
   "source": [
    "# !conda install gensim -y\n",
    "\n",
    "dictionary = corpora.Dictionary(df[\"speech_processed\"])\n",
    "\n",
    "corpus = [dictionary.doc2bow(text) for text in df[\"speech_processed\"]]"
   ]
  },
  {
   "cell_type": "code",
   "execution_count": null,
   "metadata": {},
   "outputs": [],
   "source": [
    "# 잘못된 단어 있나 확인\n",
    "# words = list(dictionary.values())\n",
    "# words.sort(key=lambda x:len(x), reverse=True)\n",
    "# words"
   ]
  },
  {
   "cell_type": "code",
   "execution_count": null,
   "metadata": {},
   "outputs": [],
   "source": [
    "n_topics = 15\n",
    "lda_model = gensim.models.ldamodel.LdaModel(corpus, num_topics=n_topics, id2word=dictionary, passes=15, random_state=42)\n",
    "topics = lda_model.print_topics(num_words=5)\n",
    "\n",
    "for topic in topics:\n",
    "    print(topic)"
   ]
  },
  {
   "cell_type": "code",
   "execution_count": null,
   "metadata": {},
   "outputs": [],
   "source": [
    "n_topics = 20\n",
    "lda_model = gensim.models.ldamodel.LdaModel(corpus, num_topics=n_topics, id2word=dictionary, passes=15, random_state=42)\n",
    "topics = lda_model.print_topics(num_words=5)\n",
    "\n",
    "for topic in topics:\n",
    "    print(topic)"
   ]
  },
  {
   "cell_type": "code",
   "execution_count": null,
   "metadata": {},
   "outputs": [],
   "source": [
    "topics = lda_model.print_topics(num_words=10)\n",
    "\n",
    "for topic in topics:\n",
    "    print(topic)"
   ]
  },
  {
   "cell_type": "code",
   "execution_count": null,
   "metadata": {},
   "outputs": [],
   "source": [
    "for i, topic_list in enumerate(lda_model[corpus]):\n",
    "    print(i,'번째 문서의 topic 비율은',topic_list)"
   ]
  },
  {
   "cell_type": "code",
   "execution_count": null,
   "metadata": {},
   "outputs": [],
   "source": []
  },
  {
   "cell_type": "markdown",
   "metadata": {},
   "source": [
    "## Calculate TF-IDF"
   ]
  },
  {
   "cell_type": "code",
   "execution_count": null,
   "metadata": {},
   "outputs": [],
   "source": [
    "from sklearn.feature_extraction.text import TfidfVectorizer\n",
    "\n",
    "\n",
    "v = TfidfVectorizer(use_idf=True)\n",
    "\n",
    "\n",
    "x = v.fit_transform(df[\"speech_processed\"].apply(lambda x: ' '.join(x)))"
   ]
  },
  {
   "cell_type": "code",
   "execution_count": null,
   "metadata": {},
   "outputs": [],
   "source": [
    "v.vocabulary_"
   ]
  },
  {
   "cell_type": "code",
   "execution_count": null,
   "metadata": {},
   "outputs": [],
   "source": [
    "x.mean(axis=0)\n",
    "# x.shape"
   ]
  },
  {
   "cell_type": "code",
   "execution_count": null,
   "metadata": {},
   "outputs": [],
   "source": [
    "from tqdm import tqdm\n",
    "tfidf_list = list()\n",
    "for key, val in tqdm(v.vocabulary_.items()):\n",
    "    tfidf_list.append((key, x.mean(axis=0)[0,val]))"
   ]
  },
  {
   "cell_type": "code",
   "execution_count": null,
   "metadata": {},
   "outputs": [],
   "source": [
    "len(tfidf_list)"
   ]
  },
  {
   "cell_type": "code",
   "execution_count": null,
   "metadata": {},
   "outputs": [],
   "source": [
    "tfidf_list.sort(key=lambda x: x[1], reverse=True)"
   ]
  },
  {
   "cell_type": "code",
   "execution_count": null,
   "metadata": {},
   "outputs": [],
   "source": [
    "tfidf_list[0:10]"
   ]
  },
  {
   "cell_type": "code",
   "execution_count": null,
   "metadata": {},
   "outputs": [],
   "source": [
    "tfidf_list[-10:]"
   ]
  },
  {
   "cell_type": "markdown",
   "metadata": {},
   "source": [
    "## Calculate IDF"
   ]
  },
  {
   "cell_type": "code",
   "execution_count": null,
   "metadata": {},
   "outputs": [],
   "source": [
    "idf = v.idf_\n",
    "\n",
    "from tqdm import tqdm\n",
    "idf_list = list()\n",
    "for key, val in tqdm(v.vocabulary_.items()):\n",
    "    idf_list.append((key, idf[val]))\n",
    "\n",
    "idf_list.sort(key=lambda x: x[1], reverse=True)"
   ]
  },
  {
   "cell_type": "code",
   "execution_count": null,
   "metadata": {},
   "outputs": [],
   "source": [
    "idf_list[-50:]"
   ]
  },
  {
   "cell_type": "code",
   "execution_count": null,
   "metadata": {},
   "outputs": [],
   "source": [
    "# import pickle\n",
    "# with open(\"./data/idflist\",\"wb\") as fp:\n",
    "#     pickle.dump(idf_list, fp)"
   ]
  },
  {
   "cell_type": "markdown",
   "metadata": {},
   "source": [
    "## 2차 정제본"
   ]
  },
  {
   "cell_type": "code",
   "execution_count": 3,
   "metadata": {},
   "outputs": [],
   "source": [
    "with open(path+\"idflist\",\"rb\") as fp:\n",
    "    idf_list = pickle.load(fp)[-50:]\n",
    "\n",
    "# len(filter_words)"
   ]
  },
  {
   "cell_type": "code",
   "execution_count": 4,
   "metadata": {},
   "outputs": [],
   "source": [
    "filter_words = list()\n",
    "for idf in idf_list[-50:]:\n",
    "    filter_words.append(idf[0])"
   ]
  },
  {
   "cell_type": "code",
   "execution_count": 14,
   "metadata": {},
   "outputs": [
    {
     "data": {
      "text/plain": [
       "[('take', 1.411317026676103),\n",
       " ('year', 1.4068125145549983),\n",
       " ('americans', 1.4041195147228065),\n",
       " ('better', 1.4018808748803493),\n",
       " ('dont', 1.4005400925565843),\n",
       " ('also', 1.3996472353544118),\n",
       " ('need', 1.3960837571960234),\n",
       " ('right', 1.3912046168890075),\n",
       " ('back', 1.381517178733318),\n",
       " ('state', 1.3767084262974345),\n",
       " ('thank', 1.3710550083263349),\n",
       " ('help', 1.3680240469238998),\n",
       " ('said', 1.3671597426350046),\n",
       " ('go', 1.3650022444949834),\n",
       " ('get', 1.361130439270998),\n",
       " ('government', 1.357701374616481),\n",
       " ('much', 1.3419931339857256),\n",
       " ('think', 1.3411510286728034),\n",
       " ('work', 1.3394689424898185),\n",
       " ('like', 1.3331861993103233),\n",
       " ('believe', 1.3298514734188702),\n",
       " ('last', 1.322801890004607),\n",
       " ('many', 1.3162120803255513),\n",
       " ('come', 1.3158016555301328),\n",
       " ('good', 1.3153913991141222),\n",
       " ('well', 1.3121153929082214),\n",
       " ('say', 1.309665412099237),\n",
       " ('way', 1.309665412099237),\n",
       " ('going', 1.29228070096972),\n",
       " ('first', 1.2918799796660208),\n",
       " ('world', 1.2902786982990468),\n",
       " ('united', 1.2759813935982225),\n",
       " ('america', 1.2685172065175343),\n",
       " ('would', 1.2650008911147783),\n",
       " ('every', 1.2634420443454872),\n",
       " ('new', 1.2622745018894495),\n",
       " ('want', 1.2525976313313585),\n",
       " ('states', 1.240346329550838),\n",
       " ('know', 1.2376862481798763),\n",
       " ('great', 1.2346547945510498),\n",
       " ('today', 1.2218726656349865),\n",
       " ('make', 1.2188887022123738),\n",
       " ('american', 1.2088830600950529),\n",
       " ('president', 1.2004379942992576),\n",
       " ('time', 1.1826806877010287),\n",
       " ('years', 1.1823215567939547),\n",
       " ('us', 1.1773072196398855),\n",
       " ('one', 1.1631175526823678),\n",
       " ('country', 1.152954507435828),\n",
       " ('people', 1.106291862186031)]"
      ]
     },
     "execution_count": 14,
     "metadata": {},
     "output_type": "execute_result"
    }
   ],
   "source": [
    "idf_list[-50:]"
   ]
  },
  {
   "cell_type": "code",
   "execution_count": 17,
   "metadata": {},
   "outputs": [],
   "source": [
    "filter_words = list()\n",
    "for idf in idf_list[-50:]:\n",
    "    filter_words.append(idf[0])\n",
    "\n",
    "filter_val = list()\n",
    "for idf in idf_list[-50:]:\n",
    "    filter_val.append(idf[1])"
   ]
  },
  {
   "cell_type": "code",
   "execution_count": 31,
   "metadata": {},
   "outputs": [
    {
     "data": {
      "image/png": "[encoded data removed]",
      "text/plain": [
       "<Figure size 1600x500 with 1 Axes>"
      ]
     },
     "metadata": {},
     "output_type": "display_data"
    }
   ],
   "source": [
    "fig, ax = plt.subplots(figsize=(16,5))\n",
    "ax.plot(filter_words, filter_val)\n",
    "ax.set_xticks(ax.get_xticks())\n",
    "ax.set_xticklabels(ax.get_xticklabels(), rotation=45, ha='right', fontsize=15)\n",
    "plt.show()"
   ]
  },
  {
   "cell_type": "code",
   "execution_count": 5,
   "metadata": {},
   "outputs": [
    {
     "data": {
      "text/plain": [
       "['take',\n",
       " 'year',\n",
       " 'americans',\n",
       " 'better',\n",
       " 'dont',\n",
       " 'also',\n",
       " 'need',\n",
       " 'right',\n",
       " 'back',\n",
       " 'state',\n",
       " 'thank',\n",
       " 'help',\n",
       " 'said',\n",
       " 'go',\n",
       " 'get',\n",
       " 'government',\n",
       " 'much',\n",
       " 'think',\n",
       " 'work',\n",
       " 'like',\n",
       " 'believe',\n",
       " 'last',\n",
       " 'many',\n",
       " 'come',\n",
       " 'good',\n",
       " 'well',\n",
       " 'say',\n",
       " 'way',\n",
       " 'going',\n",
       " 'first',\n",
       " 'world',\n",
       " 'united',\n",
       " 'america',\n",
       " 'would',\n",
       " 'every',\n",
       " 'new',\n",
       " 'want',\n",
       " 'states',\n",
       " 'know',\n",
       " 'great',\n",
       " 'today',\n",
       " 'make',\n",
       " 'american',\n",
       " 'president',\n",
       " 'time',\n",
       " 'years',\n",
       " 'us',\n",
       " 'one',\n",
       " 'country',\n",
       " 'people']"
      ]
     },
     "execution_count": 5,
     "metadata": {},
     "output_type": "execute_result"
    }
   ],
   "source": [
    "filter_words"
   ]
  },
  {
   "cell_type": "code",
   "execution_count": null,
   "metadata": {},
   "outputs": [],
   "source": [
    "import ast\n",
    "def filter_lowidf(token_list):\n",
    "    token_list = ast.literal_eval(token_list)\n",
    "    filtered_list = list()\n",
    "\n",
    "    for token in token_list:\n",
    "        if token not in filter_words:\n",
    "            filtered_list.append(token)\n",
    "    return filtered_list"
   ]
  },
  {
   "cell_type": "code",
   "execution_count": null,
   "metadata": {},
   "outputs": [],
   "source": [
    "df[\"speech_processed2\"] = df[\"speech_processed\"].apply(filter_lowidf)"
   ]
  },
  {
   "cell_type": "code",
   "execution_count": null,
   "metadata": {},
   "outputs": [],
   "source": [
    "df.to_csv(path+\"speech_combined.csv\")"
   ]
  },
  {
   "cell_type": "markdown",
   "metadata": {},
   "source": [
    "## 2차 정제본으로 LDA"
   ]
  },
  {
   "cell_type": "code",
   "execution_count": null,
   "metadata": {},
   "outputs": [],
   "source": [
    "df= pd.read_csv(path+\"text_features.csv\", index_col=0)\n",
    "df_2024 = pd.read_csv(path+\"2024_text_features.csv\", index_col=0)"
   ]
  },
  {
   "cell_type": "code",
   "execution_count": null,
   "metadata": {},
   "outputs": [],
   "source": [
    "df[\"speech_processed2\"] = df[\"speech_processed2\"].apply(ast.literal_eval)"
   ]
  },
  {
   "cell_type": "code",
   "execution_count": null,
   "metadata": {},
   "outputs": [],
   "source": [
    "df_2024[\"speech_processed2\"] = df_2024[\"speech_processed2\"].apply(ast.literal_eval)"
   ]
  },
  {
   "cell_type": "code",
   "execution_count": null,
   "metadata": {},
   "outputs": [],
   "source": [
    "# !conda install gensim -y\n",
    "\n",
    "dictionary = corpora.Dictionary(df[\"speech_processed2\"])\n",
    "\n",
    "corpus = [dictionary.doc2bow(text) for text in df[\"speech_processed2\"]]"
   ]
  },
  {
   "cell_type": "code",
   "execution_count": null,
   "metadata": {},
   "outputs": [],
   "source": [
    "n_topics = 20\n",
    "lda_model = gensim.models.ldamodel.LdaModel(corpus, num_topics=n_topics, id2word=dictionary, passes=15, random_state=42)\n",
    "topics = lda_model.print_topics(num_words=5)\n",
    "\n",
    "for topic in topics:\n",
    "    print(topic)"
   ]
  },
  {
   "cell_type": "markdown",
   "metadata": {},
   "source": [
    "## Ablation: LDA 기반 중요도 피쳐"
   ]
  },
  {
   "cell_type": "code",
   "execution_count": 3,
   "metadata": {},
   "outputs": [],
   "source": [
    "df_all = pd.read_csv(path+\"debate_combined_ver2.csv\", index_col=0)\n",
    "df_2024 = pd.read_csv(path+\"2024_combined.csv\", index_col=0)"
   ]
  },
  {
   "cell_type": "code",
   "execution_count": null,
   "metadata": {},
   "outputs": [],
   "source": [
    "# df_all[\"speech_processed2\"] = df_all[\"speech_processed2\"].apply(ast.literal_eval)\n",
    "# df_2024[\"speech_processed2\"] = df_2024[\"speech_processed2\"].apply(ast.literal_eval)"
   ]
  },
  {
   "cell_type": "code",
   "execution_count": 5,
   "metadata": {},
   "outputs": [],
   "source": [
    "# !conda install gensim -y\n",
    "\n",
    "dictionary = corpora.Dictionary(df_all[\"speech_processed2\"].apply(ast.literal_eval))\n",
    "\n",
    "corpus = [dictionary.doc2bow(text) for text in df_all[\"speech_processed2\"].apply(ast.literal_eval)]"
   ]
  },
  {
   "cell_type": "code",
   "execution_count": 6,
   "metadata": {},
   "outputs": [
    {
     "name": "stdout",
     "output_type": "stream",
     "text": [
      "(0, '0.010*\"peace\" + 0.009*\"must\" + 0.008*\"things\" + 0.007*\"friends\" + 0.006*\"war\" + 0.006*\"freedom\" + 0.006*\"tell\" + 0.006*\"thats\" + 0.005*\"progress\" + 0.005*\"strength\"')\n",
      "(1, '0.014*\"energy\" + 0.012*\"health\" + 0.010*\"care\" + 0.010*\"oil\" + 0.008*\"jobs\" + 0.006*\"economy\" + 0.006*\"workers\" + 0.005*\"plan\" + 0.004*\"costs\" + 0.004*\"families\"')\n",
      "(2, '0.010*\"thats\" + 0.009*\"im\" + 0.006*\"got\" + 0.006*\"theyre\" + 0.005*\"trump\" + 0.005*\"see\" + 0.005*\"really\" + 0.005*\"lot\" + 0.005*\"care\" + 0.004*\"look\"')\n",
      "(3, '0.008*\"federal\" + 0.007*\"must\" + 0.005*\"economic\" + 0.005*\"national\" + 0.005*\"public\" + 0.005*\"business\" + 0.005*\"upon\" + 0.004*\"administration\" + 0.004*\"system\" + 0.004*\"nation\"')\n",
      "(4, '0.011*\"let\" + 0.010*\"congress\" + 0.009*\"next\" + 0.008*\"inflation\" + 0.007*\"2\" + 0.006*\"percent\" + 0.006*\"peace\" + 0.006*\"months\" + 0.006*\"tax\" + 0.005*\"4\"')\n",
      "(5, '0.014*\"war\" + 0.013*\"must\" + 0.006*\"iraq\" + 0.005*\"security\" + 0.005*\"military\" + 0.004*\"never\" + 0.003*\"nation\" + 0.003*\"veterans\" + 0.003*\"americas\" + 0.003*\"fight\"')\n",
      "(6, '0.011*\"education\" + 0.011*\"children\" + 0.008*\"school\" + 0.008*\"college\" + 0.008*\"4\" + 0.007*\"million\" + 0.007*\"century\" + 0.007*\"build\" + 0.006*\"give\" + 0.006*\"future\"')\n",
      "(7, '0.006*\"must\" + 0.006*\"rights\" + 0.004*\"law\" + 0.004*\"justice\" + 0.004*\"children\" + 0.004*\"life\" + 0.004*\"community\" + 0.004*\"nation\" + 0.003*\"faith\" + 0.003*\"public\"')\n",
      "(8, '0.015*\"tax\" + 0.012*\"jobs\" + 0.011*\"thats\" + 0.010*\"economy\" + 0.008*\"plan\" + 0.007*\"taxes\" + 0.007*\"health\" + 0.007*\"senator\" + 0.006*\"washington\" + 0.006*\"care\"')\n",
      "(9, '0.020*\"governor\" + 0.015*\"carter\" + 0.010*\"q\" + 0.007*\"percent\" + 0.005*\"federal\" + 0.005*\"congress\" + 0.005*\"ought\" + 0.005*\"tax\" + 0.004*\"georgia\" + 0.004*\"unemployment\"')\n",
      "(10, '0.011*\"man\" + 0.010*\"peace\" + 0.010*\"best\" + 0.009*\"senate\" + 0.009*\"love\" + 0.009*\"john\" + 0.008*\"see\" + 0.007*\"governor\" + 0.006*\"somebody\" + 0.006*\"working\"')\n",
      "(11, '0.014*\"mr\" + 0.009*\"party\" + 0.008*\"senator\" + 0.006*\"nixon\" + 0.006*\"kennedy\" + 0.006*\"freedom\" + 0.005*\"must\" + 0.005*\"democratic\" + 0.005*\"question\" + 0.004*\"next\"')\n",
      "(12, '0.017*\"republican\" + 0.016*\"democratic\" + 0.014*\"congress\" + 0.011*\"party\" + 0.011*\"farm\" + 0.009*\"farmers\" + 0.009*\"republicans\" + 0.008*\"vote\" + 0.006*\"program\" + 0.005*\"farmer\"')\n",
      "(13, '0.015*\"peace\" + 0.011*\"man\" + 0.010*\"nation\" + 0.009*\"tonight\" + 0.008*\"let\" + 0.007*\"men\" + 0.007*\"war\" + 0.006*\"young\" + 0.006*\"must\" + 0.005*\"friends\"')\n",
      "(14, '0.022*\"clinton\" + 0.018*\"hillary\" + 0.011*\"jobs\" + 0.007*\"trade\" + 0.006*\"crime\" + 0.005*\"percent\" + 0.004*\"immigration\" + 0.004*\"illegal\" + 0.004*\"ever\" + 0.004*\"law\"')\n",
      "(15, '0.009*\"im\" + 0.007*\"got\" + 0.007*\"health\" + 0.007*\"members\" + 0.006*\"weve\" + 0.006*\"audience\" + 0.005*\"care\" + 0.005*\"sure\" + 0.005*\"security\" + 0.005*\"hes\"')\n",
      "(16, '0.015*\"4\" + 0.010*\"nation\" + 0.008*\"audience\" + 0.006*\"reagan\" + 0.006*\"weve\" + 0.006*\"im\" + 0.006*\"future\" + 0.005*\"tax\" + 0.005*\"inflation\" + 0.005*\"ive\"')\n",
      "(17, '0.010*\"got\" + 0.010*\"clinton\" + 0.009*\"im\" + 0.009*\"governor\" + 0.009*\"dole\" + 0.009*\"tax\" + 0.008*\"let\" + 0.008*\"thats\" + 0.007*\"hes\" + 0.007*\"weve\"')\n",
      "(18, '0.024*\"mccain\" + 0.018*\"senator\" + 0.011*\"im\" + 0.009*\"clinton\" + 0.008*\"campaign\" + 0.007*\"lot\" + 0.006*\"sen\" + 0.006*\"thats\" + 0.005*\"got\" + 0.005*\"look\"')\n",
      "(19, '0.013*\"iraq\" + 0.009*\"nuclear\" + 0.007*\"iran\" + 0.007*\"israel\" + 0.006*\"troops\" + 0.006*\"security\" + 0.006*\"military\" + 0.006*\"weapons\" + 0.005*\"war\" + 0.005*\"got\"')\n"
     ]
    }
   ],
   "source": [
    "n_topics = 20\n",
    "lda_model = gensim.models.ldamodel.LdaModel(corpus, num_topics=n_topics, id2word=dictionary, passes=15, random_state=42)\n",
    "topics = lda_model.print_topics(num_words=10)\n",
    "\n",
    "for topic in topics:\n",
    "    print(topic)"
   ]
  },
  {
   "cell_type": "code",
   "execution_count": 7,
   "metadata": {},
   "outputs": [
    {
     "data": {
      "text/plain": [
       "20"
      ]
     },
     "execution_count": 7,
     "metadata": {},
     "output_type": "execute_result"
    }
   ],
   "source": [
    "topics = lda_model.print_topics(num_words=2)\n",
    "len(topics)"
   ]
  },
  {
   "cell_type": "code",
   "execution_count": 8,
   "metadata": {},
   "outputs": [],
   "source": [
    "# words = list(dictionary.values())\n",
    "# words.sort(key=lambda x:len(x), reverse=True)\n",
    "# words"
   ]
  },
  {
   "cell_type": "code",
   "execution_count": 9,
   "metadata": {},
   "outputs": [],
   "source": [
    "topics_refined = dict()\n",
    "# topics_refined[\"environment\"] = []\n",
    "topics_refined[\"economy\"] = [1,3,4,8]\n",
    "# topics_refined[\"diplomacy\"] = []\n",
    "# topics_refined[\"immigration\"] = []\n",
    "topics_refined[\"justice\"] = [7]\n",
    "topics_refined[\"education\"] = [6]\n",
    "# topics_refined[\"Healthcare\"] = []\n",
    "topics_refined[\"military\"] = [5,19]\n",
    "topics_refined[\"ideal\"] = [0,13]"
   ]
  },
  {
   "cell_type": "code",
   "execution_count": 10,
   "metadata": {},
   "outputs": [],
   "source": [
    "inference = lda_model.inference(corpus)\n",
    "topic_distr,_ = inference"
   ]
  },
  {
   "cell_type": "code",
   "execution_count": 11,
   "metadata": {},
   "outputs": [],
   "source": [
    "for topic, columns in topics_refined.items():\n",
    "  # print(topic_distr[:,columns])\n",
    "  df_all[f\"{topic}_importance\"] = topic_distr[:,columns].sum(axis=1)"
   ]
  },
  {
   "cell_type": "code",
   "execution_count": 13,
   "metadata": {},
   "outputs": [],
   "source": [
    "dictionary_2024 = corpora.Dictionary(df_2024[\"speech_processed2\"].apply(ast.literal_eval))\n",
    "\n",
    "corpus_2024 = [dictionary.doc2bow(text) for text in df_2024[\"speech_processed2\"].apply(ast.literal_eval)\n",
    "]\n",
    "inference_2024 = lda_model.inference(corpus_2024)\n",
    "topic_distr_2024,_ = inference_2024"
   ]
  },
  {
   "cell_type": "code",
   "execution_count": 14,
   "metadata": {},
   "outputs": [],
   "source": [
    "for topic, columns in topics_refined.items():\n",
    "  # print(topic_distr[:,columns])\n",
    "  df_2024[f\"{topic}_importance\"] = topic_distr_2024[:,columns].sum(axis=1)"
   ]
  },
  {
   "cell_type": "code",
   "execution_count": 15,
   "metadata": {},
   "outputs": [],
   "source": [
    "df_all = df_all.drop(\"speech_processed\",axis=1)\n",
    "df_2024 = df_2024.drop(\"speech_processed\",axis=1)"
   ]
  },
  {
   "cell_type": "code",
   "execution_count": 16,
   "metadata": {},
   "outputs": [],
   "source": [
    "df_all.to_csv(path+'text_features_LDA.csv')\n",
    "df_2024.to_csv(path+'2024_text_features_LDA.csv')"
   ]
  },
  {
   "cell_type": "code",
   "execution_count": null,
   "metadata": {},
   "outputs": [],
   "source": [
    "df_all.iloc[34]"
   ]
  },
  {
   "cell_type": "code",
   "execution_count": null,
   "metadata": {},
   "outputs": [],
   "source": [
    "import pandas as pd\n",
    "df_all = pd.read_csv(path+'text_features_LDA.csv', index_col=0)"
   ]
  },
  {
   "cell_type": "code",
   "execution_count": null,
   "metadata": {},
   "outputs": [],
   "source": [
    "df_all.iloc[34]"
   ]
  },
  {
   "cell_type": "code",
   "execution_count": null,
   "metadata": {},
   "outputs": [],
   "source": [
    "topic_distr[:,[1,2]]"
   ]
  },
  {
   "cell_type": "code",
   "execution_count": null,
   "metadata": {},
   "outputs": [],
   "source": [
    "for i, topic_list in enumerate(lda_model[corpus]):\n",
    "    print(i,'번째 문서의 topic 비율은',topic_list)"
   ]
  }
 ],
 "metadata": {
  "kernelspec": {
   "display_name": "Python 3",
   "language": "python",
   "name": "python3"
  },
  "language_info": {
   "codemirror_mode": {
    "name": "ipython",
    "version": 3
   },
   "file_extension": ".py",
   "mimetype": "text/x-python",
   "name": "python",
   "nbconvert_exporter": "python",
   "pygments_lexer": "ipython3",
   "version": "3.10.13"
  }
 },
 "nbformat": 4,
 "nbformat_minor": 2
}
